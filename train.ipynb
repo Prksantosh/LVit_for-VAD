{
 "cells": [
  {
   "cell_type": "code",
   "execution_count": 1,
   "id": "ebefe38d",
   "metadata": {},
   "outputs": [
    {
     "name": "stderr",
     "output_type": "stream",
     "text": [
      "C:\\Users\\uceti\\anaconda3\\envs\\CUDA-pytorch\\lib\\site-packages\\tqdm\\auto.py:22: TqdmWarning: IProgress not found. Please update jupyter and ipywidgets. See https://ipywidgets.readthedocs.io/en/stable/user_install.html\n",
      "  from .autonotebook import tqdm as notebook_tqdm\n"
     ]
    }
   ],
   "source": [
    "import torch\n",
    "import torch.nn as nn\n",
    "import torch.optim as optim\n",
    "import torch.nn.functional as F\n",
    "from torch.utils.data import Dataset, DataLoader\n",
    "from torchvision import transforms\n",
    "from PIL import Image\n",
    "import os\n",
    "import numpy as np\n",
    "from einops import rearrange\n",
    "from tqdm import tqdm\n",
    "from pytorch_msssim import ssim\n",
    "from torchsummary import summary"
   ]
  },
  {
   "cell_type": "code",
   "execution_count": 2,
   "id": "a4bb3b64",
   "metadata": {},
   "outputs": [],
   "source": [
    "import torch\n",
    "import torch.nn as nn\n",
    "import torch.nn.functional as F\n",
    "from einops import rearrange\n",
    "\n",
    "class EfficientAttention(nn.Module):\n",
    "    def __init__(self, embed_dim, num_heads=8, dropout=0.1):\n",
    "        super().__init__()\n",
    "        self.embed_dim = embed_dim\n",
    "        self.num_heads = num_heads\n",
    "        self.head_dim = embed_dim // num_heads\n",
    "        self.qkv_proj = nn.Linear(embed_dim, embed_dim * 3)\n",
    "        self.out_proj = nn.Linear(embed_dim, embed_dim)\n",
    "        self.dropout = nn.Dropout(dropout)\n",
    "        self.scale = self.head_dim ** -0.5\n",
    "\n",
    "    def forward(self, x):\n",
    "        B, N, C = x.shape\n",
    "        qkv = self.qkv_proj(x).chunk(3, dim=-1)\n",
    "        q, k, v = map(lambda t: rearrange(t, 'b n (h d) -> b h n d', h=self.num_heads), qkv)\n",
    "        k = k.softmax(dim=-2)\n",
    "        context = torch.einsum('bhnd,bhne->bhde', k, v)\n",
    "        attn = torch.einsum('bhnd,bhde->bhne', q, context) * self.scale\n",
    "        out = rearrange(attn, 'b h n d -> b n (h d)')\n",
    "        out = self.out_proj(out)\n",
    "        return self.dropout(out)\n",
    "\n",
    "class EnhancedPatchEmbedding(nn.Module):\n",
    "    def __init__(self, img_size=256, patch_size=16, in_channels=3, embed_dim=512):\n",
    "        super().__init__()\n",
    "        self.proj = nn.Sequential(\n",
    "            nn.Conv2d(in_channels, embed_dim // 2, kernel_size=7, stride=2, padding=3),\n",
    "            nn.BatchNorm2d(embed_dim // 2),\n",
    "            nn.GELU(),\n",
    "            nn.Conv2d(embed_dim // 2, embed_dim, kernel_size=3, stride=2, padding=1),\n",
    "            nn.BatchNorm2d(embed_dim),\n",
    "            nn.GELU(),\n",
    "            nn.Conv2d(embed_dim, embed_dim, kernel_size=patch_size // 2, stride=patch_size // 2, padding=0),\n",
    "            nn.BatchNorm2d(embed_dim)\n",
    "        )\n",
    "\n",
    "    def forward(self, x):\n",
    "        x = self.proj(x)\n",
    "        return rearrange(x, 'b c h w -> b (h w) c')\n",
    "\n",
    "\n",
    "class EnhancedTransformerEncoder(nn.Module):\n",
    "    def __init__(self, embed_dim=512, num_heads=8, num_layers=4, dropout=0.1):\n",
    "        super().__init__()\n",
    "        self.layers = nn.ModuleList([\n",
    "            nn.ModuleDict({\n",
    "                'norm1': nn.LayerNorm(embed_dim),\n",
    "                'attn': EfficientAttention(embed_dim, num_heads, dropout),\n",
    "                'norm2': nn.LayerNorm(embed_dim),\n",
    "                'mlp': nn.Sequential(\n",
    "                    nn.Linear(embed_dim, embed_dim * 4),\n",
    "                    nn.GELU(),\n",
    "                    nn.Dropout(dropout),\n",
    "                    nn.Linear(embed_dim * 4, embed_dim),\n",
    "                    nn.Dropout(dropout)\n",
    "                )\n",
    "            }) for _ in range(num_layers)\n",
    "        ])\n",
    "        self.norm = nn.LayerNorm(embed_dim)\n",
    "\n",
    "    def forward(self, x):\n",
    "        skip_connections = []\n",
    "        for layer in self.layers:\n",
    "            x_norm = layer['norm1'](x)\n",
    "            x = x + layer['attn'](x_norm)\n",
    "            x_norm = layer['norm2'](x)\n",
    "            x = x + layer['mlp'](x_norm)\n",
    "            skip_connections.append(x)\n",
    "        return self.norm(x), skip_connections\n",
    "\n",
    "class FeatureAlignmentModule(nn.Module):\n",
    "    def __init__(self, in_dim, out_dim):\n",
    "        super().__init__()\n",
    "        self.proj = nn.Sequential(\n",
    "            nn.Linear(in_dim, out_dim),\n",
    "            nn.LayerNorm(out_dim),\n",
    "            nn.GELU()\n",
    "        )\n",
    "        self.spatial_align = nn.Conv2d(1, 1, kernel_size=3, padding=1)\n",
    "\n",
    "    def forward(self, x, target_size):\n",
    "        B, N, C = x.shape\n",
    "        H, W = target_size\n",
    "        x = self.proj(x)\n",
    "        x = rearrange(x, 'b (h w) c -> b c h w', h=int(N**0.5))\n",
    "        x = F.interpolate(x, size=target_size, mode='bilinear', align_corners=False)\n",
    "        x = x + self.spatial_align(x.mean(dim=1, keepdim=True))\n",
    "        return x\n",
    "\n",
    "class EnhancedSSMDecoder(nn.Module):\n",
    "    def __init__(self, embed_dim=512, out_channels=3):\n",
    "        super().__init__()\n",
    "        self.embed_dim = embed_dim\n",
    "        self.skip_align = nn.ModuleList([\n",
    "            FeatureAlignmentModule(embed_dim, embed_dim//2),\n",
    "            FeatureAlignmentModule(embed_dim, embed_dim//4),\n",
    "            FeatureAlignmentModule(embed_dim, embed_dim//8),\n",
    "            FeatureAlignmentModule(embed_dim, embed_dim//16)\n",
    "            #FeatureAlignmentModule(embed_dim, embed_dim//32)\n",
    "        ])\n",
    "        self.up_blocks = nn.ModuleList([\n",
    "            self._make_up_block(embed_dim, embed_dim//2),\n",
    "            self._make_up_block(embed_dim//2, embed_dim//4),\n",
    "            self._make_up_block(embed_dim//4, embed_dim//8),\n",
    "            self._make_up_block(embed_dim//8, embed_dim//16),\n",
    "            self._make_up_block(embed_dim//16, embed_dim//32),\n",
    "            self._make_up_block(embed_dim // 32, embed_dim // 64)\n",
    "        ])\n",
    "        self.final_conv = nn.Sequential(\n",
    "            nn.Conv2d(embed_dim // 16, embed_dim // 16, kernel_size=3, padding=1),\n",
    "            nn.GELU(),\n",
    "            nn.Conv2d(embed_dim // 16, out_channels, kernel_size=1)\n",
    "        )\n",
    "    def _make_up_block(self, in_ch, out_ch):\n",
    "        return nn.Sequential(\n",
    "            nn.Conv2d(in_ch, out_ch * 4, kernel_size=3, padding=1),\n",
    "            nn.PixelShuffle(2),\n",
    "            nn.BatchNorm2d(out_ch),\n",
    "            nn.GELU(),\n",
    "            nn.Conv2d(out_ch, out_ch, kernel_size=3, padding=1),\n",
    "            nn.BatchNorm2d(out_ch),\n",
    "            nn.GELU()\n",
    "        )\n",
    "\n",
    "\n",
    "    def forward(self, x, skip_connections):\n",
    "        B, N, C = x.shape\n",
    "        x = rearrange(x, 'b (h w) c -> b c h w', h=int(N**0.5))\n",
    "        for i, (up_block, skip_align) in enumerate(zip(self.up_blocks, self.skip_align)):\n",
    "            x = up_block(x)\n",
    "            skip_idx = min(len(skip_connections) - 1, i)\n",
    "            skip = skip_align(skip_connections[-(skip_idx + 1)], x.shape[-2:])\n",
    "            x = x + skip\n",
    "        return torch.sigmoid(self.final_conv(x))\n",
    "\n",
    "class EnhancedHybridMamba(nn.Module):\n",
    "    def __init__(self, img_size=256, patch_size=16, in_channels=3, embed_dim=512):\n",
    "        super().__init__()\n",
    "        self.img_size = img_size\n",
    "        self.patch_size = patch_size\n",
    "        self.patch_embed = EnhancedPatchEmbedding(img_size, patch_size, in_channels, embed_dim)\n",
    "        self.transformer = EnhancedTransformerEncoder(embed_dim, num_layers=4)\n",
    "        self.decoder = EnhancedSSMDecoder(embed_dim)        \n",
    "       \n",
    "        self.final_upsample = nn.Sequential(\n",
    "            nn.Upsample(scale_factor=2, mode='bilinear', align_corners=False),  \n",
    "            nn.Conv2d(3, 3, kernel_size=3, padding=1),  \n",
    "            nn.Sigmoid()  \n",
    "        )\n",
    "\n",
    "    def forward(self, x):\n",
    "        x = self.patch_embed(x)\n",
    "        x, skip_connections = self.transformer(x)\n",
    "        x = self.decoder(x, skip_connections)\n",
    "        x = self.final_upsample(x)\n",
    "        return x"
   ]
  },
  {
   "cell_type": "code",
   "execution_count": 3,
   "id": "4bbfcaae",
   "metadata": {},
   "outputs": [
    {
     "name": "stdout",
     "output_type": "stream",
     "text": [
      "torch.Size([1, 3, 256, 256])\n"
     ]
    }
   ],
   "source": [
    "model = EnhancedHybridMamba(img_size=256)\n",
    "input_tensor = torch.randn(1, 3, 256, 256) \n",
    "output = model(input_tensor)\n",
    "print(output.shape) "
   ]
  },
  {
   "cell_type": "code",
   "execution_count": 4,
   "id": "7cfa8cea",
   "metadata": {},
   "outputs": [],
   "source": [
    "##Training and vlaidation"
   ]
  },
  {
   "cell_type": "code",
   "execution_count": 5,
   "id": "4e9e1fa7",
   "metadata": {},
   "outputs": [],
   "source": [
    "from torchvision import transforms, datasets\n",
    "from torch.utils.data import DataLoader\n",
    "from tqdm import tqdm\n",
    "import json\n"
   ]
  },
  {
   "cell_type": "code",
   "execution_count": 6,
   "id": "1ca410c1",
   "metadata": {},
   "outputs": [],
   "source": [
    "def get_dataloaders(data_dir, batch_size=8, img_size=256, num_workers=4):\n",
    "    transform = transforms.Compose([\n",
    "        transforms.Resize((img_size, img_size)),\n",
    "        transforms.ToTensor()\n",
    "    ])\n",
    "\n",
    "    train_dataset = datasets.ImageFolder(os.path.join(data_dir, 'train'), transform=transform)\n",
    "    val_dataset = datasets.ImageFolder(os.path.join(data_dir, 'val'), transform=transform)\n",
    "\n",
    "    train_loader = DataLoader(train_dataset, batch_size=batch_size, shuffle=True, num_workers=num_workers)\n",
    "    val_loader = DataLoader(val_dataset, batch_size=batch_size, shuffle=False, num_workers=num_workers)\n",
    "\n",
    "    return train_loader, val_loader\n"
   ]
  },
  {
   "cell_type": "code",
   "execution_count": null,
   "id": "97868ad7",
   "metadata": {},
   "outputs": [],
   "source": [
    "## Composite Loss function"
   ]
  },
  {
   "cell_type": "code",
   "execution_count": 7,
   "id": "bb1d11af",
   "metadata": {},
   "outputs": [],
   "source": [
    "import torch\n",
    "import torch.nn.functional as F\n",
    "from pytorch_msssim import ssim\n",
    "\n",
    "def mse_loss(pred, target):\n",
    "    return F.mse_loss(pred, target)\n",
    "\n",
    "def ssim_loss(pred, target):\n",
    "    return 1 - ssim(pred, target, data_range=1.0, size_average=True)\n",
    "\n",
    "def gradient_loss(pred, target):\n",
    "    def compute_gradient(img):\n",
    "        dy = torch.abs(img[:, :, 1:, :] - img[:, :, :-1, :])\n",
    "        dx = torch.abs(img[:, :, :, 1:] - img[:, :, :, :-1])\n",
    "        return dx, dy\n",
    "\n",
    "    dx_pred, dy_pred = compute_gradient(pred)\n",
    "    dx_gt, dy_gt = compute_gradient(target)\n",
    "    \n",
    "    grad_diff_x = torch.abs(dx_pred - dx_gt)\n",
    "    grad_diff_y = torch.abs(dy_pred - dy_gt)\n",
    "    \n",
    "    return grad_diff_x.mean() + grad_diff_y.mean()\n"
   ]
  },
  {
   "cell_type": "code",
   "execution_count": 8,
   "id": "cb88b408",
   "metadata": {},
   "outputs": [],
   "source": [
    "##Training model"
   ]
  },
  {
   "cell_type": "code",
   "execution_count": 9,
   "id": "0959a3d1",
   "metadata": {},
   "outputs": [],
   "source": [
    "import os\n",
    "import json\n",
    "import torch\n",
    "import torch.nn as nn\n",
    "import torch.optim as optim\n",
    "from tqdm import tqdm\n",
    "\n",
    "def train_validate_model(model, train_loader, val_loader, epochs=30, lr=1e-4, device='cuda'):\n",
    "    model.to(device)\n",
    "    optimizer = optim.Adam(model.parameters(), lr=lr)\n",
    "\n",
    "    best_val_loss = float('inf')\n",
    "    stats = {\n",
    "        'train_loss': [],\n",
    "        'val_loss': [],\n",
    "        'train_mse': [],\n",
    "        'train_ssim': [],\n",
    "        'train_grad': [],\n",
    "    }\n",
    "\n",
    "    os.makedirs(\"checkpoints\", exist_ok=True)\n",
    "\n",
    "    for epoch in range(1, epochs + 1):\n",
    "        model.train()\n",
    "        running_train_loss = 0.0\n",
    "        running_mse = 0.0\n",
    "        running_ssim = 0.0\n",
    "        running_grad = 0.0\n",
    "\n",
    "        for images, _ in tqdm(train_loader, desc=f\"Epoch {epoch}/{epochs} - Training\"):\n",
    "            images = images.to(device)\n",
    "            outputs = model(images)\n",
    "\n",
    "            loss_mse = mse_loss(outputs, images)\n",
    "            loss_ssim = ssim_loss(outputs, images)\n",
    "            loss_grad = gradient_loss(outputs, images)\n",
    "            total_loss = loss_mse + 0.85 * loss_ssim + 0.1 * loss_grad\n",
    "\n",
    "            optimizer.zero_grad()\n",
    "            total_loss.backward()\n",
    "            optimizer.step()\n",
    "\n",
    "            batch_size = images.size(0)\n",
    "            running_train_loss += total_loss.item() * batch_size\n",
    "            running_mse += loss_mse.item() * batch_size\n",
    "            running_ssim += loss_ssim.item() * batch_size\n",
    "            running_grad += loss_grad.item() * batch_size\n",
    "\n",
    "        num_train = len(train_loader.dataset)\n",
    "        avg_train_loss = running_train_loss / num_train\n",
    "        avg_mse = running_mse / num_train\n",
    "        avg_ssim = running_ssim / num_train\n",
    "        avg_grad = running_grad / num_train\n",
    "\n",
    "        stats['train_loss'].append(avg_train_loss)\n",
    "        stats['train_mse'].append(avg_mse)\n",
    "        stats['train_ssim'].append(avg_ssim)\n",
    "        stats['train_grad'].append(avg_grad)\n",
    "\n",
    "        print(f\"\\n📘 Epoch [{epoch}/{epochs}]\")\n",
    "        print(f\"  Train MSE Loss:    {avg_mse:.6f}\")\n",
    "        print(f\"  Train SSIM Loss:   {avg_ssim:.6f}\")\n",
    "        print(f\"  Train Grad Loss:   {avg_grad:.6f}\")\n",
    "        print(f\"  👉 Total Train Loss:{avg_train_loss:.6f}\")\n",
    "\n",
    "        model.eval()\n",
    "        val_loss = 0.0\n",
    "        with torch.no_grad():\n",
    "            for images, _ in tqdm(val_loader, desc=f\"Epoch {epoch}/{epochs} - Validating\"):\n",
    "                images = images.to(device)\n",
    "                outputs = model(images)\n",
    "\n",
    "                loss_mse = mse_loss(outputs, images)\n",
    "                loss_ssim = ssim_loss(outputs, images)\n",
    "                loss_grad = gradient_loss(outputs, images)\n",
    "                v_loss = loss_mse + 0.85 * loss_ssim + 0.1 * loss_grad\n",
    "                val_loss += v_loss.item() * images.size(0)\n",
    "\n",
    "        avg_val_loss = val_loss / len(val_loader.dataset)\n",
    "        stats['val_loss'].append(avg_val_loss)\n",
    "\n",
    "        print(f\"  ✅ Validation Loss: {avg_val_loss:.6f}\")\n",
    "\n",
    "         if avg_val_loss < best_val_loss:\n",
    "            best_val_loss = avg_val_loss\n",
    "            torch.save({\n",
    "                'epoch': epoch,\n",
    "                'model_state_dict': model.state_dict(),\n",
    "                'optimizer_state_dict': optimizer.state_dict(),\n",
    "                'best_val_loss': best_val_loss,\n",
    "            }, 'checkpoints/best_model.pth')\n",
    "            print(\"💾 Best model checkpoint saved.\")\n",
    "\n",
    "    with open('checkpoints/training_stats.json', 'w') as f:\n",
    "        json.dump(stats, f, indent=4)\n",
    "\n",
    "    with open('checkpoints/loss_details.txt', 'w') as f:\n",
    "        f.write(\"Epoch\\tTrain_MSE\\tTrain_SSIM\\tTrain_Grad\\tTotal_Train_Loss\\tVal_Loss\\n\")\n",
    "        for i in range(epochs):\n",
    "            f.write(f\"{i+1}\\t{stats['train_mse'][i]:.6f}\\t{stats['train_ssim'][i]:.6f}\\t{stats['train_grad'][i]:.6f}\\t{stats['train_loss'][i]:.6f}\\t{stats['val_loss'][i]:.6f}\\n\")\n",
    "\n",
    "    print(\"\\n🎉 Training complete. All losses and best model saved.\")\n"
   ]
  },
  {
   "cell_type": "code",
   "execution_count": 10,
   "id": "6fe174da",
   "metadata": {},
   "outputs": [
    {
     "name": "stderr",
     "output_type": "stream",
     "text": [
      "Epoch 1/200 - Training: 100%|██████████| 1980/1980 [03:15<00:00, 10.12it/s]\n"
     ]
    },
    {
     "name": "stdout",
     "output_type": "stream",
     "text": [
      "\n",
      "📘 Epoch [1/200]\n",
      "  Train MSE Loss:    0.013419\n",
      "  Train SSIM Loss:   0.150006\n",
      "  Train Grad Loss:   0.023089\n",
      "  👉 Total Train Loss:0.143233\n"
     ]
    },
    {
     "name": "stderr",
     "output_type": "stream",
     "text": [
      "Epoch 1/200 - Validating: 100%|██████████| 745/745 [00:21<00:00, 34.07it/s]\n"
     ]
    },
    {
     "name": "stdout",
     "output_type": "stream",
     "text": [
      "  ✅ Validation Loss: 0.076218\n",
      "💾 Best model checkpoint saved.\n"
     ]
    },
    {
     "name": "stderr",
     "output_type": "stream",
     "text": [
      "Epoch 2/200 - Training: 100%|██████████| 1980/1980 [03:14<00:00, 10.19it/s]\n"
     ]
    },
    {
     "name": "stdout",
     "output_type": "stream",
     "text": [
      "\n",
      "📘 Epoch [2/200]\n",
      "  Train MSE Loss:    0.005590\n",
      "  Train SSIM Loss:   0.069830\n",
      "  Train Grad Loss:   0.019557\n",
      "  👉 Total Train Loss:0.066901\n"
     ]
    },
    {
     "name": "stderr",
     "output_type": "stream",
     "text": [
      "Epoch 2/200 - Validating: 100%|██████████| 745/745 [00:21<00:00, 34.00it/s]\n"
     ]
    },
    {
     "name": "stdout",
     "output_type": "stream",
     "text": [
      "  ✅ Validation Loss: 0.052803\n",
      "💾 Best model checkpoint saved.\n"
     ]
    },
    {
     "name": "stderr",
     "output_type": "stream",
     "text": [
      "Epoch 3/200 - Training: 100%|██████████| 1980/1980 [03:14<00:00, 10.17it/s]\n"
     ]
    },
    {
     "name": "stdout",
     "output_type": "stream",
     "text": [
      "\n",
      "📘 Epoch [3/200]\n",
      "  Train MSE Loss:    0.003033\n",
      "  Train SSIM Loss:   0.049862\n",
      "  Train Grad Loss:   0.017851\n",
      "  👉 Total Train Loss:0.047201\n"
     ]
    },
    {
     "name": "stderr",
     "output_type": "stream",
     "text": [
      "Epoch 3/200 - Validating: 100%|██████████| 745/745 [00:22<00:00, 33.62it/s]\n"
     ]
    },
    {
     "name": "stdout",
     "output_type": "stream",
     "text": [
      "  ✅ Validation Loss: 0.038258\n",
      "💾 Best model checkpoint saved.\n"
     ]
    },
    {
     "name": "stderr",
     "output_type": "stream",
     "text": [
      "Epoch 4/200 - Training: 100%|██████████| 1980/1980 [03:15<00:00, 10.12it/s]\n"
     ]
    },
    {
     "name": "stdout",
     "output_type": "stream",
     "text": [
      "\n",
      "📘 Epoch [4/200]\n",
      "  Train MSE Loss:    0.001616\n",
      "  Train SSIM Loss:   0.037137\n",
      "  Train Grad Loss:   0.016316\n",
      "  👉 Total Train Loss:0.034815\n"
     ]
    },
    {
     "name": "stderr",
     "output_type": "stream",
     "text": [
      "Epoch 4/200 - Validating: 100%|██████████| 745/745 [00:22<00:00, 33.57it/s]\n"
     ]
    },
    {
     "name": "stdout",
     "output_type": "stream",
     "text": [
      "  ✅ Validation Loss: 0.030401\n",
      "💾 Best model checkpoint saved.\n"
     ]
    },
    {
     "name": "stderr",
     "output_type": "stream",
     "text": [
      "Epoch 5/200 - Training: 100%|██████████| 1980/1980 [03:12<00:00, 10.30it/s]\n"
     ]
    },
    {
     "name": "stdout",
     "output_type": "stream",
     "text": [
      "\n",
      "📘 Epoch [5/200]\n",
      "  Train MSE Loss:    0.000906\n",
      "  Train SSIM Loss:   0.030307\n",
      "  Train Grad Loss:   0.015311\n",
      "  👉 Total Train Loss:0.028198\n"
     ]
    },
    {
     "name": "stderr",
     "output_type": "stream",
     "text": [
      "Epoch 5/200 - Validating: 100%|██████████| 745/745 [00:21<00:00, 34.19it/s]\n"
     ]
    },
    {
     "name": "stdout",
     "output_type": "stream",
     "text": [
      "  ✅ Validation Loss: 0.026411\n",
      "💾 Best model checkpoint saved.\n"
     ]
    },
    {
     "name": "stderr",
     "output_type": "stream",
     "text": [
      "Epoch 6/200 - Training: 100%|██████████| 1980/1980 [03:12<00:00, 10.26it/s]\n"
     ]
    },
    {
     "name": "stdout",
     "output_type": "stream",
     "text": [
      "\n",
      "📘 Epoch [6/200]\n",
      "  Train MSE Loss:    0.000578\n",
      "  Train SSIM Loss:   0.026276\n",
      "  Train Grad Loss:   0.014635\n",
      "  👉 Total Train Loss:0.024376\n"
     ]
    },
    {
     "name": "stderr",
     "output_type": "stream",
     "text": [
      "Epoch 6/200 - Validating: 100%|██████████| 745/745 [00:22<00:00, 33.77it/s]\n"
     ]
    },
    {
     "name": "stdout",
     "output_type": "stream",
     "text": [
      "  ✅ Validation Loss: 0.023259\n",
      "💾 Best model checkpoint saved.\n"
     ]
    },
    {
     "name": "stderr",
     "output_type": "stream",
     "text": [
      "Epoch 7/200 - Training: 100%|██████████| 1980/1980 [03:12<00:00, 10.27it/s]\n"
     ]
    },
    {
     "name": "stdout",
     "output_type": "stream",
     "text": [
      "\n",
      "📘 Epoch [7/200]\n",
      "  Train MSE Loss:    0.000425\n",
      "  Train SSIM Loss:   0.023616\n",
      "  Train Grad Loss:   0.014143\n",
      "  👉 Total Train Loss:0.021914\n"
     ]
    },
    {
     "name": "stderr",
     "output_type": "stream",
     "text": [
      "Epoch 7/200 - Validating: 100%|██████████| 745/745 [00:22<00:00, 33.06it/s]\n"
     ]
    },
    {
     "name": "stdout",
     "output_type": "stream",
     "text": [
      "  ✅ Validation Loss: 0.021661\n",
      "💾 Best model checkpoint saved.\n"
     ]
    },
    {
     "name": "stderr",
     "output_type": "stream",
     "text": [
      "Epoch 8/200 - Training: 100%|██████████| 1980/1980 [03:14<00:00, 10.19it/s]\n"
     ]
    },
    {
     "name": "stdout",
     "output_type": "stream",
     "text": [
      "\n",
      "📘 Epoch [8/200]\n",
      "  Train MSE Loss:    0.000348\n",
      "  Train SSIM Loss:   0.021702\n",
      "  Train Grad Loss:   0.013760\n",
      "  👉 Total Train Loss:0.020170\n"
     ]
    },
    {
     "name": "stderr",
     "output_type": "stream",
     "text": [
      "Epoch 8/200 - Validating: 100%|██████████| 745/745 [00:22<00:00, 33.50it/s]\n"
     ]
    },
    {
     "name": "stdout",
     "output_type": "stream",
     "text": [
      "  ✅ Validation Loss: 0.020487\n",
      "💾 Best model checkpoint saved.\n"
     ]
    },
    {
     "name": "stderr",
     "output_type": "stream",
     "text": [
      "Epoch 9/200 - Training: 100%|██████████| 1980/1980 [03:12<00:00, 10.27it/s]\n"
     ]
    },
    {
     "name": "stdout",
     "output_type": "stream",
     "text": [
      "\n",
      "📘 Epoch [9/200]\n",
      "  Train MSE Loss:    0.000299\n",
      "  Train SSIM Loss:   0.020211\n",
      "  Train Grad Loss:   0.013443\n",
      "  👉 Total Train Loss:0.018823\n"
     ]
    },
    {
     "name": "stderr",
     "output_type": "stream",
     "text": [
      "Epoch 9/200 - Validating: 100%|██████████| 745/745 [00:22<00:00, 33.41it/s]\n"
     ]
    },
    {
     "name": "stdout",
     "output_type": "stream",
     "text": [
      "  ✅ Validation Loss: 0.019353\n",
      "💾 Best model checkpoint saved.\n"
     ]
    },
    {
     "name": "stderr",
     "output_type": "stream",
     "text": [
      "Epoch 10/200 - Training: 100%|██████████| 1980/1980 [03:13<00:00, 10.25it/s]\n"
     ]
    },
    {
     "name": "stdout",
     "output_type": "stream",
     "text": [
      "\n",
      "📘 Epoch [10/200]\n",
      "  Train MSE Loss:    0.000268\n",
      "  Train SSIM Loss:   0.019041\n",
      "  Train Grad Loss:   0.013179\n",
      "  👉 Total Train Loss:0.017771\n"
     ]
    },
    {
     "name": "stderr",
     "output_type": "stream",
     "text": [
      "Epoch 10/200 - Validating: 100%|██████████| 745/745 [00:22<00:00, 33.58it/s]\n"
     ]
    },
    {
     "name": "stdout",
     "output_type": "stream",
     "text": [
      "  ✅ Validation Loss: 0.018308\n",
      "💾 Best model checkpoint saved.\n"
     ]
    },
    {
     "name": "stderr",
     "output_type": "stream",
     "text": [
      "Epoch 11/200 - Training: 100%|██████████| 1980/1980 [03:13<00:00, 10.25it/s]\n"
     ]
    },
    {
     "name": "stdout",
     "output_type": "stream",
     "text": [
      "\n",
      "📘 Epoch [11/200]\n",
      "  Train MSE Loss:    0.000246\n",
      "  Train SSIM Loss:   0.018075\n",
      "  Train Grad Loss:   0.012956\n",
      "  👉 Total Train Loss:0.016906\n"
     ]
    },
    {
     "name": "stderr",
     "output_type": "stream",
     "text": [
      "Epoch 11/200 - Validating: 100%|██████████| 745/745 [00:22<00:00, 33.60it/s]\n"
     ]
    },
    {
     "name": "stdout",
     "output_type": "stream",
     "text": [
      "  ✅ Validation Loss: 0.017970\n",
      "💾 Best model checkpoint saved.\n"
     ]
    },
    {
     "name": "stderr",
     "output_type": "stream",
     "text": [
      "Epoch 12/200 - Training: 100%|██████████| 1980/1980 [03:12<00:00, 10.27it/s]\n"
     ]
    },
    {
     "name": "stdout",
     "output_type": "stream",
     "text": [
      "\n",
      "📘 Epoch [12/200]\n",
      "  Train MSE Loss:    0.000228\n",
      "  Train SSIM Loss:   0.017237\n",
      "  Train Grad Loss:   0.012759\n",
      "  👉 Total Train Loss:0.016156\n"
     ]
    },
    {
     "name": "stderr",
     "output_type": "stream",
     "text": [
      "Epoch 12/200 - Validating: 100%|██████████| 745/745 [00:22<00:00, 33.40it/s]\n"
     ]
    },
    {
     "name": "stdout",
     "output_type": "stream",
     "text": [
      "  ✅ Validation Loss: 0.016993\n",
      "💾 Best model checkpoint saved.\n"
     ]
    },
    {
     "name": "stderr",
     "output_type": "stream",
     "text": [
      "Epoch 13/200 - Training: 100%|██████████| 1980/1980 [03:12<00:00, 10.27it/s]\n"
     ]
    },
    {
     "name": "stdout",
     "output_type": "stream",
     "text": [
      "\n",
      "📘 Epoch [13/200]\n",
      "  Train MSE Loss:    0.000214\n",
      "  Train SSIM Loss:   0.016506\n",
      "  Train Grad Loss:   0.012583\n",
      "  👉 Total Train Loss:0.015502\n"
     ]
    },
    {
     "name": "stderr",
     "output_type": "stream",
     "text": [
      "Epoch 13/200 - Validating: 100%|██████████| 745/745 [00:22<00:00, 33.07it/s]\n"
     ]
    },
    {
     "name": "stdout",
     "output_type": "stream",
     "text": [
      "  ✅ Validation Loss: 0.016667\n",
      "💾 Best model checkpoint saved.\n"
     ]
    },
    {
     "name": "stderr",
     "output_type": "stream",
     "text": [
      "Epoch 14/200 - Training: 100%|██████████| 1980/1980 [03:13<00:00, 10.24it/s]\n"
     ]
    },
    {
     "name": "stdout",
     "output_type": "stream",
     "text": [
      "\n",
      "📘 Epoch [14/200]\n",
      "  Train MSE Loss:    0.000203\n",
      "  Train SSIM Loss:   0.015895\n",
      "  Train Grad Loss:   0.012430\n",
      "  👉 Total Train Loss:0.014956\n"
     ]
    },
    {
     "name": "stderr",
     "output_type": "stream",
     "text": [
      "Epoch 14/200 - Validating: 100%|██████████| 745/745 [00:22<00:00, 33.29it/s]\n"
     ]
    },
    {
     "name": "stdout",
     "output_type": "stream",
     "text": [
      "  ✅ Validation Loss: 0.016128\n",
      "💾 Best model checkpoint saved.\n"
     ]
    },
    {
     "name": "stderr",
     "output_type": "stream",
     "text": [
      "Epoch 15/200 - Training: 100%|██████████| 1980/1980 [03:13<00:00, 10.25it/s]\n"
     ]
    },
    {
     "name": "stdout",
     "output_type": "stream",
     "text": [
      "\n",
      "📘 Epoch [15/200]\n",
      "  Train MSE Loss:    0.000193\n",
      "  Train SSIM Loss:   0.015380\n",
      "  Train Grad Loss:   0.012296\n",
      "  👉 Total Train Loss:0.014495\n"
     ]
    },
    {
     "name": "stderr",
     "output_type": "stream",
     "text": [
      "Epoch 15/200 - Validating: 100%|██████████| 745/745 [00:22<00:00, 33.39it/s]\n"
     ]
    },
    {
     "name": "stdout",
     "output_type": "stream",
     "text": [
      "  ✅ Validation Loss: 0.015699\n",
      "💾 Best model checkpoint saved.\n"
     ]
    },
    {
     "name": "stderr",
     "output_type": "stream",
     "text": [
      "Epoch 16/200 - Training: 100%|██████████| 1980/1980 [03:12<00:00, 10.27it/s]\n"
     ]
    },
    {
     "name": "stdout",
     "output_type": "stream",
     "text": [
      "\n",
      "📘 Epoch [16/200]\n",
      "  Train MSE Loss:    0.000183\n",
      "  Train SSIM Loss:   0.014864\n",
      "  Train Grad Loss:   0.012166\n",
      "  👉 Total Train Loss:0.014035\n"
     ]
    },
    {
     "name": "stderr",
     "output_type": "stream",
     "text": [
      "Epoch 16/200 - Validating: 100%|██████████| 745/745 [00:21<00:00, 33.88it/s]\n"
     ]
    },
    {
     "name": "stdout",
     "output_type": "stream",
     "text": [
      "  ✅ Validation Loss: 0.015434\n",
      "💾 Best model checkpoint saved.\n"
     ]
    },
    {
     "name": "stderr",
     "output_type": "stream",
     "text": [
      "Epoch 17/200 - Training: 100%|██████████| 1980/1980 [03:12<00:00, 10.26it/s]\n"
     ]
    },
    {
     "name": "stdout",
     "output_type": "stream",
     "text": [
      "\n",
      "📘 Epoch [17/200]\n",
      "  Train MSE Loss:    0.000177\n",
      "  Train SSIM Loss:   0.014457\n",
      "  Train Grad Loss:   0.012054\n",
      "  👉 Total Train Loss:0.013671\n"
     ]
    },
    {
     "name": "stderr",
     "output_type": "stream",
     "text": [
      "Epoch 17/200 - Validating: 100%|██████████| 745/745 [00:22<00:00, 33.66it/s]\n"
     ]
    },
    {
     "name": "stdout",
     "output_type": "stream",
     "text": [
      "  ✅ Validation Loss: 0.014996\n",
      "💾 Best model checkpoint saved.\n"
     ]
    },
    {
     "name": "stderr",
     "output_type": "stream",
     "text": [
      "Epoch 18/200 - Training: 100%|██████████| 1980/1980 [03:12<00:00, 10.28it/s]\n"
     ]
    },
    {
     "name": "stdout",
     "output_type": "stream",
     "text": [
      "\n",
      "📘 Epoch [18/200]\n",
      "  Train MSE Loss:    0.000167\n",
      "  Train SSIM Loss:   0.014019\n",
      "  Train Grad Loss:   0.011944\n",
      "  👉 Total Train Loss:0.013278\n"
     ]
    },
    {
     "name": "stderr",
     "output_type": "stream",
     "text": [
      "Epoch 18/200 - Validating: 100%|██████████| 745/745 [00:22<00:00, 33.56it/s]\n"
     ]
    },
    {
     "name": "stdout",
     "output_type": "stream",
     "text": [
      "  ✅ Validation Loss: 0.014542\n",
      "💾 Best model checkpoint saved.\n"
     ]
    },
    {
     "name": "stderr",
     "output_type": "stream",
     "text": [
      "Epoch 19/200 - Training: 100%|██████████| 1980/1980 [03:12<00:00, 10.26it/s]\n"
     ]
    },
    {
     "name": "stdout",
     "output_type": "stream",
     "text": [
      "\n",
      "📘 Epoch [19/200]\n",
      "  Train MSE Loss:    0.000158\n",
      "  Train SSIM Loss:   0.013640\n",
      "  Train Grad Loss:   0.011843\n",
      "  👉 Total Train Loss:0.012936\n"
     ]
    },
    {
     "name": "stderr",
     "output_type": "stream",
     "text": [
      "Epoch 19/200 - Validating: 100%|██████████| 745/745 [00:22<00:00, 33.67it/s]\n"
     ]
    },
    {
     "name": "stdout",
     "output_type": "stream",
     "text": [
      "  ✅ Validation Loss: 0.014234\n",
      "💾 Best model checkpoint saved.\n"
     ]
    },
    {
     "name": "stderr",
     "output_type": "stream",
     "text": [
      "Epoch 20/200 - Training: 100%|██████████| 1980/1980 [03:12<00:00, 10.27it/s]\n"
     ]
    },
    {
     "name": "stdout",
     "output_type": "stream",
     "text": [
      "\n",
      "📘 Epoch [20/200]\n",
      "  Train MSE Loss:    0.000150\n",
      "  Train SSIM Loss:   0.013262\n",
      "  Train Grad Loss:   0.011743\n",
      "  👉 Total Train Loss:0.012597\n"
     ]
    },
    {
     "name": "stderr",
     "output_type": "stream",
     "text": [
      "Epoch 20/200 - Validating: 100%|██████████| 745/745 [00:22<00:00, 33.36it/s]\n"
     ]
    },
    {
     "name": "stdout",
     "output_type": "stream",
     "text": [
      "  ✅ Validation Loss: 0.014047\n",
      "💾 Best model checkpoint saved.\n"
     ]
    },
    {
     "name": "stderr",
     "output_type": "stream",
     "text": [
      "Epoch 21/200 - Training: 100%|██████████| 1980/1980 [03:12<00:00, 10.28it/s]\n"
     ]
    },
    {
     "name": "stdout",
     "output_type": "stream",
     "text": [
      "\n",
      "📘 Epoch [21/200]\n",
      "  Train MSE Loss:    0.000145\n",
      "  Train SSIM Loss:   0.012943\n",
      "  Train Grad Loss:   0.011653\n",
      "  👉 Total Train Loss:0.012312\n"
     ]
    },
    {
     "name": "stderr",
     "output_type": "stream",
     "text": [
      "Epoch 21/200 - Validating: 100%|██████████| 745/745 [00:22<00:00, 33.36it/s]\n"
     ]
    },
    {
     "name": "stdout",
     "output_type": "stream",
     "text": [
      "  ✅ Validation Loss: 0.013525\n",
      "💾 Best model checkpoint saved.\n"
     ]
    },
    {
     "name": "stderr",
     "output_type": "stream",
     "text": [
      "Epoch 22/200 - Training: 100%|██████████| 1980/1980 [03:12<00:00, 10.28it/s]\n"
     ]
    },
    {
     "name": "stdout",
     "output_type": "stream",
     "text": [
      "\n",
      "📘 Epoch [22/200]\n",
      "  Train MSE Loss:    0.000139\n",
      "  Train SSIM Loss:   0.012608\n",
      "  Train Grad Loss:   0.011562\n",
      "  👉 Total Train Loss:0.012011\n"
     ]
    },
    {
     "name": "stderr",
     "output_type": "stream",
     "text": [
      "Epoch 22/200 - Validating: 100%|██████████| 745/745 [00:22<00:00, 33.19it/s]\n"
     ]
    },
    {
     "name": "stdout",
     "output_type": "stream",
     "text": [
      "  ✅ Validation Loss: 0.013447\n",
      "💾 Best model checkpoint saved.\n"
     ]
    },
    {
     "name": "stderr",
     "output_type": "stream",
     "text": [
      "Epoch 23/200 - Training: 100%|██████████| 1980/1980 [03:13<00:00, 10.25it/s]\n"
     ]
    },
    {
     "name": "stdout",
     "output_type": "stream",
     "text": [
      "\n",
      "📘 Epoch [23/200]\n",
      "  Train MSE Loss:    0.000135\n",
      "  Train SSIM Loss:   0.012345\n",
      "  Train Grad Loss:   0.011481\n",
      "  👉 Total Train Loss:0.011777\n"
     ]
    },
    {
     "name": "stderr",
     "output_type": "stream",
     "text": [
      "Epoch 23/200 - Validating: 100%|██████████| 745/745 [00:21<00:00, 34.17it/s]\n"
     ]
    },
    {
     "name": "stdout",
     "output_type": "stream",
     "text": [
      "  ✅ Validation Loss: 0.013302\n",
      "💾 Best model checkpoint saved.\n"
     ]
    },
    {
     "name": "stderr",
     "output_type": "stream",
     "text": [
      "Epoch 24/200 - Training: 100%|██████████| 1980/1980 [03:13<00:00, 10.25it/s]\n"
     ]
    },
    {
     "name": "stdout",
     "output_type": "stream",
     "text": [
      "\n",
      "📘 Epoch [24/200]\n",
      "  Train MSE Loss:    0.000130\n",
      "  Train SSIM Loss:   0.012042\n",
      "  Train Grad Loss:   0.011395\n",
      "  👉 Total Train Loss:0.011505\n"
     ]
    },
    {
     "name": "stderr",
     "output_type": "stream",
     "text": [
      "Epoch 24/200 - Validating: 100%|██████████| 745/745 [00:22<00:00, 33.83it/s]\n"
     ]
    },
    {
     "name": "stdout",
     "output_type": "stream",
     "text": [
      "  ✅ Validation Loss: 0.013130\n",
      "💾 Best model checkpoint saved.\n"
     ]
    },
    {
     "name": "stderr",
     "output_type": "stream",
     "text": [
      "Epoch 25/200 - Training: 100%|██████████| 1980/1980 [03:12<00:00, 10.29it/s]\n"
     ]
    },
    {
     "name": "stdout",
     "output_type": "stream",
     "text": [
      "\n",
      "📘 Epoch [25/200]\n",
      "  Train MSE Loss:    0.000126\n",
      "  Train SSIM Loss:   0.011791\n",
      "  Train Grad Loss:   0.011316\n",
      "  👉 Total Train Loss:0.011280\n"
     ]
    },
    {
     "name": "stderr",
     "output_type": "stream",
     "text": [
      "Epoch 25/200 - Validating: 100%|██████████| 745/745 [00:21<00:00, 34.21it/s]\n"
     ]
    },
    {
     "name": "stdout",
     "output_type": "stream",
     "text": [
      "  ✅ Validation Loss: 0.012887\n",
      "💾 Best model checkpoint saved.\n"
     ]
    },
    {
     "name": "stderr",
     "output_type": "stream",
     "text": [
      "Epoch 26/200 - Training: 100%|██████████| 1980/1980 [03:13<00:00, 10.24it/s]\n"
     ]
    },
    {
     "name": "stdout",
     "output_type": "stream",
     "text": [
      "\n",
      "📘 Epoch [26/200]\n",
      "  Train MSE Loss:    0.000123\n",
      "  Train SSIM Loss:   0.011561\n",
      "  Train Grad Loss:   0.011240\n",
      "  👉 Total Train Loss:0.011074\n"
     ]
    },
    {
     "name": "stderr",
     "output_type": "stream",
     "text": [
      "Epoch 26/200 - Validating: 100%|██████████| 745/745 [00:22<00:00, 33.23it/s]\n"
     ]
    },
    {
     "name": "stdout",
     "output_type": "stream",
     "text": [
      "  ✅ Validation Loss: 0.012512\n",
      "💾 Best model checkpoint saved.\n"
     ]
    },
    {
     "name": "stderr",
     "output_type": "stream",
     "text": [
      "Epoch 27/200 - Training: 100%|██████████| 1980/1980 [03:13<00:00, 10.26it/s]\n"
     ]
    },
    {
     "name": "stdout",
     "output_type": "stream",
     "text": [
      "\n",
      "📘 Epoch [27/200]\n",
      "  Train MSE Loss:    0.000120\n",
      "  Train SSIM Loss:   0.011348\n",
      "  Train Grad Loss:   0.011169\n",
      "  👉 Total Train Loss:0.010883\n"
     ]
    },
    {
     "name": "stderr",
     "output_type": "stream",
     "text": [
      "Epoch 27/200 - Validating: 100%|██████████| 745/745 [00:21<00:00, 33.98it/s]\n"
     ]
    },
    {
     "name": "stdout",
     "output_type": "stream",
     "text": [
      "  ✅ Validation Loss: 0.012375\n",
      "💾 Best model checkpoint saved.\n"
     ]
    },
    {
     "name": "stderr",
     "output_type": "stream",
     "text": [
      "Epoch 28/200 - Training: 100%|██████████| 1980/1980 [03:12<00:00, 10.28it/s]\n"
     ]
    },
    {
     "name": "stdout",
     "output_type": "stream",
     "text": [
      "\n",
      "📘 Epoch [28/200]\n",
      "  Train MSE Loss:    0.000117\n",
      "  Train SSIM Loss:   0.011095\n",
      "  Train Grad Loss:   0.011090\n",
      "  👉 Total Train Loss:0.010656\n"
     ]
    },
    {
     "name": "stderr",
     "output_type": "stream",
     "text": [
      "Epoch 28/200 - Validating: 100%|██████████| 745/745 [00:22<00:00, 33.84it/s]\n"
     ]
    },
    {
     "name": "stdout",
     "output_type": "stream",
     "text": [
      "  ✅ Validation Loss: 0.012165\n",
      "💾 Best model checkpoint saved.\n"
     ]
    },
    {
     "name": "stderr",
     "output_type": "stream",
     "text": [
      "Epoch 29/200 - Training: 100%|██████████| 1980/1980 [03:12<00:00, 10.28it/s]\n"
     ]
    },
    {
     "name": "stdout",
     "output_type": "stream",
     "text": [
      "\n",
      "📘 Epoch [29/200]\n",
      "  Train MSE Loss:    0.000114\n",
      "  Train SSIM Loss:   0.010898\n",
      "  Train Grad Loss:   0.011021\n",
      "  👉 Total Train Loss:0.010479\n"
     ]
    },
    {
     "name": "stderr",
     "output_type": "stream",
     "text": [
      "Epoch 29/200 - Validating: 100%|██████████| 745/745 [00:21<00:00, 34.34it/s]\n"
     ]
    },
    {
     "name": "stdout",
     "output_type": "stream",
     "text": [
      "  ✅ Validation Loss: 0.011864\n",
      "💾 Best model checkpoint saved.\n"
     ]
    },
    {
     "name": "stderr",
     "output_type": "stream",
     "text": [
      "Epoch 30/200 - Training: 100%|██████████| 1980/1980 [03:12<00:00, 10.30it/s]\n"
     ]
    },
    {
     "name": "stdout",
     "output_type": "stream",
     "text": [
      "\n",
      "📘 Epoch [30/200]\n",
      "  Train MSE Loss:    0.000111\n",
      "  Train SSIM Loss:   0.010682\n",
      "  Train Grad Loss:   0.010949\n",
      "  👉 Total Train Loss:0.010286\n"
     ]
    },
    {
     "name": "stderr",
     "output_type": "stream",
     "text": [
      "Epoch 30/200 - Validating: 100%|██████████| 745/745 [00:22<00:00, 33.49it/s]\n"
     ]
    },
    {
     "name": "stdout",
     "output_type": "stream",
     "text": [
      "  ✅ Validation Loss: 0.011801\n",
      "💾 Best model checkpoint saved.\n"
     ]
    },
    {
     "name": "stderr",
     "output_type": "stream",
     "text": [
      "Epoch 31/200 - Training: 100%|██████████| 1980/1980 [03:13<00:00, 10.25it/s]\n"
     ]
    },
    {
     "name": "stdout",
     "output_type": "stream",
     "text": [
      "\n",
      "📘 Epoch [31/200]\n",
      "  Train MSE Loss:    0.000108\n",
      "  Train SSIM Loss:   0.010490\n",
      "  Train Grad Loss:   0.010881\n",
      "  👉 Total Train Loss:0.010113\n"
     ]
    },
    {
     "name": "stderr",
     "output_type": "stream",
     "text": [
      "Epoch 31/200 - Validating: 100%|██████████| 745/745 [00:21<00:00, 33.97it/s]\n"
     ]
    },
    {
     "name": "stdout",
     "output_type": "stream",
     "text": [
      "  ✅ Validation Loss: 0.011599\n",
      "💾 Best model checkpoint saved.\n"
     ]
    },
    {
     "name": "stderr",
     "output_type": "stream",
     "text": [
      "Epoch 32/200 - Training: 100%|██████████| 1980/1980 [03:13<00:00, 10.26it/s]\n"
     ]
    },
    {
     "name": "stdout",
     "output_type": "stream",
     "text": [
      "\n",
      "📘 Epoch [32/200]\n",
      "  Train MSE Loss:    0.000107\n",
      "  Train SSIM Loss:   0.010319\n",
      "  Train Grad Loss:   0.010816\n",
      "  👉 Total Train Loss:0.009959\n"
     ]
    },
    {
     "name": "stderr",
     "output_type": "stream",
     "text": [
      "Epoch 32/200 - Validating: 100%|██████████| 745/745 [00:21<00:00, 33.91it/s]\n"
     ]
    },
    {
     "name": "stdout",
     "output_type": "stream",
     "text": [
      "  ✅ Validation Loss: 0.011457\n",
      "💾 Best model checkpoint saved.\n"
     ]
    },
    {
     "name": "stderr",
     "output_type": "stream",
     "text": [
      "Epoch 33/200 - Training: 100%|██████████| 1980/1980 [03:12<00:00, 10.27it/s]\n"
     ]
    },
    {
     "name": "stdout",
     "output_type": "stream",
     "text": [
      "\n",
      "📘 Epoch [33/200]\n",
      "  Train MSE Loss:    0.000104\n",
      "  Train SSIM Loss:   0.010126\n",
      "  Train Grad Loss:   0.010749\n",
      "  👉 Total Train Loss:0.009786\n"
     ]
    },
    {
     "name": "stderr",
     "output_type": "stream",
     "text": [
      "Epoch 33/200 - Validating: 100%|██████████| 745/745 [00:22<00:00, 33.58it/s]\n"
     ]
    },
    {
     "name": "stdout",
     "output_type": "stream",
     "text": [
      "  ✅ Validation Loss: 0.011507\n"
     ]
    },
    {
     "name": "stderr",
     "output_type": "stream",
     "text": [
      "Epoch 34/200 - Training: 100%|██████████| 1980/1980 [03:12<00:00, 10.28it/s]\n"
     ]
    },
    {
     "name": "stdout",
     "output_type": "stream",
     "text": [
      "\n",
      "📘 Epoch [34/200]\n",
      "  Train MSE Loss:    0.000102\n",
      "  Train SSIM Loss:   0.009968\n",
      "  Train Grad Loss:   0.010689\n",
      "  👉 Total Train Loss:0.009644\n"
     ]
    },
    {
     "name": "stderr",
     "output_type": "stream",
     "text": [
      "Epoch 34/200 - Validating: 100%|██████████| 745/745 [00:21<00:00, 34.09it/s]\n"
     ]
    },
    {
     "name": "stdout",
     "output_type": "stream",
     "text": [
      "  ✅ Validation Loss: 0.011191\n",
      "💾 Best model checkpoint saved.\n"
     ]
    },
    {
     "name": "stderr",
     "output_type": "stream",
     "text": [
      "Epoch 35/200 - Training: 100%|██████████| 1980/1980 [03:12<00:00, 10.30it/s]\n"
     ]
    },
    {
     "name": "stdout",
     "output_type": "stream",
     "text": [
      "\n",
      "📘 Epoch [35/200]\n",
      "  Train MSE Loss:    0.000100\n",
      "  Train SSIM Loss:   0.009793\n",
      "  Train Grad Loss:   0.010628\n",
      "  👉 Total Train Loss:0.009486\n"
     ]
    },
    {
     "name": "stderr",
     "output_type": "stream",
     "text": [
      "Epoch 35/200 - Validating: 100%|██████████| 745/745 [00:22<00:00, 33.53it/s]\n"
     ]
    },
    {
     "name": "stdout",
     "output_type": "stream",
     "text": [
      "  ✅ Validation Loss: 0.010954\n",
      "💾 Best model checkpoint saved.\n"
     ]
    },
    {
     "name": "stderr",
     "output_type": "stream",
     "text": [
      "Epoch 36/200 - Training: 100%|██████████| 1980/1980 [03:12<00:00, 10.28it/s]\n"
     ]
    },
    {
     "name": "stdout",
     "output_type": "stream",
     "text": [
      "\n",
      "📘 Epoch [36/200]\n",
      "  Train MSE Loss:    0.000099\n",
      "  Train SSIM Loss:   0.009659\n",
      "  Train Grad Loss:   0.010574\n",
      "  👉 Total Train Loss:0.009366\n"
     ]
    },
    {
     "name": "stderr",
     "output_type": "stream",
     "text": [
      "Epoch 36/200 - Validating: 100%|██████████| 745/745 [00:22<00:00, 33.47it/s]\n"
     ]
    },
    {
     "name": "stdout",
     "output_type": "stream",
     "text": [
      "  ✅ Validation Loss: 0.010832\n",
      "💾 Best model checkpoint saved.\n"
     ]
    },
    {
     "name": "stderr",
     "output_type": "stream",
     "text": [
      "Epoch 37/200 - Training: 100%|██████████| 1980/1980 [03:12<00:00, 10.27it/s]\n"
     ]
    },
    {
     "name": "stdout",
     "output_type": "stream",
     "text": [
      "\n",
      "📘 Epoch [37/200]\n",
      "  Train MSE Loss:    0.000097\n",
      "  Train SSIM Loss:   0.009522\n",
      "  Train Grad Loss:   0.010521\n",
      "  👉 Total Train Loss:0.009243\n"
     ]
    },
    {
     "name": "stderr",
     "output_type": "stream",
     "text": [
      "Epoch 37/200 - Validating: 100%|██████████| 745/745 [00:21<00:00, 34.03it/s]\n"
     ]
    },
    {
     "name": "stdout",
     "output_type": "stream",
     "text": [
      "  ✅ Validation Loss: 0.010695\n",
      "💾 Best model checkpoint saved.\n"
     ]
    },
    {
     "name": "stderr",
     "output_type": "stream",
     "text": [
      "Epoch 38/200 - Training: 100%|██████████| 1980/1980 [03:12<00:00, 10.28it/s]\n"
     ]
    },
    {
     "name": "stdout",
     "output_type": "stream",
     "text": [
      "\n",
      "📘 Epoch [38/200]\n",
      "  Train MSE Loss:    0.000094\n",
      "  Train SSIM Loss:   0.009349\n",
      "  Train Grad Loss:   0.010462\n",
      "  👉 Total Train Loss:0.009087\n"
     ]
    },
    {
     "name": "stderr",
     "output_type": "stream",
     "text": [
      "Epoch 38/200 - Validating: 100%|██████████| 745/745 [00:22<00:00, 33.68it/s]\n"
     ]
    },
    {
     "name": "stdout",
     "output_type": "stream",
     "text": [
      "  ✅ Validation Loss: 0.010787\n"
     ]
    },
    {
     "name": "stderr",
     "output_type": "stream",
     "text": [
      "Epoch 39/200 - Training: 100%|██████████| 1980/1980 [03:12<00:00, 10.27it/s]\n"
     ]
    },
    {
     "name": "stdout",
     "output_type": "stream",
     "text": [
      "\n",
      "📘 Epoch [39/200]\n",
      "  Train MSE Loss:    0.000094\n",
      "  Train SSIM Loss:   0.009268\n",
      "  Train Grad Loss:   0.010420\n",
      "  👉 Total Train Loss:0.009014\n"
     ]
    },
    {
     "name": "stderr",
     "output_type": "stream",
     "text": [
      "Epoch 39/200 - Validating: 100%|██████████| 745/745 [00:21<00:00, 33.94it/s]\n"
     ]
    },
    {
     "name": "stdout",
     "output_type": "stream",
     "text": [
      "  ✅ Validation Loss: 0.010457\n",
      "💾 Best model checkpoint saved.\n"
     ]
    },
    {
     "name": "stderr",
     "output_type": "stream",
     "text": [
      "Epoch 40/200 - Training: 100%|██████████| 1980/1980 [03:13<00:00, 10.26it/s]\n"
     ]
    },
    {
     "name": "stdout",
     "output_type": "stream",
     "text": [
      "\n",
      "📘 Epoch [40/200]\n",
      "  Train MSE Loss:    0.000092\n",
      "  Train SSIM Loss:   0.009111\n",
      "  Train Grad Loss:   0.010365\n",
      "  👉 Total Train Loss:0.008873\n"
     ]
    },
    {
     "name": "stderr",
     "output_type": "stream",
     "text": [
      "Epoch 40/200 - Validating: 100%|██████████| 745/745 [00:21<00:00, 33.94it/s]\n"
     ]
    },
    {
     "name": "stdout",
     "output_type": "stream",
     "text": [
      "  ✅ Validation Loss: 0.010368\n",
      "💾 Best model checkpoint saved.\n"
     ]
    },
    {
     "name": "stderr",
     "output_type": "stream",
     "text": [
      "Epoch 41/200 - Training: 100%|██████████| 1980/1980 [03:12<00:00, 10.27it/s]\n"
     ]
    },
    {
     "name": "stdout",
     "output_type": "stream",
     "text": [
      "\n",
      "📘 Epoch [41/200]\n",
      "  Train MSE Loss:    0.000090\n",
      "  Train SSIM Loss:   0.008989\n",
      "  Train Grad Loss:   0.010318\n",
      "  👉 Total Train Loss:0.008762\n"
     ]
    },
    {
     "name": "stderr",
     "output_type": "stream",
     "text": [
      "Epoch 41/200 - Validating: 100%|██████████| 745/745 [00:21<00:00, 34.07it/s]\n"
     ]
    },
    {
     "name": "stdout",
     "output_type": "stream",
     "text": [
      "  ✅ Validation Loss: 0.010394\n"
     ]
    },
    {
     "name": "stderr",
     "output_type": "stream",
     "text": [
      "Epoch 42/200 - Training: 100%|██████████| 1980/1980 [03:12<00:00, 10.26it/s]\n"
     ]
    },
    {
     "name": "stdout",
     "output_type": "stream",
     "text": [
      "\n",
      "📘 Epoch [42/200]\n",
      "  Train MSE Loss:    0.000089\n",
      "  Train SSIM Loss:   0.008883\n",
      "  Train Grad Loss:   0.010273\n",
      "  👉 Total Train Loss:0.008667\n"
     ]
    },
    {
     "name": "stderr",
     "output_type": "stream",
     "text": [
      "Epoch 42/200 - Validating: 100%|██████████| 745/745 [00:22<00:00, 33.06it/s]\n"
     ]
    },
    {
     "name": "stdout",
     "output_type": "stream",
     "text": [
      "  ✅ Validation Loss: 0.010250\n",
      "💾 Best model checkpoint saved.\n"
     ]
    },
    {
     "name": "stderr",
     "output_type": "stream",
     "text": [
      "Epoch 43/200 - Training: 100%|██████████| 1980/1980 [03:12<00:00, 10.27it/s]\n"
     ]
    },
    {
     "name": "stdout",
     "output_type": "stream",
     "text": [
      "\n",
      "📘 Epoch [43/200]\n",
      "  Train MSE Loss:    0.000088\n",
      "  Train SSIM Loss:   0.008767\n",
      "  Train Grad Loss:   0.010228\n",
      "  👉 Total Train Loss:0.008563\n"
     ]
    },
    {
     "name": "stderr",
     "output_type": "stream",
     "text": [
      "Epoch 43/200 - Validating: 100%|██████████| 745/745 [00:22<00:00, 33.34it/s]\n"
     ]
    },
    {
     "name": "stdout",
     "output_type": "stream",
     "text": [
      "  ✅ Validation Loss: 0.010035\n",
      "💾 Best model checkpoint saved.\n"
     ]
    },
    {
     "name": "stderr",
     "output_type": "stream",
     "text": [
      "Epoch 44/200 - Training: 100%|██████████| 1980/1980 [03:12<00:00, 10.27it/s]\n"
     ]
    },
    {
     "name": "stdout",
     "output_type": "stream",
     "text": [
      "\n",
      "📘 Epoch [44/200]\n",
      "  Train MSE Loss:    0.000086\n",
      "  Train SSIM Loss:   0.008641\n",
      "  Train Grad Loss:   0.010180\n",
      "  👉 Total Train Loss:0.008448\n"
     ]
    },
    {
     "name": "stderr",
     "output_type": "stream",
     "text": [
      "Epoch 44/200 - Validating: 100%|██████████| 745/745 [00:21<00:00, 33.93it/s]\n"
     ]
    },
    {
     "name": "stdout",
     "output_type": "stream",
     "text": [
      "  ✅ Validation Loss: 0.009952\n",
      "💾 Best model checkpoint saved.\n"
     ]
    },
    {
     "name": "stderr",
     "output_type": "stream",
     "text": [
      "Epoch 45/200 - Training: 100%|██████████| 1980/1980 [03:13<00:00, 10.26it/s]\n"
     ]
    },
    {
     "name": "stdout",
     "output_type": "stream",
     "text": [
      "\n",
      "📘 Epoch [45/200]\n",
      "  Train MSE Loss:    0.000085\n",
      "  Train SSIM Loss:   0.008566\n",
      "  Train Grad Loss:   0.010143\n",
      "  👉 Total Train Loss:0.008380\n"
     ]
    },
    {
     "name": "stderr",
     "output_type": "stream",
     "text": [
      "Epoch 45/200 - Validating: 100%|██████████| 745/745 [00:22<00:00, 33.71it/s]\n"
     ]
    },
    {
     "name": "stdout",
     "output_type": "stream",
     "text": [
      "  ✅ Validation Loss: 0.009837\n",
      "💾 Best model checkpoint saved.\n"
     ]
    },
    {
     "name": "stderr",
     "output_type": "stream",
     "text": [
      "Epoch 46/200 - Training: 100%|██████████| 1980/1980 [03:12<00:00, 10.29it/s]\n"
     ]
    },
    {
     "name": "stdout",
     "output_type": "stream",
     "text": [
      "\n",
      "📘 Epoch [46/200]\n",
      "  Train MSE Loss:    0.000084\n",
      "  Train SSIM Loss:   0.008467\n",
      "  Train Grad Loss:   0.010102\n",
      "  👉 Total Train Loss:0.008291\n"
     ]
    },
    {
     "name": "stderr",
     "output_type": "stream",
     "text": [
      "Epoch 46/200 - Validating: 100%|██████████| 745/745 [00:22<00:00, 33.28it/s]\n"
     ]
    },
    {
     "name": "stdout",
     "output_type": "stream",
     "text": [
      "  ✅ Validation Loss: 0.009816\n",
      "💾 Best model checkpoint saved.\n"
     ]
    },
    {
     "name": "stderr",
     "output_type": "stream",
     "text": [
      "Epoch 47/200 - Training: 100%|██████████| 1980/1980 [03:12<00:00, 10.29it/s]\n"
     ]
    },
    {
     "name": "stdout",
     "output_type": "stream",
     "text": [
      "\n",
      "📘 Epoch [47/200]\n",
      "  Train MSE Loss:    0.000082\n",
      "  Train SSIM Loss:   0.008349\n",
      "  Train Grad Loss:   0.010058\n",
      "  👉 Total Train Loss:0.008184\n"
     ]
    },
    {
     "name": "stderr",
     "output_type": "stream",
     "text": [
      "Epoch 47/200 - Validating: 100%|██████████| 745/745 [00:22<00:00, 33.78it/s]\n"
     ]
    },
    {
     "name": "stdout",
     "output_type": "stream",
     "text": [
      "  ✅ Validation Loss: 0.009793\n",
      "💾 Best model checkpoint saved.\n"
     ]
    },
    {
     "name": "stderr",
     "output_type": "stream",
     "text": [
      "Epoch 48/200 - Training: 100%|██████████| 1980/1980 [03:12<00:00, 10.27it/s]\n"
     ]
    },
    {
     "name": "stdout",
     "output_type": "stream",
     "text": [
      "\n",
      "📘 Epoch [48/200]\n",
      "  Train MSE Loss:    0.000081\n",
      "  Train SSIM Loss:   0.008264\n",
      "  Train Grad Loss:   0.010021\n",
      "  👉 Total Train Loss:0.008108\n"
     ]
    },
    {
     "name": "stderr",
     "output_type": "stream",
     "text": [
      "Epoch 48/200 - Validating: 100%|██████████| 745/745 [00:22<00:00, 33.70it/s]\n"
     ]
    },
    {
     "name": "stdout",
     "output_type": "stream",
     "text": [
      "  ✅ Validation Loss: 0.009662\n",
      "💾 Best model checkpoint saved.\n"
     ]
    },
    {
     "name": "stderr",
     "output_type": "stream",
     "text": [
      "Epoch 49/200 - Training: 100%|██████████| 1980/1980 [03:12<00:00, 10.27it/s]\n"
     ]
    },
    {
     "name": "stdout",
     "output_type": "stream",
     "text": [
      "\n",
      "📘 Epoch [49/200]\n",
      "  Train MSE Loss:    0.000080\n",
      "  Train SSIM Loss:   0.008177\n",
      "  Train Grad Loss:   0.009983\n",
      "  👉 Total Train Loss:0.008029\n"
     ]
    },
    {
     "name": "stderr",
     "output_type": "stream",
     "text": [
      "Epoch 49/200 - Validating: 100%|██████████| 745/745 [00:21<00:00, 34.09it/s]\n"
     ]
    },
    {
     "name": "stdout",
     "output_type": "stream",
     "text": [
      "  ✅ Validation Loss: 0.009550\n",
      "💾 Best model checkpoint saved.\n"
     ]
    },
    {
     "name": "stderr",
     "output_type": "stream",
     "text": [
      "Epoch 50/200 - Training: 100%|██████████| 1980/1980 [03:12<00:00, 10.29it/s]\n"
     ]
    },
    {
     "name": "stdout",
     "output_type": "stream",
     "text": [
      "\n",
      "📘 Epoch [50/200]\n",
      "  Train MSE Loss:    0.000080\n",
      "  Train SSIM Loss:   0.008113\n",
      "  Train Grad Loss:   0.009952\n",
      "  👉 Total Train Loss:0.007971\n"
     ]
    },
    {
     "name": "stderr",
     "output_type": "stream",
     "text": [
      "Epoch 50/200 - Validating: 100%|██████████| 745/745 [00:22<00:00, 33.71it/s]\n"
     ]
    },
    {
     "name": "stdout",
     "output_type": "stream",
     "text": [
      "  ✅ Validation Loss: 0.009434\n",
      "💾 Best model checkpoint saved.\n"
     ]
    },
    {
     "name": "stderr",
     "output_type": "stream",
     "text": [
      "Epoch 51/200 - Training: 100%|██████████| 1980/1980 [03:12<00:00, 10.28it/s]\n"
     ]
    },
    {
     "name": "stdout",
     "output_type": "stream",
     "text": [
      "\n",
      "📘 Epoch [51/200]\n",
      "  Train MSE Loss:    0.000078\n",
      "  Train SSIM Loss:   0.007999\n",
      "  Train Grad Loss:   0.009910\n",
      "  👉 Total Train Loss:0.007868\n"
     ]
    },
    {
     "name": "stderr",
     "output_type": "stream",
     "text": [
      "Epoch 51/200 - Validating: 100%|██████████| 745/745 [00:21<00:00, 34.26it/s]\n"
     ]
    },
    {
     "name": "stdout",
     "output_type": "stream",
     "text": [
      "  ✅ Validation Loss: 0.009299\n",
      "💾 Best model checkpoint saved.\n"
     ]
    },
    {
     "name": "stderr",
     "output_type": "stream",
     "text": [
      "Epoch 52/200 - Training: 100%|██████████| 1980/1980 [03:12<00:00, 10.27it/s]\n"
     ]
    },
    {
     "name": "stdout",
     "output_type": "stream",
     "text": [
      "\n",
      "📘 Epoch [52/200]\n",
      "  Train MSE Loss:    0.000078\n",
      "  Train SSIM Loss:   0.007945\n",
      "  Train Grad Loss:   0.009883\n",
      "  👉 Total Train Loss:0.007819\n"
     ]
    },
    {
     "name": "stderr",
     "output_type": "stream",
     "text": [
      "Epoch 52/200 - Validating: 100%|██████████| 745/745 [00:22<00:00, 33.02it/s]\n"
     ]
    },
    {
     "name": "stdout",
     "output_type": "stream",
     "text": [
      "  ✅ Validation Loss: 0.009539\n"
     ]
    },
    {
     "name": "stderr",
     "output_type": "stream",
     "text": [
      "Epoch 53/200 - Training: 100%|██████████| 1980/1980 [03:12<00:00, 10.28it/s]\n"
     ]
    },
    {
     "name": "stdout",
     "output_type": "stream",
     "text": [
      "\n",
      "📘 Epoch [53/200]\n",
      "  Train MSE Loss:    0.000077\n",
      "  Train SSIM Loss:   0.007864\n",
      "  Train Grad Loss:   0.009848\n",
      "  👉 Total Train Loss:0.007746\n"
     ]
    },
    {
     "name": "stderr",
     "output_type": "stream",
     "text": [
      "Epoch 53/200 - Validating: 100%|██████████| 745/745 [00:21<00:00, 33.97it/s]\n"
     ]
    },
    {
     "name": "stdout",
     "output_type": "stream",
     "text": [
      "  ✅ Validation Loss: 0.009234\n",
      "💾 Best model checkpoint saved.\n"
     ]
    },
    {
     "name": "stderr",
     "output_type": "stream",
     "text": [
      "Epoch 54/200 - Training: 100%|██████████| 1980/1980 [03:12<00:00, 10.27it/s]\n"
     ]
    },
    {
     "name": "stdout",
     "output_type": "stream",
     "text": [
      "\n",
      "📘 Epoch [54/200]\n",
      "  Train MSE Loss:    0.000076\n",
      "  Train SSIM Loss:   0.007782\n",
      "  Train Grad Loss:   0.009814\n",
      "  👉 Total Train Loss:0.007672\n"
     ]
    },
    {
     "name": "stderr",
     "output_type": "stream",
     "text": [
      "Epoch 54/200 - Validating: 100%|██████████| 745/745 [00:21<00:00, 33.96it/s]\n"
     ]
    },
    {
     "name": "stdout",
     "output_type": "stream",
     "text": [
      "  ✅ Validation Loss: 0.009218\n",
      "💾 Best model checkpoint saved.\n"
     ]
    },
    {
     "name": "stderr",
     "output_type": "stream",
     "text": [
      "Epoch 55/200 - Training: 100%|██████████| 1980/1980 [03:12<00:00, 10.27it/s]\n"
     ]
    },
    {
     "name": "stdout",
     "output_type": "stream",
     "text": [
      "\n",
      "📘 Epoch [55/200]\n",
      "  Train MSE Loss:    0.000075\n",
      "  Train SSIM Loss:   0.007709\n",
      "  Train Grad Loss:   0.009783\n",
      "  👉 Total Train Loss:0.007606\n"
     ]
    },
    {
     "name": "stderr",
     "output_type": "stream",
     "text": [
      "Epoch 55/200 - Validating: 100%|██████████| 745/745 [00:22<00:00, 33.83it/s]\n"
     ]
    },
    {
     "name": "stdout",
     "output_type": "stream",
     "text": [
      "  ✅ Validation Loss: 0.009431\n"
     ]
    },
    {
     "name": "stderr",
     "output_type": "stream",
     "text": [
      "Epoch 56/200 - Training: 100%|██████████| 1980/1980 [03:12<00:00, 10.30it/s]\n"
     ]
    },
    {
     "name": "stdout",
     "output_type": "stream",
     "text": [
      "\n",
      "📘 Epoch [56/200]\n",
      "  Train MSE Loss:    0.000074\n",
      "  Train SSIM Loss:   0.007640\n",
      "  Train Grad Loss:   0.009752\n",
      "  👉 Total Train Loss:0.007544\n"
     ]
    },
    {
     "name": "stderr",
     "output_type": "stream",
     "text": [
      "Epoch 56/200 - Validating: 100%|██████████| 745/745 [00:21<00:00, 34.12it/s]\n"
     ]
    },
    {
     "name": "stdout",
     "output_type": "stream",
     "text": [
      "  ✅ Validation Loss: 0.009154\n",
      "💾 Best model checkpoint saved.\n"
     ]
    },
    {
     "name": "stderr",
     "output_type": "stream",
     "text": [
      "Epoch 57/200 - Training: 100%|██████████| 1980/1980 [03:12<00:00, 10.27it/s]\n"
     ]
    },
    {
     "name": "stdout",
     "output_type": "stream",
     "text": [
      "\n",
      "📘 Epoch [57/200]\n",
      "  Train MSE Loss:    0.000073\n",
      "  Train SSIM Loss:   0.007566\n",
      "  Train Grad Loss:   0.009721\n",
      "  👉 Total Train Loss:0.007476\n"
     ]
    },
    {
     "name": "stderr",
     "output_type": "stream",
     "text": [
      "Epoch 57/200 - Validating: 100%|██████████| 745/745 [00:21<00:00, 33.99it/s]\n"
     ]
    },
    {
     "name": "stdout",
     "output_type": "stream",
     "text": [
      "  ✅ Validation Loss: 0.008950\n",
      "💾 Best model checkpoint saved.\n"
     ]
    },
    {
     "name": "stderr",
     "output_type": "stream",
     "text": [
      "Epoch 58/200 - Training: 100%|██████████| 1980/1980 [03:12<00:00, 10.28it/s]\n"
     ]
    },
    {
     "name": "stdout",
     "output_type": "stream",
     "text": [
      "\n",
      "📘 Epoch [58/200]\n",
      "  Train MSE Loss:    0.000073\n",
      "  Train SSIM Loss:   0.007513\n",
      "  Train Grad Loss:   0.009694\n",
      "  👉 Total Train Loss:0.007428\n"
     ]
    },
    {
     "name": "stderr",
     "output_type": "stream",
     "text": [
      "Epoch 58/200 - Validating: 100%|██████████| 745/745 [00:21<00:00, 34.34it/s]\n"
     ]
    },
    {
     "name": "stdout",
     "output_type": "stream",
     "text": [
      "  ✅ Validation Loss: 0.008913\n",
      "💾 Best model checkpoint saved.\n"
     ]
    },
    {
     "name": "stderr",
     "output_type": "stream",
     "text": [
      "Epoch 59/200 - Training: 100%|██████████| 1980/1980 [03:12<00:00, 10.30it/s]\n"
     ]
    },
    {
     "name": "stdout",
     "output_type": "stream",
     "text": [
      "\n",
      "📘 Epoch [59/200]\n",
      "  Train MSE Loss:    0.000071\n",
      "  Train SSIM Loss:   0.007430\n",
      "  Train Grad Loss:   0.009662\n",
      "  👉 Total Train Loss:0.007353\n"
     ]
    },
    {
     "name": "stderr",
     "output_type": "stream",
     "text": [
      "Epoch 59/200 - Validating: 100%|██████████| 745/745 [00:22<00:00, 33.84it/s]\n"
     ]
    },
    {
     "name": "stdout",
     "output_type": "stream",
     "text": [
      "  ✅ Validation Loss: 0.008879\n",
      "💾 Best model checkpoint saved.\n"
     ]
    },
    {
     "name": "stderr",
     "output_type": "stream",
     "text": [
      "Epoch 60/200 - Training: 100%|██████████| 1980/1980 [03:12<00:00, 10.26it/s]\n"
     ]
    },
    {
     "name": "stdout",
     "output_type": "stream",
     "text": [
      "\n",
      "📘 Epoch [60/200]\n",
      "  Train MSE Loss:    0.000071\n",
      "  Train SSIM Loss:   0.007371\n",
      "  Train Grad Loss:   0.009634\n",
      "  👉 Total Train Loss:0.007300\n"
     ]
    },
    {
     "name": "stderr",
     "output_type": "stream",
     "text": [
      "Epoch 60/200 - Validating: 100%|██████████| 745/745 [00:22<00:00, 33.54it/s]\n"
     ]
    },
    {
     "name": "stdout",
     "output_type": "stream",
     "text": [
      "  ✅ Validation Loss: 0.008761\n",
      "💾 Best model checkpoint saved.\n"
     ]
    },
    {
     "name": "stderr",
     "output_type": "stream",
     "text": [
      "Epoch 61/200 - Training: 100%|██████████| 1980/1980 [03:13<00:00, 10.25it/s]\n"
     ]
    },
    {
     "name": "stdout",
     "output_type": "stream",
     "text": [
      "\n",
      "📘 Epoch [61/200]\n",
      "  Train MSE Loss:    0.000070\n",
      "  Train SSIM Loss:   0.007308\n",
      "  Train Grad Loss:   0.009605\n",
      "  👉 Total Train Loss:0.007242\n"
     ]
    },
    {
     "name": "stderr",
     "output_type": "stream",
     "text": [
      "Epoch 61/200 - Validating: 100%|██████████| 745/745 [00:21<00:00, 34.03it/s]\n"
     ]
    },
    {
     "name": "stdout",
     "output_type": "stream",
     "text": [
      "  ✅ Validation Loss: 0.008676\n",
      "💾 Best model checkpoint saved.\n"
     ]
    },
    {
     "name": "stderr",
     "output_type": "stream",
     "text": [
      "Epoch 62/200 - Training: 100%|██████████| 1980/1980 [03:13<00:00, 10.25it/s]\n"
     ]
    },
    {
     "name": "stdout",
     "output_type": "stream",
     "text": [
      "\n",
      "📘 Epoch [62/200]\n",
      "  Train MSE Loss:    0.000070\n",
      "  Train SSIM Loss:   0.007262\n",
      "  Train Grad Loss:   0.009581\n",
      "  👉 Total Train Loss:0.007200\n"
     ]
    },
    {
     "name": "stderr",
     "output_type": "stream",
     "text": [
      "Epoch 62/200 - Validating: 100%|██████████| 745/745 [00:22<00:00, 33.46it/s]\n"
     ]
    },
    {
     "name": "stdout",
     "output_type": "stream",
     "text": [
      "  ✅ Validation Loss: 0.008634\n",
      "💾 Best model checkpoint saved.\n"
     ]
    },
    {
     "name": "stderr",
     "output_type": "stream",
     "text": [
      "Epoch 63/200 - Training: 100%|██████████| 1980/1980 [03:12<00:00, 10.28it/s]\n"
     ]
    },
    {
     "name": "stdout",
     "output_type": "stream",
     "text": [
      "\n",
      "📘 Epoch [63/200]\n",
      "  Train MSE Loss:    0.000069\n",
      "  Train SSIM Loss:   0.007201\n",
      "  Train Grad Loss:   0.009555\n",
      "  👉 Total Train Loss:0.007145\n"
     ]
    },
    {
     "name": "stderr",
     "output_type": "stream",
     "text": [
      "Epoch 63/200 - Validating: 100%|██████████| 745/745 [00:22<00:00, 33.60it/s]\n"
     ]
    },
    {
     "name": "stdout",
     "output_type": "stream",
     "text": [
      "  ✅ Validation Loss: 0.008615\n",
      "💾 Best model checkpoint saved.\n"
     ]
    },
    {
     "name": "stderr",
     "output_type": "stream",
     "text": [
      "Epoch 64/200 - Training: 100%|██████████| 1980/1980 [03:12<00:00, 10.26it/s]\n"
     ]
    },
    {
     "name": "stdout",
     "output_type": "stream",
     "text": [
      "\n",
      "📘 Epoch [64/200]\n",
      "  Train MSE Loss:    0.000069\n",
      "  Train SSIM Loss:   0.007146\n",
      "  Train Grad Loss:   0.009529\n",
      "  👉 Total Train Loss:0.007096\n"
     ]
    },
    {
     "name": "stderr",
     "output_type": "stream",
     "text": [
      "Epoch 64/200 - Validating: 100%|██████████| 745/745 [00:22<00:00, 33.28it/s]\n"
     ]
    },
    {
     "name": "stdout",
     "output_type": "stream",
     "text": [
      "  ✅ Validation Loss: 0.008577\n",
      "💾 Best model checkpoint saved.\n"
     ]
    },
    {
     "name": "stderr",
     "output_type": "stream",
     "text": [
      "Epoch 65/200 - Training: 100%|██████████| 1980/1980 [03:12<00:00, 10.30it/s]\n"
     ]
    },
    {
     "name": "stdout",
     "output_type": "stream",
     "text": [
      "\n",
      "📘 Epoch [65/200]\n",
      "  Train MSE Loss:    0.000067\n",
      "  Train SSIM Loss:   0.007072\n",
      "  Train Grad Loss:   0.009500\n",
      "  👉 Total Train Loss:0.007029\n"
     ]
    },
    {
     "name": "stderr",
     "output_type": "stream",
     "text": [
      "Epoch 65/200 - Validating: 100%|██████████| 745/745 [00:22<00:00, 33.41it/s]\n"
     ]
    },
    {
     "name": "stdout",
     "output_type": "stream",
     "text": [
      "  ✅ Validation Loss: 0.008545\n",
      "💾 Best model checkpoint saved.\n"
     ]
    },
    {
     "name": "stderr",
     "output_type": "stream",
     "text": [
      "Epoch 66/200 - Training: 100%|██████████| 1980/1980 [03:13<00:00, 10.23it/s]\n"
     ]
    },
    {
     "name": "stdout",
     "output_type": "stream",
     "text": [
      "\n",
      "📘 Epoch [66/200]\n",
      "  Train MSE Loss:    0.000067\n",
      "  Train SSIM Loss:   0.007027\n",
      "  Train Grad Loss:   0.009477\n",
      "  👉 Total Train Loss:0.006988\n"
     ]
    },
    {
     "name": "stderr",
     "output_type": "stream",
     "text": [
      "Epoch 66/200 - Validating: 100%|██████████| 745/745 [00:22<00:00, 33.29it/s]\n"
     ]
    },
    {
     "name": "stdout",
     "output_type": "stream",
     "text": [
      "  ✅ Validation Loss: 0.008407\n",
      "💾 Best model checkpoint saved.\n"
     ]
    },
    {
     "name": "stderr",
     "output_type": "stream",
     "text": [
      "Epoch 67/200 - Training: 100%|██████████| 1980/1980 [03:13<00:00, 10.26it/s]\n"
     ]
    },
    {
     "name": "stdout",
     "output_type": "stream",
     "text": [
      "\n",
      "📘 Epoch [67/200]\n",
      "  Train MSE Loss:    0.000067\n",
      "  Train SSIM Loss:   0.006993\n",
      "  Train Grad Loss:   0.009456\n",
      "  👉 Total Train Loss:0.006957\n"
     ]
    },
    {
     "name": "stderr",
     "output_type": "stream",
     "text": [
      "Epoch 67/200 - Validating: 100%|██████████| 745/745 [00:21<00:00, 34.01it/s]\n"
     ]
    },
    {
     "name": "stdout",
     "output_type": "stream",
     "text": [
      "  ✅ Validation Loss: 0.008547\n"
     ]
    },
    {
     "name": "stderr",
     "output_type": "stream",
     "text": [
      "Epoch 68/200 - Training: 100%|██████████| 1980/1980 [03:13<00:00, 10.25it/s]\n"
     ]
    },
    {
     "name": "stdout",
     "output_type": "stream",
     "text": [
      "\n",
      "📘 Epoch [68/200]\n",
      "  Train MSE Loss:    0.000067\n",
      "  Train SSIM Loss:   0.006942\n",
      "  Train Grad Loss:   0.009431\n",
      "  👉 Total Train Loss:0.006910\n"
     ]
    },
    {
     "name": "stderr",
     "output_type": "stream",
     "text": [
      "Epoch 68/200 - Validating: 100%|██████████| 745/745 [00:22<00:00, 33.73it/s]\n"
     ]
    },
    {
     "name": "stdout",
     "output_type": "stream",
     "text": [
      "  ✅ Validation Loss: 0.008353\n",
      "💾 Best model checkpoint saved.\n"
     ]
    },
    {
     "name": "stderr",
     "output_type": "stream",
     "text": [
      "Epoch 69/200 - Training: 100%|██████████| 1980/1980 [03:12<00:00, 10.27it/s]\n"
     ]
    },
    {
     "name": "stdout",
     "output_type": "stream",
     "text": [
      "\n",
      "📘 Epoch [69/200]\n",
      "  Train MSE Loss:    0.000065\n",
      "  Train SSIM Loss:   0.006864\n",
      "  Train Grad Loss:   0.009402\n",
      "  👉 Total Train Loss:0.006840\n"
     ]
    },
    {
     "name": "stderr",
     "output_type": "stream",
     "text": [
      "Epoch 69/200 - Validating: 100%|██████████| 745/745 [00:22<00:00, 33.69it/s]\n"
     ]
    },
    {
     "name": "stdout",
     "output_type": "stream",
     "text": [
      "  ✅ Validation Loss: 0.008349\n",
      "💾 Best model checkpoint saved.\n"
     ]
    },
    {
     "name": "stderr",
     "output_type": "stream",
     "text": [
      "Epoch 70/200 - Training: 100%|██████████| 1980/1980 [03:12<00:00, 10.27it/s]\n"
     ]
    },
    {
     "name": "stdout",
     "output_type": "stream",
     "text": [
      "\n",
      "📘 Epoch [70/200]\n",
      "  Train MSE Loss:    0.000066\n",
      "  Train SSIM Loss:   0.006853\n",
      "  Train Grad Loss:   0.009386\n",
      "  👉 Total Train Loss:0.006830\n"
     ]
    },
    {
     "name": "stderr",
     "output_type": "stream",
     "text": [
      "Epoch 70/200 - Validating: 100%|██████████| 745/745 [00:22<00:00, 33.23it/s]\n"
     ]
    },
    {
     "name": "stdout",
     "output_type": "stream",
     "text": [
      "  ✅ Validation Loss: 0.008237\n",
      "💾 Best model checkpoint saved.\n"
     ]
    },
    {
     "name": "stderr",
     "output_type": "stream",
     "text": [
      "Epoch 71/200 - Training: 100%|██████████| 1980/1980 [03:12<00:00, 10.29it/s]\n"
     ]
    },
    {
     "name": "stdout",
     "output_type": "stream",
     "text": [
      "\n",
      "📘 Epoch [71/200]\n",
      "  Train MSE Loss:    0.000064\n",
      "  Train SSIM Loss:   0.006768\n",
      "  Train Grad Loss:   0.009355\n",
      "  👉 Total Train Loss:0.006753\n"
     ]
    },
    {
     "name": "stderr",
     "output_type": "stream",
     "text": [
      "Epoch 71/200 - Validating: 100%|██████████| 745/745 [00:22<00:00, 33.01it/s]\n"
     ]
    },
    {
     "name": "stdout",
     "output_type": "stream",
     "text": [
      "  ✅ Validation Loss: 0.008276\n"
     ]
    },
    {
     "name": "stderr",
     "output_type": "stream",
     "text": [
      "Epoch 72/200 - Training: 100%|██████████| 1980/1980 [03:12<00:00, 10.26it/s]\n"
     ]
    },
    {
     "name": "stdout",
     "output_type": "stream",
     "text": [
      "\n",
      "📘 Epoch [72/200]\n",
      "  Train MSE Loss:    0.000064\n",
      "  Train SSIM Loss:   0.006746\n",
      "  Train Grad Loss:   0.009339\n",
      "  👉 Total Train Loss:0.006732\n"
     ]
    },
    {
     "name": "stderr",
     "output_type": "stream",
     "text": [
      "Epoch 72/200 - Validating: 100%|██████████| 745/745 [00:22<00:00, 33.24it/s]\n"
     ]
    },
    {
     "name": "stdout",
     "output_type": "stream",
     "text": [
      "  ✅ Validation Loss: 0.008146\n",
      "💾 Best model checkpoint saved.\n"
     ]
    },
    {
     "name": "stderr",
     "output_type": "stream",
     "text": [
      "Epoch 73/200 - Training: 100%|██████████| 1980/1980 [03:12<00:00, 10.30it/s]\n"
     ]
    },
    {
     "name": "stdout",
     "output_type": "stream",
     "text": [
      "\n",
      "📘 Epoch [73/200]\n",
      "  Train MSE Loss:    0.000063\n",
      "  Train SSIM Loss:   0.006673\n",
      "  Train Grad Loss:   0.009309\n",
      "  👉 Total Train Loss:0.006666\n"
     ]
    },
    {
     "name": "stderr",
     "output_type": "stream",
     "text": [
      "Epoch 73/200 - Validating: 100%|██████████| 745/745 [00:22<00:00, 33.12it/s]\n"
     ]
    },
    {
     "name": "stdout",
     "output_type": "stream",
     "text": [
      "  ✅ Validation Loss: 0.008145\n",
      "💾 Best model checkpoint saved.\n"
     ]
    },
    {
     "name": "stderr",
     "output_type": "stream",
     "text": [
      "Epoch 74/200 - Training: 100%|██████████| 1980/1980 [03:12<00:00, 10.26it/s]\n"
     ]
    },
    {
     "name": "stdout",
     "output_type": "stream",
     "text": [
      "\n",
      "📘 Epoch [74/200]\n",
      "  Train MSE Loss:    0.000063\n",
      "  Train SSIM Loss:   0.006640\n",
      "  Train Grad Loss:   0.009289\n",
      "  👉 Total Train Loss:0.006635\n"
     ]
    },
    {
     "name": "stderr",
     "output_type": "stream",
     "text": [
      "Epoch 74/200 - Validating: 100%|██████████| 745/745 [00:21<00:00, 34.14it/s]\n"
     ]
    },
    {
     "name": "stdout",
     "output_type": "stream",
     "text": [
      "  ✅ Validation Loss: 0.008186\n"
     ]
    },
    {
     "name": "stderr",
     "output_type": "stream",
     "text": [
      "Epoch 75/200 - Training: 100%|██████████| 1980/1980 [03:12<00:00, 10.28it/s]\n"
     ]
    },
    {
     "name": "stdout",
     "output_type": "stream",
     "text": [
      "\n",
      "📘 Epoch [75/200]\n",
      "  Train MSE Loss:    0.000063\n",
      "  Train SSIM Loss:   0.006611\n",
      "  Train Grad Loss:   0.009270\n",
      "  👉 Total Train Loss:0.006609\n"
     ]
    },
    {
     "name": "stderr",
     "output_type": "stream",
     "text": [
      "Epoch 75/200 - Validating: 100%|██████████| 745/745 [00:22<00:00, 33.85it/s]\n"
     ]
    },
    {
     "name": "stdout",
     "output_type": "stream",
     "text": [
      "  ✅ Validation Loss: 0.008072\n",
      "💾 Best model checkpoint saved.\n"
     ]
    },
    {
     "name": "stderr",
     "output_type": "stream",
     "text": [
      "Epoch 76/200 - Training: 100%|██████████| 1980/1980 [03:12<00:00, 10.28it/s]\n"
     ]
    },
    {
     "name": "stdout",
     "output_type": "stream",
     "text": [
      "\n",
      "📘 Epoch [76/200]\n",
      "  Train MSE Loss:    0.000062\n",
      "  Train SSIM Loss:   0.006568\n",
      "  Train Grad Loss:   0.009249\n",
      "  👉 Total Train Loss:0.006570\n"
     ]
    },
    {
     "name": "stderr",
     "output_type": "stream",
     "text": [
      "Epoch 76/200 - Validating: 100%|██████████| 745/745 [00:22<00:00, 33.44it/s]\n"
     ]
    },
    {
     "name": "stdout",
     "output_type": "stream",
     "text": [
      "  ✅ Validation Loss: 0.008095\n"
     ]
    },
    {
     "name": "stderr",
     "output_type": "stream",
     "text": [
      "Epoch 77/200 - Training: 100%|██████████| 1980/1980 [03:12<00:00, 10.27it/s]\n"
     ]
    },
    {
     "name": "stdout",
     "output_type": "stream",
     "text": [
      "\n",
      "📘 Epoch [77/200]\n",
      "  Train MSE Loss:    0.000061\n",
      "  Train SSIM Loss:   0.006506\n",
      "  Train Grad Loss:   0.009224\n",
      "  👉 Total Train Loss:0.006513\n"
     ]
    },
    {
     "name": "stderr",
     "output_type": "stream",
     "text": [
      "Epoch 77/200 - Validating: 100%|██████████| 745/745 [00:21<00:00, 33.89it/s]\n"
     ]
    },
    {
     "name": "stdout",
     "output_type": "stream",
     "text": [
      "  ✅ Validation Loss: 0.008010\n",
      "💾 Best model checkpoint saved.\n"
     ]
    },
    {
     "name": "stderr",
     "output_type": "stream",
     "text": [
      "Epoch 78/200 - Training: 100%|██████████| 1980/1980 [03:12<00:00, 10.27it/s]\n"
     ]
    },
    {
     "name": "stdout",
     "output_type": "stream",
     "text": [
      "\n",
      "📘 Epoch [78/200]\n",
      "  Train MSE Loss:    0.000062\n",
      "  Train SSIM Loss:   0.006490\n",
      "  Train Grad Loss:   0.009208\n",
      "  👉 Total Train Loss:0.006499\n"
     ]
    },
    {
     "name": "stderr",
     "output_type": "stream",
     "text": [
      "Epoch 78/200 - Validating: 100%|██████████| 745/745 [00:22<00:00, 33.44it/s]\n"
     ]
    },
    {
     "name": "stdout",
     "output_type": "stream",
     "text": [
      "  ✅ Validation Loss: 0.007911\n",
      "💾 Best model checkpoint saved.\n"
     ]
    },
    {
     "name": "stderr",
     "output_type": "stream",
     "text": [
      "Epoch 79/200 - Training: 100%|██████████| 1980/1980 [03:12<00:00, 10.26it/s]\n"
     ]
    },
    {
     "name": "stdout",
     "output_type": "stream",
     "text": [
      "\n",
      "📘 Epoch [79/200]\n",
      "  Train MSE Loss:    0.000060\n",
      "  Train SSIM Loss:   0.006416\n",
      "  Train Grad Loss:   0.009180\n",
      "  👉 Total Train Loss:0.006432\n"
     ]
    },
    {
     "name": "stderr",
     "output_type": "stream",
     "text": [
      "Epoch 79/200 - Validating: 100%|██████████| 745/745 [00:22<00:00, 33.76it/s]\n"
     ]
    },
    {
     "name": "stdout",
     "output_type": "stream",
     "text": [
      "  ✅ Validation Loss: 0.008024\n"
     ]
    },
    {
     "name": "stderr",
     "output_type": "stream",
     "text": [
      "Epoch 80/200 - Training: 100%|██████████| 1980/1980 [03:12<00:00, 10.28it/s]\n"
     ]
    },
    {
     "name": "stdout",
     "output_type": "stream",
     "text": [
      "\n",
      "📘 Epoch [80/200]\n",
      "  Train MSE Loss:    0.000060\n",
      "  Train SSIM Loss:   0.006384\n",
      "  Train Grad Loss:   0.009162\n",
      "  👉 Total Train Loss:0.006403\n"
     ]
    },
    {
     "name": "stderr",
     "output_type": "stream",
     "text": [
      "Epoch 80/200 - Validating: 100%|██████████| 745/745 [00:21<00:00, 34.14it/s]\n"
     ]
    },
    {
     "name": "stdout",
     "output_type": "stream",
     "text": [
      "  ✅ Validation Loss: 0.007899\n",
      "💾 Best model checkpoint saved.\n"
     ]
    },
    {
     "name": "stderr",
     "output_type": "stream",
     "text": [
      "Epoch 81/200 - Training: 100%|██████████| 1980/1980 [03:12<00:00, 10.28it/s]\n"
     ]
    },
    {
     "name": "stdout",
     "output_type": "stream",
     "text": [
      "\n",
      "📘 Epoch [81/200]\n",
      "  Train MSE Loss:    0.000060\n",
      "  Train SSIM Loss:   0.006362\n",
      "  Train Grad Loss:   0.009145\n",
      "  👉 Total Train Loss:0.006382\n"
     ]
    },
    {
     "name": "stderr",
     "output_type": "stream",
     "text": [
      "Epoch 81/200 - Validating: 100%|██████████| 745/745 [00:22<00:00, 33.50it/s]\n"
     ]
    },
    {
     "name": "stdout",
     "output_type": "stream",
     "text": [
      "  ✅ Validation Loss: 0.007862\n",
      "💾 Best model checkpoint saved.\n"
     ]
    },
    {
     "name": "stderr",
     "output_type": "stream",
     "text": [
      "Epoch 82/200 - Training: 100%|██████████| 1980/1980 [03:12<00:00, 10.28it/s]\n"
     ]
    },
    {
     "name": "stdout",
     "output_type": "stream",
     "text": [
      "\n",
      "📘 Epoch [82/200]\n",
      "  Train MSE Loss:    0.000059\n",
      "  Train SSIM Loss:   0.006312\n",
      "  Train Grad Loss:   0.009123\n",
      "  👉 Total Train Loss:0.006337\n"
     ]
    },
    {
     "name": "stderr",
     "output_type": "stream",
     "text": [
      "Epoch 82/200 - Validating: 100%|██████████| 745/745 [00:22<00:00, 33.24it/s]\n"
     ]
    },
    {
     "name": "stdout",
     "output_type": "stream",
     "text": [
      "  ✅ Validation Loss: 0.007824\n",
      "💾 Best model checkpoint saved.\n"
     ]
    },
    {
     "name": "stderr",
     "output_type": "stream",
     "text": [
      "Epoch 83/200 - Training: 100%|██████████| 1980/1980 [03:12<00:00, 10.27it/s]\n"
     ]
    },
    {
     "name": "stdout",
     "output_type": "stream",
     "text": [
      "\n",
      "📘 Epoch [83/200]\n",
      "  Train MSE Loss:    0.000059\n",
      "  Train SSIM Loss:   0.006275\n",
      "  Train Grad Loss:   0.009104\n",
      "  👉 Total Train Loss:0.006304\n"
     ]
    },
    {
     "name": "stderr",
     "output_type": "stream",
     "text": [
      "Epoch 83/200 - Validating: 100%|██████████| 745/745 [00:22<00:00, 33.55it/s]\n"
     ]
    },
    {
     "name": "stdout",
     "output_type": "stream",
     "text": [
      "  ✅ Validation Loss: 0.007683\n",
      "💾 Best model checkpoint saved.\n"
     ]
    },
    {
     "name": "stderr",
     "output_type": "stream",
     "text": [
      "Epoch 84/200 - Training: 100%|██████████| 1980/1980 [03:12<00:00, 10.27it/s]\n"
     ]
    },
    {
     "name": "stdout",
     "output_type": "stream",
     "text": [
      "\n",
      "📘 Epoch [84/200]\n",
      "  Train MSE Loss:    0.000059\n",
      "  Train SSIM Loss:   0.006240\n",
      "  Train Grad Loss:   0.009085\n",
      "  👉 Total Train Loss:0.006271\n"
     ]
    },
    {
     "name": "stderr",
     "output_type": "stream",
     "text": [
      "Epoch 84/200 - Validating: 100%|██████████| 745/745 [00:22<00:00, 33.49it/s]\n"
     ]
    },
    {
     "name": "stdout",
     "output_type": "stream",
     "text": [
      "  ✅ Validation Loss: 0.007809\n"
     ]
    },
    {
     "name": "stderr",
     "output_type": "stream",
     "text": [
      "Epoch 85/200 - Training: 100%|██████████| 1980/1980 [03:12<00:00, 10.29it/s]\n"
     ]
    },
    {
     "name": "stdout",
     "output_type": "stream",
     "text": [
      "\n",
      "📘 Epoch [85/200]\n",
      "  Train MSE Loss:    0.000058\n",
      "  Train SSIM Loss:   0.006203\n",
      "  Train Grad Loss:   0.009065\n",
      "  👉 Total Train Loss:0.006237\n"
     ]
    },
    {
     "name": "stderr",
     "output_type": "stream",
     "text": [
      "Epoch 85/200 - Validating: 100%|██████████| 745/745 [00:22<00:00, 33.80it/s]\n"
     ]
    },
    {
     "name": "stdout",
     "output_type": "stream",
     "text": [
      "  ✅ Validation Loss: 0.007759\n"
     ]
    },
    {
     "name": "stderr",
     "output_type": "stream",
     "text": [
      "Epoch 86/200 - Training: 100%|██████████| 1980/1980 [03:12<00:00, 10.29it/s]\n"
     ]
    },
    {
     "name": "stdout",
     "output_type": "stream",
     "text": [
      "\n",
      "📘 Epoch [86/200]\n",
      "  Train MSE Loss:    0.000058\n",
      "  Train SSIM Loss:   0.006169\n",
      "  Train Grad Loss:   0.009048\n",
      "  👉 Total Train Loss:0.006206\n"
     ]
    },
    {
     "name": "stderr",
     "output_type": "stream",
     "text": [
      "Epoch 86/200 - Validating: 100%|██████████| 745/745 [00:22<00:00, 33.62it/s]\n"
     ]
    },
    {
     "name": "stdout",
     "output_type": "stream",
     "text": [
      "  ✅ Validation Loss: 0.007742\n"
     ]
    },
    {
     "name": "stderr",
     "output_type": "stream",
     "text": [
      "Epoch 87/200 - Training: 100%|██████████| 1980/1980 [03:13<00:00, 10.26it/s]\n"
     ]
    },
    {
     "name": "stdout",
     "output_type": "stream",
     "text": [
      "\n",
      "📘 Epoch [87/200]\n",
      "  Train MSE Loss:    0.000057\n",
      "  Train SSIM Loss:   0.006127\n",
      "  Train Grad Loss:   0.009028\n",
      "  👉 Total Train Loss:0.006168\n"
     ]
    },
    {
     "name": "stderr",
     "output_type": "stream",
     "text": [
      "Epoch 87/200 - Validating: 100%|██████████| 745/745 [00:21<00:00, 34.07it/s]\n"
     ]
    },
    {
     "name": "stdout",
     "output_type": "stream",
     "text": [
      "  ✅ Validation Loss: 0.007577\n",
      "💾 Best model checkpoint saved.\n"
     ]
    },
    {
     "name": "stderr",
     "output_type": "stream",
     "text": [
      "Epoch 88/200 - Training: 100%|██████████| 1980/1980 [03:12<00:00, 10.30it/s]\n"
     ]
    },
    {
     "name": "stdout",
     "output_type": "stream",
     "text": [
      "\n",
      "📘 Epoch [88/200]\n",
      "  Train MSE Loss:    0.000057\n",
      "  Train SSIM Loss:   0.006101\n",
      "  Train Grad Loss:   0.009011\n",
      "  👉 Total Train Loss:0.006144\n"
     ]
    },
    {
     "name": "stderr",
     "output_type": "stream",
     "text": [
      "Epoch 88/200 - Validating: 100%|██████████| 745/745 [00:21<00:00, 34.13it/s]\n"
     ]
    },
    {
     "name": "stdout",
     "output_type": "stream",
     "text": [
      "  ✅ Validation Loss: 0.007559\n",
      "💾 Best model checkpoint saved.\n"
     ]
    },
    {
     "name": "stderr",
     "output_type": "stream",
     "text": [
      "Epoch 89/200 - Training: 100%|██████████| 1980/1980 [03:13<00:00, 10.25it/s]\n"
     ]
    },
    {
     "name": "stdout",
     "output_type": "stream",
     "text": [
      "\n",
      "📘 Epoch [89/200]\n",
      "  Train MSE Loss:    0.000057\n",
      "  Train SSIM Loss:   0.006071\n",
      "  Train Grad Loss:   0.008995\n",
      "  👉 Total Train Loss:0.006116\n"
     ]
    },
    {
     "name": "stderr",
     "output_type": "stream",
     "text": [
      "Epoch 89/200 - Validating: 100%|██████████| 745/745 [00:21<00:00, 34.22it/s]\n"
     ]
    },
    {
     "name": "stdout",
     "output_type": "stream",
     "text": [
      "  ✅ Validation Loss: 0.007531\n",
      "💾 Best model checkpoint saved.\n"
     ]
    },
    {
     "name": "stderr",
     "output_type": "stream",
     "text": [
      "Epoch 90/200 - Training: 100%|██████████| 1980/1980 [03:12<00:00, 10.28it/s]\n"
     ]
    },
    {
     "name": "stdout",
     "output_type": "stream",
     "text": [
      "\n",
      "📘 Epoch [90/200]\n",
      "  Train MSE Loss:    0.000057\n",
      "  Train SSIM Loss:   0.006041\n",
      "  Train Grad Loss:   0.008977\n",
      "  👉 Total Train Loss:0.006089\n"
     ]
    },
    {
     "name": "stderr",
     "output_type": "stream",
     "text": [
      "Epoch 90/200 - Validating: 100%|██████████| 745/745 [00:21<00:00, 34.14it/s]\n"
     ]
    },
    {
     "name": "stdout",
     "output_type": "stream",
     "text": [
      "  ✅ Validation Loss: 0.007774\n"
     ]
    },
    {
     "name": "stderr",
     "output_type": "stream",
     "text": [
      "Epoch 91/200 - Training: 100%|██████████| 1980/1980 [03:12<00:00, 10.29it/s]\n"
     ]
    },
    {
     "name": "stdout",
     "output_type": "stream",
     "text": [
      "\n",
      "📘 Epoch [91/200]\n",
      "  Train MSE Loss:    0.000057\n",
      "  Train SSIM Loss:   0.006017\n",
      "  Train Grad Loss:   0.008961\n",
      "  👉 Total Train Loss:0.006067\n"
     ]
    },
    {
     "name": "stderr",
     "output_type": "stream",
     "text": [
      "Epoch 91/200 - Validating: 100%|██████████| 745/745 [00:21<00:00, 33.97it/s]\n"
     ]
    },
    {
     "name": "stdout",
     "output_type": "stream",
     "text": [
      "  ✅ Validation Loss: 0.007485\n",
      "💾 Best model checkpoint saved.\n"
     ]
    },
    {
     "name": "stderr",
     "output_type": "stream",
     "text": [
      "Epoch 92/200 - Training: 100%|██████████| 1980/1980 [03:13<00:00, 10.26it/s]\n"
     ]
    },
    {
     "name": "stdout",
     "output_type": "stream",
     "text": [
      "\n",
      "📘 Epoch [92/200]\n",
      "  Train MSE Loss:    0.000056\n",
      "  Train SSIM Loss:   0.005984\n",
      "  Train Grad Loss:   0.008946\n",
      "  👉 Total Train Loss:0.006037\n"
     ]
    },
    {
     "name": "stderr",
     "output_type": "stream",
     "text": [
      "Epoch 92/200 - Validating: 100%|██████████| 745/745 [00:21<00:00, 33.93it/s]\n"
     ]
    },
    {
     "name": "stdout",
     "output_type": "stream",
     "text": [
      "  ✅ Validation Loss: 0.007523\n"
     ]
    },
    {
     "name": "stderr",
     "output_type": "stream",
     "text": [
      "Epoch 93/200 - Training: 100%|██████████| 1980/1980 [03:12<00:00, 10.29it/s]\n"
     ]
    },
    {
     "name": "stdout",
     "output_type": "stream",
     "text": [
      "\n",
      "📘 Epoch [93/200]\n",
      "  Train MSE Loss:    0.000055\n",
      "  Train SSIM Loss:   0.005931\n",
      "  Train Grad Loss:   0.008923\n",
      "  👉 Total Train Loss:0.005989\n"
     ]
    },
    {
     "name": "stderr",
     "output_type": "stream",
     "text": [
      "Epoch 93/200 - Validating: 100%|██████████| 745/745 [00:22<00:00, 33.48it/s]\n"
     ]
    },
    {
     "name": "stdout",
     "output_type": "stream",
     "text": [
      "  ✅ Validation Loss: 0.007390\n",
      "💾 Best model checkpoint saved.\n"
     ]
    },
    {
     "name": "stderr",
     "output_type": "stream",
     "text": [
      "Epoch 94/200 - Training: 100%|██████████| 1980/1980 [03:12<00:00, 10.27it/s]\n"
     ]
    },
    {
     "name": "stdout",
     "output_type": "stream",
     "text": [
      "\n",
      "📘 Epoch [94/200]\n",
      "  Train MSE Loss:    0.000055\n",
      "  Train SSIM Loss:   0.005912\n",
      "  Train Grad Loss:   0.008909\n",
      "  👉 Total Train Loss:0.005972\n"
     ]
    },
    {
     "name": "stderr",
     "output_type": "stream",
     "text": [
      "Epoch 94/200 - Validating: 100%|██████████| 745/745 [00:22<00:00, 33.15it/s]\n"
     ]
    },
    {
     "name": "stdout",
     "output_type": "stream",
     "text": [
      "  ✅ Validation Loss: 0.007349\n",
      "💾 Best model checkpoint saved.\n"
     ]
    },
    {
     "name": "stderr",
     "output_type": "stream",
     "text": [
      "Epoch 95/200 - Training: 100%|██████████| 1980/1980 [03:12<00:00, 10.28it/s]\n"
     ]
    },
    {
     "name": "stdout",
     "output_type": "stream",
     "text": [
      "\n",
      "📘 Epoch [95/200]\n",
      "  Train MSE Loss:    0.000055\n",
      "  Train SSIM Loss:   0.005879\n",
      "  Train Grad Loss:   0.008893\n",
      "  👉 Total Train Loss:0.005941\n"
     ]
    },
    {
     "name": "stderr",
     "output_type": "stream",
     "text": [
      "Epoch 95/200 - Validating: 100%|██████████| 745/745 [00:22<00:00, 33.79it/s]\n"
     ]
    },
    {
     "name": "stdout",
     "output_type": "stream",
     "text": [
      "  ✅ Validation Loss: 0.007443\n"
     ]
    },
    {
     "name": "stderr",
     "output_type": "stream",
     "text": [
      "Epoch 96/200 - Training: 100%|██████████| 1980/1980 [03:12<00:00, 10.30it/s]\n"
     ]
    },
    {
     "name": "stdout",
     "output_type": "stream",
     "text": [
      "\n",
      "📘 Epoch [96/200]\n",
      "  Train MSE Loss:    0.000055\n",
      "  Train SSIM Loss:   0.005860\n",
      "  Train Grad Loss:   0.008879\n",
      "  👉 Total Train Loss:0.005924\n"
     ]
    },
    {
     "name": "stderr",
     "output_type": "stream",
     "text": [
      "Epoch 96/200 - Validating: 100%|██████████| 745/745 [00:22<00:00, 33.79it/s]\n"
     ]
    },
    {
     "name": "stdout",
     "output_type": "stream",
     "text": [
      "  ✅ Validation Loss: 0.007309\n",
      "💾 Best model checkpoint saved.\n"
     ]
    },
    {
     "name": "stderr",
     "output_type": "stream",
     "text": [
      "Epoch 97/200 - Training: 100%|██████████| 1980/1980 [03:12<00:00, 10.30it/s]\n"
     ]
    },
    {
     "name": "stdout",
     "output_type": "stream",
     "text": [
      "\n",
      "📘 Epoch [97/200]\n",
      "  Train MSE Loss:    0.000054\n",
      "  Train SSIM Loss:   0.005809\n",
      "  Train Grad Loss:   0.008858\n",
      "  👉 Total Train Loss:0.005878\n"
     ]
    },
    {
     "name": "stderr",
     "output_type": "stream",
     "text": [
      "Epoch 97/200 - Validating: 100%|██████████| 745/745 [00:22<00:00, 33.31it/s]\n"
     ]
    },
    {
     "name": "stdout",
     "output_type": "stream",
     "text": [
      "  ✅ Validation Loss: 0.007277\n",
      "💾 Best model checkpoint saved.\n"
     ]
    },
    {
     "name": "stderr",
     "output_type": "stream",
     "text": [
      "Epoch 98/200 - Training: 100%|██████████| 1980/1980 [03:12<00:00, 10.29it/s]\n"
     ]
    },
    {
     "name": "stdout",
     "output_type": "stream",
     "text": [
      "\n",
      "📘 Epoch [98/200]\n",
      "  Train MSE Loss:    0.000054\n",
      "  Train SSIM Loss:   0.005798\n",
      "  Train Grad Loss:   0.008846\n",
      "  👉 Total Train Loss:0.005867\n"
     ]
    },
    {
     "name": "stderr",
     "output_type": "stream",
     "text": [
      "Epoch 98/200 - Validating: 100%|██████████| 745/745 [00:21<00:00, 33.91it/s]\n"
     ]
    },
    {
     "name": "stdout",
     "output_type": "stream",
     "text": [
      "  ✅ Validation Loss: 0.007289\n"
     ]
    },
    {
     "name": "stderr",
     "output_type": "stream",
     "text": [
      "Epoch 99/200 - Training: 100%|██████████| 1980/1980 [03:13<00:00, 10.25it/s]\n"
     ]
    },
    {
     "name": "stdout",
     "output_type": "stream",
     "text": [
      "\n",
      "📘 Epoch [99/200]\n",
      "  Train MSE Loss:    0.000053\n",
      "  Train SSIM Loss:   0.005762\n",
      "  Train Grad Loss:   0.008829\n",
      "  👉 Total Train Loss:0.005834\n"
     ]
    },
    {
     "name": "stderr",
     "output_type": "stream",
     "text": [
      "Epoch 99/200 - Validating: 100%|██████████| 745/745 [00:22<00:00, 33.85it/s]\n"
     ]
    },
    {
     "name": "stdout",
     "output_type": "stream",
     "text": [
      "  ✅ Validation Loss: 0.007265\n",
      "💾 Best model checkpoint saved.\n"
     ]
    },
    {
     "name": "stderr",
     "output_type": "stream",
     "text": [
      "Epoch 100/200 - Training: 100%|██████████| 1980/1980 [03:12<00:00, 10.28it/s]\n"
     ]
    },
    {
     "name": "stdout",
     "output_type": "stream",
     "text": [
      "\n",
      "📘 Epoch [100/200]\n",
      "  Train MSE Loss:    0.000054\n",
      "  Train SSIM Loss:   0.005744\n",
      "  Train Grad Loss:   0.008816\n",
      "  👉 Total Train Loss:0.005817\n"
     ]
    },
    {
     "name": "stderr",
     "output_type": "stream",
     "text": [
      "Epoch 100/200 - Validating: 100%|██████████| 745/745 [00:21<00:00, 34.07it/s]\n"
     ]
    },
    {
     "name": "stdout",
     "output_type": "stream",
     "text": [
      "  ✅ Validation Loss: 0.007255\n",
      "💾 Best model checkpoint saved.\n"
     ]
    },
    {
     "name": "stderr",
     "output_type": "stream",
     "text": [
      "Epoch 101/200 - Training: 100%|██████████| 1980/1980 [03:12<00:00, 10.28it/s]\n"
     ]
    },
    {
     "name": "stdout",
     "output_type": "stream",
     "text": [
      "\n",
      "📘 Epoch [101/200]\n",
      "  Train MSE Loss:    0.000053\n",
      "  Train SSIM Loss:   0.005709\n",
      "  Train Grad Loss:   0.008799\n",
      "  👉 Total Train Loss:0.005785\n"
     ]
    },
    {
     "name": "stderr",
     "output_type": "stream",
     "text": [
      "Epoch 101/200 - Validating: 100%|██████████| 745/745 [00:22<00:00, 33.47it/s]\n"
     ]
    },
    {
     "name": "stdout",
     "output_type": "stream",
     "text": [
      "  ✅ Validation Loss: 0.007240\n",
      "💾 Best model checkpoint saved.\n"
     ]
    },
    {
     "name": "stderr",
     "output_type": "stream",
     "text": [
      "Epoch 102/200 - Training: 100%|██████████| 1980/1980 [03:12<00:00, 10.29it/s]\n"
     ]
    },
    {
     "name": "stdout",
     "output_type": "stream",
     "text": [
      "\n",
      "📘 Epoch [102/200]\n",
      "  Train MSE Loss:    0.000053\n",
      "  Train SSIM Loss:   0.005695\n",
      "  Train Grad Loss:   0.008788\n",
      "  👉 Total Train Loss:0.005773\n"
     ]
    },
    {
     "name": "stderr",
     "output_type": "stream",
     "text": [
      "Epoch 102/200 - Validating: 100%|██████████| 745/745 [00:22<00:00, 33.74it/s]\n"
     ]
    },
    {
     "name": "stdout",
     "output_type": "stream",
     "text": [
      "  ✅ Validation Loss: 0.007119\n",
      "💾 Best model checkpoint saved.\n"
     ]
    },
    {
     "name": "stderr",
     "output_type": "stream",
     "text": [
      "Epoch 103/200 - Training: 100%|██████████| 1980/1980 [03:12<00:00, 10.26it/s]\n"
     ]
    },
    {
     "name": "stdout",
     "output_type": "stream",
     "text": [
      "\n",
      "📘 Epoch [103/200]\n",
      "  Train MSE Loss:    0.000052\n",
      "  Train SSIM Loss:   0.005654\n",
      "  Train Grad Loss:   0.008770\n",
      "  👉 Total Train Loss:0.005735\n"
     ]
    },
    {
     "name": "stderr",
     "output_type": "stream",
     "text": [
      "Epoch 103/200 - Validating: 100%|██████████| 745/745 [00:22<00:00, 33.53it/s]\n"
     ]
    },
    {
     "name": "stdout",
     "output_type": "stream",
     "text": [
      "  ✅ Validation Loss: 0.007154\n"
     ]
    },
    {
     "name": "stderr",
     "output_type": "stream",
     "text": [
      "Epoch 104/200 - Training: 100%|██████████| 1980/1980 [03:12<00:00, 10.30it/s]\n"
     ]
    },
    {
     "name": "stdout",
     "output_type": "stream",
     "text": [
      "\n",
      "📘 Epoch [104/200]\n",
      "  Train MSE Loss:    0.000052\n",
      "  Train SSIM Loss:   0.005641\n",
      "  Train Grad Loss:   0.008759\n",
      "  👉 Total Train Loss:0.005723\n"
     ]
    },
    {
     "name": "stderr",
     "output_type": "stream",
     "text": [
      "Epoch 104/200 - Validating: 100%|██████████| 745/745 [00:21<00:00, 34.09it/s]\n"
     ]
    },
    {
     "name": "stdout",
     "output_type": "stream",
     "text": [
      "  ✅ Validation Loss: 0.007068\n",
      "💾 Best model checkpoint saved.\n"
     ]
    },
    {
     "name": "stderr",
     "output_type": "stream",
     "text": [
      "Epoch 105/200 - Training: 100%|██████████| 1980/1980 [03:12<00:00, 10.28it/s]\n"
     ]
    },
    {
     "name": "stdout",
     "output_type": "stream",
     "text": [
      "\n",
      "📘 Epoch [105/200]\n",
      "  Train MSE Loss:    0.000053\n",
      "  Train SSIM Loss:   0.005623\n",
      "  Train Grad Loss:   0.008746\n",
      "  👉 Total Train Loss:0.005707\n"
     ]
    },
    {
     "name": "stderr",
     "output_type": "stream",
     "text": [
      "Epoch 105/200 - Validating: 100%|██████████| 745/745 [00:22<00:00, 33.35it/s]\n"
     ]
    },
    {
     "name": "stdout",
     "output_type": "stream",
     "text": [
      "  ✅ Validation Loss: 0.007073\n"
     ]
    },
    {
     "name": "stderr",
     "output_type": "stream",
     "text": [
      "Epoch 106/200 - Training: 100%|██████████| 1980/1980 [03:12<00:00, 10.28it/s]\n"
     ]
    },
    {
     "name": "stdout",
     "output_type": "stream",
     "text": [
      "\n",
      "📘 Epoch [106/200]\n",
      "  Train MSE Loss:    0.000052\n",
      "  Train SSIM Loss:   0.005593\n",
      "  Train Grad Loss:   0.008731\n",
      "  👉 Total Train Loss:0.005679\n"
     ]
    },
    {
     "name": "stderr",
     "output_type": "stream",
     "text": [
      "Epoch 106/200 - Validating: 100%|██████████| 745/745 [00:21<00:00, 34.01it/s]\n"
     ]
    },
    {
     "name": "stdout",
     "output_type": "stream",
     "text": [
      "  ✅ Validation Loss: 0.007012\n",
      "💾 Best model checkpoint saved.\n"
     ]
    },
    {
     "name": "stderr",
     "output_type": "stream",
     "text": [
      "Epoch 107/200 - Training: 100%|██████████| 1980/1980 [03:13<00:00, 10.26it/s]\n"
     ]
    },
    {
     "name": "stdout",
     "output_type": "stream",
     "text": [
      "\n",
      "📘 Epoch [107/200]\n",
      "  Train MSE Loss:    0.000051\n",
      "  Train SSIM Loss:   0.005547\n",
      "  Train Grad Loss:   0.008713\n",
      "  👉 Total Train Loss:0.005637\n"
     ]
    },
    {
     "name": "stderr",
     "output_type": "stream",
     "text": [
      "Epoch 107/200 - Validating: 100%|██████████| 745/745 [00:22<00:00, 33.73it/s]\n"
     ]
    },
    {
     "name": "stdout",
     "output_type": "stream",
     "text": [
      "  ✅ Validation Loss: 0.007121\n"
     ]
    },
    {
     "name": "stderr",
     "output_type": "stream",
     "text": [
      "Epoch 108/200 - Training: 100%|██████████| 1980/1980 [03:12<00:00, 10.29it/s]\n"
     ]
    },
    {
     "name": "stdout",
     "output_type": "stream",
     "text": [
      "\n",
      "📘 Epoch [108/200]\n",
      "  Train MSE Loss:    0.000051\n",
      "  Train SSIM Loss:   0.005532\n",
      "  Train Grad Loss:   0.008701\n",
      "  👉 Total Train Loss:0.005624\n"
     ]
    },
    {
     "name": "stderr",
     "output_type": "stream",
     "text": [
      "Epoch 108/200 - Validating: 100%|██████████| 745/745 [00:22<00:00, 33.84it/s]\n"
     ]
    },
    {
     "name": "stdout",
     "output_type": "stream",
     "text": [
      "  ✅ Validation Loss: 0.007028\n"
     ]
    },
    {
     "name": "stderr",
     "output_type": "stream",
     "text": [
      "Epoch 109/200 - Training: 100%|██████████| 1980/1980 [03:12<00:00, 10.27it/s]\n"
     ]
    },
    {
     "name": "stdout",
     "output_type": "stream",
     "text": [
      "\n",
      "📘 Epoch [109/200]\n",
      "  Train MSE Loss:    0.000051\n",
      "  Train SSIM Loss:   0.005522\n",
      "  Train Grad Loss:   0.008691\n",
      "  👉 Total Train Loss:0.005614\n"
     ]
    },
    {
     "name": "stderr",
     "output_type": "stream",
     "text": [
      "Epoch 109/200 - Validating: 100%|██████████| 745/745 [00:22<00:00, 33.83it/s]\n"
     ]
    },
    {
     "name": "stdout",
     "output_type": "stream",
     "text": [
      "  ✅ Validation Loss: 0.007065\n"
     ]
    },
    {
     "name": "stderr",
     "output_type": "stream",
     "text": [
      "Epoch 110/200 - Training: 100%|██████████| 1980/1980 [03:12<00:00, 10.28it/s]\n"
     ]
    },
    {
     "name": "stdout",
     "output_type": "stream",
     "text": [
      "\n",
      "📘 Epoch [110/200]\n",
      "  Train MSE Loss:    0.000050\n",
      "  Train SSIM Loss:   0.005476\n",
      "  Train Grad Loss:   0.008672\n",
      "  👉 Total Train Loss:0.005572\n"
     ]
    },
    {
     "name": "stderr",
     "output_type": "stream",
     "text": [
      "Epoch 110/200 - Validating: 100%|██████████| 745/745 [00:22<00:00, 33.82it/s]\n"
     ]
    },
    {
     "name": "stdout",
     "output_type": "stream",
     "text": [
      "  ✅ Validation Loss: 0.006934\n",
      "💾 Best model checkpoint saved.\n"
     ]
    },
    {
     "name": "stderr",
     "output_type": "stream",
     "text": [
      "Epoch 111/200 - Training: 100%|██████████| 1980/1980 [03:12<00:00, 10.29it/s]\n"
     ]
    },
    {
     "name": "stdout",
     "output_type": "stream",
     "text": [
      "\n",
      "📘 Epoch [111/200]\n",
      "  Train MSE Loss:    0.000050\n",
      "  Train SSIM Loss:   0.005454\n",
      "  Train Grad Loss:   0.008659\n",
      "  👉 Total Train Loss:0.005552\n"
     ]
    },
    {
     "name": "stderr",
     "output_type": "stream",
     "text": [
      "Epoch 111/200 - Validating: 100%|██████████| 745/745 [00:22<00:00, 33.49it/s]\n"
     ]
    },
    {
     "name": "stdout",
     "output_type": "stream",
     "text": [
      "  ✅ Validation Loss: 0.006923\n",
      "💾 Best model checkpoint saved.\n"
     ]
    },
    {
     "name": "stderr",
     "output_type": "stream",
     "text": [
      "Epoch 112/200 - Training: 100%|██████████| 1980/1980 [03:12<00:00, 10.27it/s]\n"
     ]
    },
    {
     "name": "stdout",
     "output_type": "stream",
     "text": [
      "\n",
      "📘 Epoch [112/200]\n",
      "  Train MSE Loss:    0.000050\n",
      "  Train SSIM Loss:   0.005439\n",
      "  Train Grad Loss:   0.008648\n",
      "  👉 Total Train Loss:0.005538\n"
     ]
    },
    {
     "name": "stderr",
     "output_type": "stream",
     "text": [
      "Epoch 112/200 - Validating: 100%|██████████| 745/745 [00:22<00:00, 33.08it/s]\n"
     ]
    },
    {
     "name": "stdout",
     "output_type": "stream",
     "text": [
      "  ✅ Validation Loss: 0.006880\n",
      "💾 Best model checkpoint saved.\n"
     ]
    },
    {
     "name": "stderr",
     "output_type": "stream",
     "text": [
      "Epoch 113/200 - Training: 100%|██████████| 1980/1980 [03:12<00:00, 10.27it/s]\n"
     ]
    },
    {
     "name": "stdout",
     "output_type": "stream",
     "text": [
      "\n",
      "📘 Epoch [113/200]\n",
      "  Train MSE Loss:    0.000050\n",
      "  Train SSIM Loss:   0.005426\n",
      "  Train Grad Loss:   0.008637\n",
      "  👉 Total Train Loss:0.005526\n"
     ]
    },
    {
     "name": "stderr",
     "output_type": "stream",
     "text": [
      "Epoch 113/200 - Validating: 100%|██████████| 745/745 [00:21<00:00, 34.09it/s]\n"
     ]
    },
    {
     "name": "stdout",
     "output_type": "stream",
     "text": [
      "  ✅ Validation Loss: 0.006894\n"
     ]
    },
    {
     "name": "stderr",
     "output_type": "stream",
     "text": [
      "Epoch 114/200 - Training: 100%|██████████| 1980/1980 [03:12<00:00, 10.26it/s]\n"
     ]
    },
    {
     "name": "stdout",
     "output_type": "stream",
     "text": [
      "\n",
      "📘 Epoch [114/200]\n",
      "  Train MSE Loss:    0.000050\n",
      "  Train SSIM Loss:   0.005387\n",
      "  Train Grad Loss:   0.008620\n",
      "  👉 Total Train Loss:0.005491\n"
     ]
    },
    {
     "name": "stderr",
     "output_type": "stream",
     "text": [
      "Epoch 114/200 - Validating: 100%|██████████| 745/745 [00:22<00:00, 33.27it/s]\n"
     ]
    },
    {
     "name": "stdout",
     "output_type": "stream",
     "text": [
      "  ✅ Validation Loss: 0.006884\n"
     ]
    },
    {
     "name": "stderr",
     "output_type": "stream",
     "text": [
      "Epoch 115/200 - Training: 100%|██████████| 1980/1980 [03:12<00:00, 10.30it/s]\n"
     ]
    },
    {
     "name": "stdout",
     "output_type": "stream",
     "text": [
      "\n",
      "📘 Epoch [115/200]\n",
      "  Train MSE Loss:    0.000050\n",
      "  Train SSIM Loss:   0.005379\n",
      "  Train Grad Loss:   0.008610\n",
      "  👉 Total Train Loss:0.005483\n"
     ]
    },
    {
     "name": "stderr",
     "output_type": "stream",
     "text": [
      "Epoch 115/200 - Validating: 100%|██████████| 745/745 [00:22<00:00, 33.53it/s]\n"
     ]
    },
    {
     "name": "stdout",
     "output_type": "stream",
     "text": [
      "  ✅ Validation Loss: 0.006804\n",
      "💾 Best model checkpoint saved.\n"
     ]
    },
    {
     "name": "stderr",
     "output_type": "stream",
     "text": [
      "Epoch 116/200 - Training: 100%|██████████| 1980/1980 [03:13<00:00, 10.25it/s]\n"
     ]
    },
    {
     "name": "stdout",
     "output_type": "stream",
     "text": [
      "\n",
      "📘 Epoch [116/200]\n",
      "  Train MSE Loss:    0.000049\n",
      "  Train SSIM Loss:   0.005353\n",
      "  Train Grad Loss:   0.008598\n",
      "  👉 Total Train Loss:0.005459\n"
     ]
    },
    {
     "name": "stderr",
     "output_type": "stream",
     "text": [
      "Epoch 116/200 - Validating: 100%|██████████| 745/745 [00:22<00:00, 33.75it/s]\n"
     ]
    },
    {
     "name": "stdout",
     "output_type": "stream",
     "text": [
      "  ✅ Validation Loss: 0.006826\n"
     ]
    },
    {
     "name": "stderr",
     "output_type": "stream",
     "text": [
      "Epoch 117/200 - Training: 100%|██████████| 1980/1980 [03:12<00:00, 10.29it/s]\n"
     ]
    },
    {
     "name": "stdout",
     "output_type": "stream",
     "text": [
      "\n",
      "📘 Epoch [117/200]\n",
      "  Train MSE Loss:    0.000049\n",
      "  Train SSIM Loss:   0.005332\n",
      "  Train Grad Loss:   0.008585\n",
      "  👉 Total Train Loss:0.005440\n"
     ]
    },
    {
     "name": "stderr",
     "output_type": "stream",
     "text": [
      "Epoch 117/200 - Validating: 100%|██████████| 745/745 [00:21<00:00, 34.25it/s]\n"
     ]
    },
    {
     "name": "stdout",
     "output_type": "stream",
     "text": [
      "  ✅ Validation Loss: 0.006997\n"
     ]
    },
    {
     "name": "stderr",
     "output_type": "stream",
     "text": [
      "Epoch 118/200 - Training: 100%|██████████| 1980/1980 [03:12<00:00, 10.28it/s]\n"
     ]
    },
    {
     "name": "stdout",
     "output_type": "stream",
     "text": [
      "\n",
      "📘 Epoch [118/200]\n",
      "  Train MSE Loss:    0.000050\n",
      "  Train SSIM Loss:   0.005323\n",
      "  Train Grad Loss:   0.008576\n",
      "  👉 Total Train Loss:0.005431\n"
     ]
    },
    {
     "name": "stderr",
     "output_type": "stream",
     "text": [
      "Epoch 118/200 - Validating: 100%|██████████| 745/745 [00:22<00:00, 33.59it/s]\n"
     ]
    },
    {
     "name": "stdout",
     "output_type": "stream",
     "text": [
      "  ✅ Validation Loss: 0.006733\n",
      "💾 Best model checkpoint saved.\n"
     ]
    },
    {
     "name": "stderr",
     "output_type": "stream",
     "text": [
      "Epoch 119/200 - Training: 100%|██████████| 1980/1980 [03:12<00:00, 10.28it/s]\n"
     ]
    },
    {
     "name": "stdout",
     "output_type": "stream",
     "text": [
      "\n",
      "📘 Epoch [119/200]\n",
      "  Train MSE Loss:    0.000048\n",
      "  Train SSIM Loss:   0.005287\n",
      "  Train Grad Loss:   0.008561\n",
      "  👉 Total Train Loss:0.005398\n"
     ]
    },
    {
     "name": "stderr",
     "output_type": "stream",
     "text": [
      "Epoch 119/200 - Validating: 100%|██████████| 745/745 [00:22<00:00, 33.79it/s]\n"
     ]
    },
    {
     "name": "stdout",
     "output_type": "stream",
     "text": [
      "  ✅ Validation Loss: 0.006713\n",
      "💾 Best model checkpoint saved.\n"
     ]
    },
    {
     "name": "stderr",
     "output_type": "stream",
     "text": [
      "Epoch 120/200 - Training: 100%|██████████| 1980/1980 [03:12<00:00, 10.29it/s]\n"
     ]
    },
    {
     "name": "stdout",
     "output_type": "stream",
     "text": [
      "\n",
      "📘 Epoch [120/200]\n",
      "  Train MSE Loss:    0.000049\n",
      "  Train SSIM Loss:   0.005275\n",
      "  Train Grad Loss:   0.008551\n",
      "  👉 Total Train Loss:0.005387\n"
     ]
    },
    {
     "name": "stderr",
     "output_type": "stream",
     "text": [
      "Epoch 120/200 - Validating: 100%|██████████| 745/745 [00:22<00:00, 33.79it/s]\n"
     ]
    },
    {
     "name": "stdout",
     "output_type": "stream",
     "text": [
      "  ✅ Validation Loss: 0.006974\n"
     ]
    },
    {
     "name": "stderr",
     "output_type": "stream",
     "text": [
      "Epoch 121/200 - Training: 100%|██████████| 1980/1980 [03:13<00:00, 10.25it/s]\n"
     ]
    },
    {
     "name": "stdout",
     "output_type": "stream",
     "text": [
      "\n",
      "📘 Epoch [121/200]\n",
      "  Train MSE Loss:    0.000049\n",
      "  Train SSIM Loss:   0.005256\n",
      "  Train Grad Loss:   0.008539\n",
      "  👉 Total Train Loss:0.005370\n"
     ]
    },
    {
     "name": "stderr",
     "output_type": "stream",
     "text": [
      "Epoch 121/200 - Validating: 100%|██████████| 745/745 [00:22<00:00, 33.33it/s]\n"
     ]
    },
    {
     "name": "stdout",
     "output_type": "stream",
     "text": [
      "  ✅ Validation Loss: 0.006722\n"
     ]
    },
    {
     "name": "stderr",
     "output_type": "stream",
     "text": [
      "Epoch 122/200 - Training: 100%|██████████| 1980/1980 [03:12<00:00, 10.28it/s]\n"
     ]
    },
    {
     "name": "stdout",
     "output_type": "stream",
     "text": [
      "\n",
      "📘 Epoch [122/200]\n",
      "  Train MSE Loss:    0.000048\n",
      "  Train SSIM Loss:   0.005235\n",
      "  Train Grad Loss:   0.008528\n",
      "  👉 Total Train Loss:0.005351\n"
     ]
    },
    {
     "name": "stderr",
     "output_type": "stream",
     "text": [
      "Epoch 122/200 - Validating: 100%|██████████| 745/745 [00:21<00:00, 34.04it/s]\n"
     ]
    },
    {
     "name": "stdout",
     "output_type": "stream",
     "text": [
      "  ✅ Validation Loss: 0.006696\n",
      "💾 Best model checkpoint saved.\n"
     ]
    },
    {
     "name": "stderr",
     "output_type": "stream",
     "text": [
      "Epoch 123/200 - Training: 100%|██████████| 1980/1980 [03:12<00:00, 10.28it/s]\n"
     ]
    },
    {
     "name": "stdout",
     "output_type": "stream",
     "text": [
      "\n",
      "📘 Epoch [123/200]\n",
      "  Train MSE Loss:    0.000048\n",
      "  Train SSIM Loss:   0.005204\n",
      "  Train Grad Loss:   0.008513\n",
      "  👉 Total Train Loss:0.005323\n"
     ]
    },
    {
     "name": "stderr",
     "output_type": "stream",
     "text": [
      "Epoch 123/200 - Validating: 100%|██████████| 745/745 [00:22<00:00, 33.17it/s]\n"
     ]
    },
    {
     "name": "stdout",
     "output_type": "stream",
     "text": [
      "  ✅ Validation Loss: 0.006696\n",
      "💾 Best model checkpoint saved.\n"
     ]
    },
    {
     "name": "stderr",
     "output_type": "stream",
     "text": [
      "Epoch 124/200 - Training: 100%|██████████| 1980/1980 [03:12<00:00, 10.27it/s]\n"
     ]
    },
    {
     "name": "stdout",
     "output_type": "stream",
     "text": [
      "\n",
      "📘 Epoch [124/200]\n",
      "  Train MSE Loss:    0.000048\n",
      "  Train SSIM Loss:   0.005206\n",
      "  Train Grad Loss:   0.008506\n",
      "  👉 Total Train Loss:0.005324\n"
     ]
    },
    {
     "name": "stderr",
     "output_type": "stream",
     "text": [
      "Epoch 124/200 - Validating: 100%|██████████| 745/745 [00:21<00:00, 34.05it/s]\n"
     ]
    },
    {
     "name": "stdout",
     "output_type": "stream",
     "text": [
      "  ✅ Validation Loss: 0.006780\n"
     ]
    },
    {
     "name": "stderr",
     "output_type": "stream",
     "text": [
      "Epoch 125/200 - Training: 100%|██████████| 1980/1980 [03:13<00:00, 10.24it/s]\n"
     ]
    },
    {
     "name": "stdout",
     "output_type": "stream",
     "text": [
      "\n",
      "📘 Epoch [125/200]\n",
      "  Train MSE Loss:    0.000048\n",
      "  Train SSIM Loss:   0.005171\n",
      "  Train Grad Loss:   0.008492\n",
      "  👉 Total Train Loss:0.005292\n"
     ]
    },
    {
     "name": "stderr",
     "output_type": "stream",
     "text": [
      "Epoch 125/200 - Validating: 100%|██████████| 745/745 [00:22<00:00, 33.82it/s]\n"
     ]
    },
    {
     "name": "stdout",
     "output_type": "stream",
     "text": [
      "  ✅ Validation Loss: 0.006636\n",
      "💾 Best model checkpoint saved.\n"
     ]
    },
    {
     "name": "stderr",
     "output_type": "stream",
     "text": [
      "Epoch 126/200 - Training: 100%|██████████| 1980/1980 [03:12<00:00, 10.29it/s]\n"
     ]
    },
    {
     "name": "stdout",
     "output_type": "stream",
     "text": [
      "\n",
      "📘 Epoch [126/200]\n",
      "  Train MSE Loss:    0.000048\n",
      "  Train SSIM Loss:   0.005167\n",
      "  Train Grad Loss:   0.008485\n",
      "  👉 Total Train Loss:0.005289\n"
     ]
    },
    {
     "name": "stderr",
     "output_type": "stream",
     "text": [
      "Epoch 126/200 - Validating: 100%|██████████| 745/745 [00:21<00:00, 34.05it/s]\n"
     ]
    },
    {
     "name": "stdout",
     "output_type": "stream",
     "text": [
      "  ✅ Validation Loss: 0.006724\n"
     ]
    },
    {
     "name": "stderr",
     "output_type": "stream",
     "text": [
      "Epoch 127/200 - Training: 100%|██████████| 1980/1980 [03:12<00:00, 10.29it/s]\n"
     ]
    },
    {
     "name": "stdout",
     "output_type": "stream",
     "text": [
      "\n",
      "📘 Epoch [127/200]\n",
      "  Train MSE Loss:    0.000047\n",
      "  Train SSIM Loss:   0.005133\n",
      "  Train Grad Loss:   0.008469\n",
      "  👉 Total Train Loss:0.005257\n"
     ]
    },
    {
     "name": "stderr",
     "output_type": "stream",
     "text": [
      "Epoch 127/200 - Validating: 100%|██████████| 745/745 [00:21<00:00, 34.20it/s]\n"
     ]
    },
    {
     "name": "stdout",
     "output_type": "stream",
     "text": [
      "  ✅ Validation Loss: 0.006602\n",
      "💾 Best model checkpoint saved.\n"
     ]
    },
    {
     "name": "stderr",
     "output_type": "stream",
     "text": [
      "Epoch 128/200 - Training: 100%|██████████| 1980/1980 [03:12<00:00, 10.27it/s]\n"
     ]
    },
    {
     "name": "stdout",
     "output_type": "stream",
     "text": [
      "\n",
      "📘 Epoch [128/200]\n",
      "  Train MSE Loss:    0.000048\n",
      "  Train SSIM Loss:   0.005137\n",
      "  Train Grad Loss:   0.008463\n",
      "  👉 Total Train Loss:0.005261\n"
     ]
    },
    {
     "name": "stderr",
     "output_type": "stream",
     "text": [
      "Epoch 128/200 - Validating: 100%|██████████| 745/745 [00:22<00:00, 33.56it/s]\n"
     ]
    },
    {
     "name": "stdout",
     "output_type": "stream",
     "text": [
      "  ✅ Validation Loss: 0.006605\n"
     ]
    },
    {
     "name": "stderr",
     "output_type": "stream",
     "text": [
      "Epoch 129/200 - Training: 100%|██████████| 1980/1980 [03:12<00:00, 10.27it/s]\n"
     ]
    },
    {
     "name": "stdout",
     "output_type": "stream",
     "text": [
      "\n",
      "📘 Epoch [129/200]\n",
      "  Train MSE Loss:    0.000047\n",
      "  Train SSIM Loss:   0.005097\n",
      "  Train Grad Loss:   0.008448\n",
      "  👉 Total Train Loss:0.005224\n"
     ]
    },
    {
     "name": "stderr",
     "output_type": "stream",
     "text": [
      "Epoch 129/200 - Validating: 100%|██████████| 745/745 [00:21<00:00, 34.02it/s]\n"
     ]
    },
    {
     "name": "stdout",
     "output_type": "stream",
     "text": [
      "  ✅ Validation Loss: 0.006605\n"
     ]
    },
    {
     "name": "stderr",
     "output_type": "stream",
     "text": [
      "Epoch 130/200 - Training: 100%|██████████| 1980/1980 [03:12<00:00, 10.28it/s]\n"
     ]
    },
    {
     "name": "stdout",
     "output_type": "stream",
     "text": [
      "\n",
      "📘 Epoch [130/200]\n",
      "  Train MSE Loss:    0.000047\n",
      "  Train SSIM Loss:   0.005088\n",
      "  Train Grad Loss:   0.008440\n",
      "  👉 Total Train Loss:0.005216\n"
     ]
    },
    {
     "name": "stderr",
     "output_type": "stream",
     "text": [
      "Epoch 130/200 - Validating: 100%|██████████| 745/745 [00:21<00:00, 34.11it/s]\n"
     ]
    },
    {
     "name": "stdout",
     "output_type": "stream",
     "text": [
      "  ✅ Validation Loss: 0.006527\n",
      "💾 Best model checkpoint saved.\n"
     ]
    },
    {
     "name": "stderr",
     "output_type": "stream",
     "text": [
      "Epoch 131/200 - Training: 100%|██████████| 1980/1980 [03:12<00:00, 10.29it/s]\n"
     ]
    },
    {
     "name": "stdout",
     "output_type": "stream",
     "text": [
      "\n",
      "📘 Epoch [131/200]\n",
      "  Train MSE Loss:    0.000047\n",
      "  Train SSIM Loss:   0.005067\n",
      "  Train Grad Loss:   0.008429\n",
      "  👉 Total Train Loss:0.005197\n"
     ]
    },
    {
     "name": "stderr",
     "output_type": "stream",
     "text": [
      "Epoch 131/200 - Validating: 100%|██████████| 745/745 [00:21<00:00, 34.19it/s]\n"
     ]
    },
    {
     "name": "stdout",
     "output_type": "stream",
     "text": [
      "  ✅ Validation Loss: 0.006589\n"
     ]
    },
    {
     "name": "stderr",
     "output_type": "stream",
     "text": [
      "Epoch 132/200 - Training: 100%|██████████| 1980/1980 [03:13<00:00, 10.24it/s]\n"
     ]
    },
    {
     "name": "stdout",
     "output_type": "stream",
     "text": [
      "\n",
      "📘 Epoch [132/200]\n",
      "  Train MSE Loss:    0.000047\n",
      "  Train SSIM Loss:   0.005064\n",
      "  Train Grad Loss:   0.008422\n",
      "  👉 Total Train Loss:0.005193\n"
     ]
    },
    {
     "name": "stderr",
     "output_type": "stream",
     "text": [
      "Epoch 132/200 - Validating: 100%|██████████| 745/745 [00:22<00:00, 33.27it/s]\n"
     ]
    },
    {
     "name": "stdout",
     "output_type": "stream",
     "text": [
      "  ✅ Validation Loss: 0.006642\n"
     ]
    },
    {
     "name": "stderr",
     "output_type": "stream",
     "text": [
      "Epoch 133/200 - Training: 100%|██████████| 1980/1980 [03:13<00:00, 10.24it/s]\n"
     ]
    },
    {
     "name": "stdout",
     "output_type": "stream",
     "text": [
      "\n",
      "📘 Epoch [133/200]\n",
      "  Train MSE Loss:    0.000046\n",
      "  Train SSIM Loss:   0.005025\n",
      "  Train Grad Loss:   0.008405\n",
      "  👉 Total Train Loss:0.005158\n"
     ]
    },
    {
     "name": "stderr",
     "output_type": "stream",
     "text": [
      "Epoch 133/200 - Validating: 100%|██████████| 745/745 [00:22<00:00, 33.83it/s]\n"
     ]
    },
    {
     "name": "stdout",
     "output_type": "stream",
     "text": [
      "  ✅ Validation Loss: 0.006649\n"
     ]
    },
    {
     "name": "stderr",
     "output_type": "stream",
     "text": [
      "Epoch 134/200 - Training: 100%|██████████| 1980/1980 [03:12<00:00, 10.29it/s]\n"
     ]
    },
    {
     "name": "stdout",
     "output_type": "stream",
     "text": [
      "\n",
      "📘 Epoch [134/200]\n",
      "  Train MSE Loss:    0.000047\n",
      "  Train SSIM Loss:   0.005032\n",
      "  Train Grad Loss:   0.008401\n",
      "  👉 Total Train Loss:0.005164\n"
     ]
    },
    {
     "name": "stderr",
     "output_type": "stream",
     "text": [
      "Epoch 134/200 - Validating: 100%|██████████| 745/745 [00:22<00:00, 33.52it/s]\n"
     ]
    },
    {
     "name": "stdout",
     "output_type": "stream",
     "text": [
      "  ✅ Validation Loss: 0.006440\n",
      "💾 Best model checkpoint saved.\n"
     ]
    },
    {
     "name": "stderr",
     "output_type": "stream",
     "text": [
      "Epoch 135/200 - Training: 100%|██████████| 1980/1980 [03:12<00:00, 10.29it/s]\n"
     ]
    },
    {
     "name": "stdout",
     "output_type": "stream",
     "text": [
      "\n",
      "📘 Epoch [135/200]\n",
      "  Train MSE Loss:    0.000045\n",
      "  Train SSIM Loss:   0.004993\n",
      "  Train Grad Loss:   0.008386\n",
      "  👉 Total Train Loss:0.005128\n"
     ]
    },
    {
     "name": "stderr",
     "output_type": "stream",
     "text": [
      "Epoch 135/200 - Validating: 100%|██████████| 745/745 [00:22<00:00, 33.19it/s]\n"
     ]
    },
    {
     "name": "stdout",
     "output_type": "stream",
     "text": [
      "  ✅ Validation Loss: 0.006493\n"
     ]
    },
    {
     "name": "stderr",
     "output_type": "stream",
     "text": [
      "Epoch 136/200 - Training: 100%|██████████| 1980/1980 [03:39<00:00,  9.04it/s]\n"
     ]
    },
    {
     "name": "stdout",
     "output_type": "stream",
     "text": [
      "\n",
      "📘 Epoch [136/200]\n",
      "  Train MSE Loss:    0.000046\n",
      "  Train SSIM Loss:   0.004988\n",
      "  Train Grad Loss:   0.008379\n",
      "  👉 Total Train Loss:0.005124\n"
     ]
    },
    {
     "name": "stderr",
     "output_type": "stream",
     "text": [
      "Epoch 136/200 - Validating: 100%|██████████| 745/745 [00:22<00:00, 33.86it/s]\n"
     ]
    },
    {
     "name": "stdout",
     "output_type": "stream",
     "text": [
      "  ✅ Validation Loss: 0.006429\n",
      "💾 Best model checkpoint saved.\n"
     ]
    },
    {
     "name": "stderr",
     "output_type": "stream",
     "text": [
      "Epoch 137/200 - Training: 100%|██████████| 1980/1980 [03:13<00:00, 10.24it/s]\n"
     ]
    },
    {
     "name": "stdout",
     "output_type": "stream",
     "text": [
      "\n",
      "📘 Epoch [137/200]\n",
      "  Train MSE Loss:    0.000045\n",
      "  Train SSIM Loss:   0.004967\n",
      "  Train Grad Loss:   0.008368\n",
      "  👉 Total Train Loss:0.005104\n"
     ]
    },
    {
     "name": "stderr",
     "output_type": "stream",
     "text": [
      "Epoch 137/200 - Validating: 100%|██████████| 745/745 [00:22<00:00, 33.31it/s]\n"
     ]
    },
    {
     "name": "stdout",
     "output_type": "stream",
     "text": [
      "  ✅ Validation Loss: 0.006481\n"
     ]
    },
    {
     "name": "stderr",
     "output_type": "stream",
     "text": [
      "Epoch 138/200 - Training: 100%|██████████| 1980/1980 [03:13<00:00, 10.26it/s]\n"
     ]
    },
    {
     "name": "stdout",
     "output_type": "stream",
     "text": [
      "\n",
      "📘 Epoch [138/200]\n",
      "  Train MSE Loss:    0.000046\n",
      "  Train SSIM Loss:   0.004957\n",
      "  Train Grad Loss:   0.008359\n",
      "  👉 Total Train Loss:0.005095\n"
     ]
    },
    {
     "name": "stderr",
     "output_type": "stream",
     "text": [
      "Epoch 138/200 - Validating: 100%|██████████| 745/745 [00:22<00:00, 32.97it/s]\n"
     ]
    },
    {
     "name": "stdout",
     "output_type": "stream",
     "text": [
      "  ✅ Validation Loss: 0.006467\n"
     ]
    },
    {
     "name": "stderr",
     "output_type": "stream",
     "text": [
      "Epoch 139/200 - Training: 100%|██████████| 1980/1980 [03:12<00:00, 10.27it/s]\n"
     ]
    },
    {
     "name": "stdout",
     "output_type": "stream",
     "text": [
      "\n",
      "📘 Epoch [139/200]\n",
      "  Train MSE Loss:    0.000045\n",
      "  Train SSIM Loss:   0.004941\n",
      "  Train Grad Loss:   0.008350\n",
      "  👉 Total Train Loss:0.005080\n"
     ]
    },
    {
     "name": "stderr",
     "output_type": "stream",
     "text": [
      "Epoch 139/200 - Validating: 100%|██████████| 745/745 [00:22<00:00, 33.22it/s]\n"
     ]
    },
    {
     "name": "stdout",
     "output_type": "stream",
     "text": [
      "  ✅ Validation Loss: 0.006365\n",
      "💾 Best model checkpoint saved.\n"
     ]
    },
    {
     "name": "stderr",
     "output_type": "stream",
     "text": [
      "Epoch 140/200 - Training: 100%|██████████| 1980/1980 [03:13<00:00, 10.25it/s]\n"
     ]
    },
    {
     "name": "stdout",
     "output_type": "stream",
     "text": [
      "\n",
      "📘 Epoch [140/200]\n",
      "  Train MSE Loss:    0.000045\n",
      "  Train SSIM Loss:   0.004919\n",
      "  Train Grad Loss:   0.008338\n",
      "  👉 Total Train Loss:0.005060\n"
     ]
    },
    {
     "name": "stderr",
     "output_type": "stream",
     "text": [
      "Epoch 140/200 - Validating: 100%|██████████| 745/745 [00:22<00:00, 33.86it/s]\n"
     ]
    },
    {
     "name": "stdout",
     "output_type": "stream",
     "text": [
      "  ✅ Validation Loss: 0.006448\n"
     ]
    },
    {
     "name": "stderr",
     "output_type": "stream",
     "text": [
      "Epoch 141/200 - Training: 100%|██████████| 1980/1980 [03:12<00:00, 10.26it/s]\n"
     ]
    },
    {
     "name": "stdout",
     "output_type": "stream",
     "text": [
      "\n",
      "📘 Epoch [141/200]\n",
      "  Train MSE Loss:    0.000045\n",
      "  Train SSIM Loss:   0.004905\n",
      "  Train Grad Loss:   0.008330\n",
      "  👉 Total Train Loss:0.005047\n"
     ]
    },
    {
     "name": "stderr",
     "output_type": "stream",
     "text": [
      "Epoch 141/200 - Validating: 100%|██████████| 745/745 [00:22<00:00, 33.06it/s]\n"
     ]
    },
    {
     "name": "stdout",
     "output_type": "stream",
     "text": [
      "  ✅ Validation Loss: 0.006405\n"
     ]
    },
    {
     "name": "stderr",
     "output_type": "stream",
     "text": [
      "Epoch 142/200 - Training: 100%|██████████| 1980/1980 [03:12<00:00, 10.29it/s]\n"
     ]
    },
    {
     "name": "stdout",
     "output_type": "stream",
     "text": [
      "\n",
      "📘 Epoch [142/200]\n",
      "  Train MSE Loss:    0.000045\n",
      "  Train SSIM Loss:   0.004900\n",
      "  Train Grad Loss:   0.008323\n",
      "  👉 Total Train Loss:0.005042\n"
     ]
    },
    {
     "name": "stderr",
     "output_type": "stream",
     "text": [
      "Epoch 142/200 - Validating: 100%|██████████| 745/745 [00:22<00:00, 33.78it/s]\n"
     ]
    },
    {
     "name": "stdout",
     "output_type": "stream",
     "text": [
      "  ✅ Validation Loss: 0.006306\n",
      "💾 Best model checkpoint saved.\n"
     ]
    },
    {
     "name": "stderr",
     "output_type": "stream",
     "text": [
      "Epoch 143/200 - Training: 100%|██████████| 1980/1980 [03:12<00:00, 10.29it/s]\n"
     ]
    },
    {
     "name": "stdout",
     "output_type": "stream",
     "text": [
      "\n",
      "📘 Epoch [143/200]\n",
      "  Train MSE Loss:    0.000044\n",
      "  Train SSIM Loss:   0.004870\n",
      "  Train Grad Loss:   0.008310\n",
      "  👉 Total Train Loss:0.005015\n"
     ]
    },
    {
     "name": "stderr",
     "output_type": "stream",
     "text": [
      "Epoch 143/200 - Validating: 100%|██████████| 745/745 [00:22<00:00, 33.85it/s]\n"
     ]
    },
    {
     "name": "stdout",
     "output_type": "stream",
     "text": [
      "  ✅ Validation Loss: 0.006308\n"
     ]
    },
    {
     "name": "stderr",
     "output_type": "stream",
     "text": [
      "Epoch 144/200 - Training: 100%|██████████| 1980/1980 [03:12<00:00, 10.27it/s]\n"
     ]
    },
    {
     "name": "stdout",
     "output_type": "stream",
     "text": [
      "\n",
      "📘 Epoch [144/200]\n",
      "  Train MSE Loss:    0.000045\n",
      "  Train SSIM Loss:   0.004867\n",
      "  Train Grad Loss:   0.008304\n",
      "  👉 Total Train Loss:0.005012\n"
     ]
    },
    {
     "name": "stderr",
     "output_type": "stream",
     "text": [
      "Epoch 144/200 - Validating: 100%|██████████| 745/745 [00:22<00:00, 33.81it/s]\n"
     ]
    },
    {
     "name": "stdout",
     "output_type": "stream",
     "text": [
      "  ✅ Validation Loss: 0.006282\n",
      "💾 Best model checkpoint saved.\n"
     ]
    },
    {
     "name": "stderr",
     "output_type": "stream",
     "text": [
      "Epoch 145/200 - Training: 100%|██████████| 1980/1980 [03:12<00:00, 10.28it/s]\n"
     ]
    },
    {
     "name": "stdout",
     "output_type": "stream",
     "text": [
      "\n",
      "📘 Epoch [145/200]\n",
      "  Train MSE Loss:    0.000044\n",
      "  Train SSIM Loss:   0.004848\n",
      "  Train Grad Loss:   0.008294\n",
      "  👉 Total Train Loss:0.004994\n"
     ]
    },
    {
     "name": "stderr",
     "output_type": "stream",
     "text": [
      "Epoch 145/200 - Validating: 100%|██████████| 745/745 [00:21<00:00, 34.12it/s]\n"
     ]
    },
    {
     "name": "stdout",
     "output_type": "stream",
     "text": [
      "  ✅ Validation Loss: 0.006273\n",
      "💾 Best model checkpoint saved.\n"
     ]
    },
    {
     "name": "stderr",
     "output_type": "stream",
     "text": [
      "Epoch 146/200 - Training: 100%|██████████| 1980/1980 [03:12<00:00, 10.28it/s]\n"
     ]
    },
    {
     "name": "stdout",
     "output_type": "stream",
     "text": [
      "\n",
      "📘 Epoch [146/200]\n",
      "  Train MSE Loss:    0.000044\n",
      "  Train SSIM Loss:   0.004824\n",
      "  Train Grad Loss:   0.008282\n",
      "  👉 Total Train Loss:0.004972\n"
     ]
    },
    {
     "name": "stderr",
     "output_type": "stream",
     "text": [
      "Epoch 146/200 - Validating: 100%|██████████| 745/745 [00:22<00:00, 33.80it/s]\n"
     ]
    },
    {
     "name": "stdout",
     "output_type": "stream",
     "text": [
      "  ✅ Validation Loss: 0.006257\n",
      "💾 Best model checkpoint saved.\n"
     ]
    },
    {
     "name": "stderr",
     "output_type": "stream",
     "text": [
      "Epoch 147/200 - Training: 100%|██████████| 1980/1980 [03:13<00:00, 10.26it/s]\n"
     ]
    },
    {
     "name": "stdout",
     "output_type": "stream",
     "text": [
      "\n",
      "📘 Epoch [147/200]\n",
      "  Train MSE Loss:    0.000044\n",
      "  Train SSIM Loss:   0.004826\n",
      "  Train Grad Loss:   0.008278\n",
      "  👉 Total Train Loss:0.004975\n"
     ]
    },
    {
     "name": "stderr",
     "output_type": "stream",
     "text": [
      "Epoch 147/200 - Validating: 100%|██████████| 745/745 [00:22<00:00, 33.76it/s]\n"
     ]
    },
    {
     "name": "stdout",
     "output_type": "stream",
     "text": [
      "  ✅ Validation Loss: 0.006244\n",
      "💾 Best model checkpoint saved.\n"
     ]
    },
    {
     "name": "stderr",
     "output_type": "stream",
     "text": [
      "Epoch 148/200 - Training: 100%|██████████| 1980/1980 [03:12<00:00, 10.27it/s]\n"
     ]
    },
    {
     "name": "stdout",
     "output_type": "stream",
     "text": [
      "\n",
      "📘 Epoch [148/200]\n",
      "  Train MSE Loss:    0.000044\n",
      "  Train SSIM Loss:   0.004804\n",
      "  Train Grad Loss:   0.008267\n",
      "  👉 Total Train Loss:0.004954\n"
     ]
    },
    {
     "name": "stderr",
     "output_type": "stream",
     "text": [
      "Epoch 148/200 - Validating: 100%|██████████| 745/745 [00:21<00:00, 34.00it/s]\n"
     ]
    },
    {
     "name": "stdout",
     "output_type": "stream",
     "text": [
      "  ✅ Validation Loss: 0.006301\n"
     ]
    },
    {
     "name": "stderr",
     "output_type": "stream",
     "text": [
      "Epoch 149/200 - Training: 100%|██████████| 1980/1980 [03:13<00:00, 10.22it/s]\n"
     ]
    },
    {
     "name": "stdout",
     "output_type": "stream",
     "text": [
      "\n",
      "📘 Epoch [149/200]\n",
      "  Train MSE Loss:    0.000044\n",
      "  Train SSIM Loss:   0.004789\n",
      "  Train Grad Loss:   0.008258\n",
      "  👉 Total Train Loss:0.004940\n"
     ]
    },
    {
     "name": "stderr",
     "output_type": "stream",
     "text": [
      "Epoch 149/200 - Validating: 100%|██████████| 745/745 [00:22<00:00, 33.56it/s]\n"
     ]
    },
    {
     "name": "stdout",
     "output_type": "stream",
     "text": [
      "  ✅ Validation Loss: 0.006203\n",
      "💾 Best model checkpoint saved.\n"
     ]
    },
    {
     "name": "stderr",
     "output_type": "stream",
     "text": [
      "Epoch 150/200 - Training: 100%|██████████| 1980/1980 [03:12<00:00, 10.26it/s]\n"
     ]
    },
    {
     "name": "stdout",
     "output_type": "stream",
     "text": [
      "\n",
      "📘 Epoch [150/200]\n",
      "  Train MSE Loss:    0.000043\n",
      "  Train SSIM Loss:   0.004772\n",
      "  Train Grad Loss:   0.008249\n",
      "  👉 Total Train Loss:0.004925\n"
     ]
    },
    {
     "name": "stderr",
     "output_type": "stream",
     "text": [
      "Epoch 150/200 - Validating: 100%|██████████| 745/745 [00:22<00:00, 33.16it/s]\n"
     ]
    },
    {
     "name": "stdout",
     "output_type": "stream",
     "text": [
      "  ✅ Validation Loss: 0.006303\n"
     ]
    },
    {
     "name": "stderr",
     "output_type": "stream",
     "text": [
      "Epoch 151/200 - Training: 100%|██████████| 1980/1980 [03:13<00:00, 10.26it/s]\n"
     ]
    },
    {
     "name": "stdout",
     "output_type": "stream",
     "text": [
      "\n",
      "📘 Epoch [151/200]\n",
      "  Train MSE Loss:    0.000043\n",
      "  Train SSIM Loss:   0.004761\n",
      "  Train Grad Loss:   0.008240\n",
      "  👉 Total Train Loss:0.004915\n"
     ]
    },
    {
     "name": "stderr",
     "output_type": "stream",
     "text": [
      "Epoch 151/200 - Validating: 100%|██████████| 745/745 [00:22<00:00, 33.13it/s]\n"
     ]
    },
    {
     "name": "stdout",
     "output_type": "stream",
     "text": [
      "  ✅ Validation Loss: 0.006289\n"
     ]
    },
    {
     "name": "stderr",
     "output_type": "stream",
     "text": [
      "Epoch 152/200 - Training: 100%|██████████| 1980/1980 [03:12<00:00, 10.28it/s]\n"
     ]
    },
    {
     "name": "stdout",
     "output_type": "stream",
     "text": [
      "\n",
      "📘 Epoch [152/200]\n",
      "  Train MSE Loss:    0.000044\n",
      "  Train SSIM Loss:   0.004755\n",
      "  Train Grad Loss:   0.008234\n",
      "  👉 Total Train Loss:0.004909\n"
     ]
    },
    {
     "name": "stderr",
     "output_type": "stream",
     "text": [
      "Epoch 152/200 - Validating: 100%|██████████| 745/745 [00:22<00:00, 33.39it/s]\n"
     ]
    },
    {
     "name": "stdout",
     "output_type": "stream",
     "text": [
      "  ✅ Validation Loss: 0.006204\n"
     ]
    },
    {
     "name": "stderr",
     "output_type": "stream",
     "text": [
      "Epoch 153/200 - Training: 100%|██████████| 1980/1980 [03:12<00:00, 10.30it/s]\n"
     ]
    },
    {
     "name": "stdout",
     "output_type": "stream",
     "text": [
      "\n",
      "📘 Epoch [153/200]\n",
      "  Train MSE Loss:    0.000043\n",
      "  Train SSIM Loss:   0.004732\n",
      "  Train Grad Loss:   0.008222\n",
      "  👉 Total Train Loss:0.004887\n"
     ]
    },
    {
     "name": "stderr",
     "output_type": "stream",
     "text": [
      "Epoch 153/200 - Validating: 100%|██████████| 745/745 [00:22<00:00, 33.77it/s]\n"
     ]
    },
    {
     "name": "stdout",
     "output_type": "stream",
     "text": [
      "  ✅ Validation Loss: 0.006203\n"
     ]
    },
    {
     "name": "stderr",
     "output_type": "stream",
     "text": [
      "Epoch 154/200 - Training: 100%|██████████| 1980/1980 [03:12<00:00, 10.26it/s]\n"
     ]
    },
    {
     "name": "stdout",
     "output_type": "stream",
     "text": [
      "\n",
      "📘 Epoch [154/200]\n",
      "  Train MSE Loss:    0.000043\n",
      "  Train SSIM Loss:   0.004727\n",
      "  Train Grad Loss:   0.008216\n",
      "  👉 Total Train Loss:0.004882\n"
     ]
    },
    {
     "name": "stderr",
     "output_type": "stream",
     "text": [
      "Epoch 154/200 - Validating: 100%|██████████| 745/745 [00:22<00:00, 33.83it/s]\n"
     ]
    },
    {
     "name": "stdout",
     "output_type": "stream",
     "text": [
      "  ✅ Validation Loss: 0.006191\n",
      "💾 Best model checkpoint saved.\n"
     ]
    },
    {
     "name": "stderr",
     "output_type": "stream",
     "text": [
      "Epoch 155/200 - Training: 100%|██████████| 1980/1980 [03:17<00:00, 10.01it/s]\n"
     ]
    },
    {
     "name": "stdout",
     "output_type": "stream",
     "text": [
      "\n",
      "📘 Epoch [155/200]\n",
      "  Train MSE Loss:    0.000043\n",
      "  Train SSIM Loss:   0.004723\n",
      "  Train Grad Loss:   0.008210\n",
      "  👉 Total Train Loss:0.004879\n"
     ]
    },
    {
     "name": "stderr",
     "output_type": "stream",
     "text": [
      "Epoch 155/200 - Validating: 100%|██████████| 745/745 [00:21<00:00, 33.99it/s]\n"
     ]
    },
    {
     "name": "stdout",
     "output_type": "stream",
     "text": [
      "  ✅ Validation Loss: 0.006249\n"
     ]
    },
    {
     "name": "stderr",
     "output_type": "stream",
     "text": [
      "Epoch 156/200 - Training: 100%|██████████| 1980/1980 [03:13<00:00, 10.25it/s]\n"
     ]
    },
    {
     "name": "stdout",
     "output_type": "stream",
     "text": [
      "\n",
      "📘 Epoch [156/200]\n",
      "  Train MSE Loss:    0.000042\n",
      "  Train SSIM Loss:   0.004688\n",
      "  Train Grad Loss:   0.008196\n",
      "  👉 Total Train Loss:0.004847\n"
     ]
    },
    {
     "name": "stderr",
     "output_type": "stream",
     "text": [
      "Epoch 156/200 - Validating: 100%|██████████| 745/745 [00:22<00:00, 33.55it/s]\n"
     ]
    },
    {
     "name": "stdout",
     "output_type": "stream",
     "text": [
      "  ✅ Validation Loss: 0.006246\n"
     ]
    },
    {
     "name": "stderr",
     "output_type": "stream",
     "text": [
      "Epoch 157/200 - Training: 100%|██████████| 1980/1980 [03:12<00:00, 10.29it/s]\n"
     ]
    },
    {
     "name": "stdout",
     "output_type": "stream",
     "text": [
      "\n",
      "📘 Epoch [157/200]\n",
      "  Train MSE Loss:    0.000043\n",
      "  Train SSIM Loss:   0.004682\n",
      "  Train Grad Loss:   0.008190\n",
      "  👉 Total Train Loss:0.004842\n"
     ]
    },
    {
     "name": "stderr",
     "output_type": "stream",
     "text": [
      "Epoch 157/200 - Validating: 100%|██████████| 745/745 [00:22<00:00, 33.71it/s]\n"
     ]
    },
    {
     "name": "stdout",
     "output_type": "stream",
     "text": [
      "  ✅ Validation Loss: 0.006123\n",
      "💾 Best model checkpoint saved.\n"
     ]
    },
    {
     "name": "stderr",
     "output_type": "stream",
     "text": [
      "Epoch 158/200 - Training: 100%|██████████| 1980/1980 [03:12<00:00, 10.29it/s]\n"
     ]
    },
    {
     "name": "stdout",
     "output_type": "stream",
     "text": [
      "\n",
      "📘 Epoch [158/200]\n",
      "  Train MSE Loss:    0.000042\n",
      "  Train SSIM Loss:   0.004659\n",
      "  Train Grad Loss:   0.008179\n",
      "  👉 Total Train Loss:0.004821\n"
     ]
    },
    {
     "name": "stderr",
     "output_type": "stream",
     "text": [
      "Epoch 158/200 - Validating: 100%|██████████| 745/745 [00:22<00:00, 33.29it/s]\n"
     ]
    },
    {
     "name": "stdout",
     "output_type": "stream",
     "text": [
      "  ✅ Validation Loss: 0.006085\n",
      "💾 Best model checkpoint saved.\n"
     ]
    },
    {
     "name": "stderr",
     "output_type": "stream",
     "text": [
      "Epoch 159/200 - Training: 100%|██████████| 1980/1980 [03:12<00:00, 10.29it/s]\n"
     ]
    },
    {
     "name": "stdout",
     "output_type": "stream",
     "text": [
      "\n",
      "📘 Epoch [159/200]\n",
      "  Train MSE Loss:    0.000043\n",
      "  Train SSIM Loss:   0.004671\n",
      "  Train Grad Loss:   0.008177\n",
      "  👉 Total Train Loss:0.004831\n"
     ]
    },
    {
     "name": "stderr",
     "output_type": "stream",
     "text": [
      "Epoch 159/200 - Validating: 100%|██████████| 745/745 [00:21<00:00, 34.06it/s]\n"
     ]
    },
    {
     "name": "stdout",
     "output_type": "stream",
     "text": [
      "  ✅ Validation Loss: 0.006143\n"
     ]
    },
    {
     "name": "stderr",
     "output_type": "stream",
     "text": [
      "Epoch 160/200 - Training: 100%|██████████| 1980/1980 [03:12<00:00, 10.31it/s]\n"
     ]
    },
    {
     "name": "stdout",
     "output_type": "stream",
     "text": [
      "\n",
      "📘 Epoch [160/200]\n",
      "  Train MSE Loss:    0.000042\n",
      "  Train SSIM Loss:   0.004645\n",
      "  Train Grad Loss:   0.008166\n",
      "  👉 Total Train Loss:0.004807\n"
     ]
    },
    {
     "name": "stderr",
     "output_type": "stream",
     "text": [
      "Epoch 160/200 - Validating: 100%|██████████| 745/745 [00:21<00:00, 34.01it/s]\n"
     ]
    },
    {
     "name": "stdout",
     "output_type": "stream",
     "text": [
      "  ✅ Validation Loss: 0.006074\n",
      "💾 Best model checkpoint saved.\n"
     ]
    },
    {
     "name": "stderr",
     "output_type": "stream",
     "text": [
      "Epoch 161/200 - Training: 100%|██████████| 1980/1980 [03:12<00:00, 10.29it/s]\n"
     ]
    },
    {
     "name": "stdout",
     "output_type": "stream",
     "text": [
      "\n",
      "📘 Epoch [161/200]\n",
      "  Train MSE Loss:    0.000042\n",
      "  Train SSIM Loss:   0.004630\n",
      "  Train Grad Loss:   0.008157\n",
      "  👉 Total Train Loss:0.004793\n"
     ]
    },
    {
     "name": "stderr",
     "output_type": "stream",
     "text": [
      "Epoch 161/200 - Validating: 100%|██████████| 745/745 [00:22<00:00, 33.65it/s]\n"
     ]
    },
    {
     "name": "stdout",
     "output_type": "stream",
     "text": [
      "  ✅ Validation Loss: 0.006071\n",
      "💾 Best model checkpoint saved.\n"
     ]
    },
    {
     "name": "stderr",
     "output_type": "stream",
     "text": [
      "Epoch 162/200 - Training: 100%|██████████| 1980/1980 [03:12<00:00, 10.29it/s]\n"
     ]
    },
    {
     "name": "stdout",
     "output_type": "stream",
     "text": [
      "\n",
      "📘 Epoch [162/200]\n",
      "  Train MSE Loss:    0.000042\n",
      "  Train SSIM Loss:   0.004618\n",
      "  Train Grad Loss:   0.008149\n",
      "  👉 Total Train Loss:0.004782\n"
     ]
    },
    {
     "name": "stderr",
     "output_type": "stream",
     "text": [
      "Epoch 162/200 - Validating: 100%|██████████| 745/745 [00:21<00:00, 34.12it/s]\n"
     ]
    },
    {
     "name": "stdout",
     "output_type": "stream",
     "text": [
      "  ✅ Validation Loss: 0.006158\n"
     ]
    },
    {
     "name": "stderr",
     "output_type": "stream",
     "text": [
      "Epoch 163/200 - Training: 100%|██████████| 1980/1980 [03:12<00:00, 10.30it/s]\n"
     ]
    },
    {
     "name": "stdout",
     "output_type": "stream",
     "text": [
      "\n",
      "📘 Epoch [163/200]\n",
      "  Train MSE Loss:    0.000042\n",
      "  Train SSIM Loss:   0.004625\n",
      "  Train Grad Loss:   0.008147\n",
      "  👉 Total Train Loss:0.004789\n"
     ]
    },
    {
     "name": "stderr",
     "output_type": "stream",
     "text": [
      "Epoch 163/200 - Validating: 100%|██████████| 745/745 [00:22<00:00, 33.13it/s]\n"
     ]
    },
    {
     "name": "stdout",
     "output_type": "stream",
     "text": [
      "  ✅ Validation Loss: 0.006146\n"
     ]
    },
    {
     "name": "stderr",
     "output_type": "stream",
     "text": [
      "Epoch 164/200 - Training: 100%|██████████| 1980/1980 [03:12<00:00, 10.27it/s]\n"
     ]
    },
    {
     "name": "stdout",
     "output_type": "stream",
     "text": [
      "\n",
      "📘 Epoch [164/200]\n",
      "  Train MSE Loss:    0.000042\n",
      "  Train SSIM Loss:   0.004599\n",
      "  Train Grad Loss:   0.008136\n",
      "  👉 Total Train Loss:0.004765\n"
     ]
    },
    {
     "name": "stderr",
     "output_type": "stream",
     "text": [
      "Epoch 164/200 - Validating: 100%|██████████| 745/745 [00:21<00:00, 34.15it/s]\n"
     ]
    },
    {
     "name": "stdout",
     "output_type": "stream",
     "text": [
      "  ✅ Validation Loss: 0.006121\n"
     ]
    },
    {
     "name": "stderr",
     "output_type": "stream",
     "text": [
      "Epoch 165/200 - Training: 100%|██████████| 1980/1980 [03:12<00:00, 10.29it/s]\n"
     ]
    },
    {
     "name": "stdout",
     "output_type": "stream",
     "text": [
      "\n",
      "📘 Epoch [165/200]\n",
      "  Train MSE Loss:    0.000042\n",
      "  Train SSIM Loss:   0.004587\n",
      "  Train Grad Loss:   0.008128\n",
      "  👉 Total Train Loss:0.004754\n"
     ]
    },
    {
     "name": "stderr",
     "output_type": "stream",
     "text": [
      "Epoch 165/200 - Validating: 100%|██████████| 745/745 [00:22<00:00, 33.41it/s]\n"
     ]
    },
    {
     "name": "stdout",
     "output_type": "stream",
     "text": [
      "  ✅ Validation Loss: 0.006033\n",
      "💾 Best model checkpoint saved.\n"
     ]
    },
    {
     "name": "stderr",
     "output_type": "stream",
     "text": [
      "Epoch 166/200 - Training: 100%|██████████| 1980/1980 [03:12<00:00, 10.31it/s]\n"
     ]
    },
    {
     "name": "stdout",
     "output_type": "stream",
     "text": [
      "\n",
      "📘 Epoch [166/200]\n",
      "  Train MSE Loss:    0.000042\n",
      "  Train SSIM Loss:   0.004575\n",
      "  Train Grad Loss:   0.008120\n",
      "  👉 Total Train Loss:0.004743\n"
     ]
    },
    {
     "name": "stderr",
     "output_type": "stream",
     "text": [
      "Epoch 166/200 - Validating: 100%|██████████| 745/745 [00:21<00:00, 34.09it/s]\n"
     ]
    },
    {
     "name": "stdout",
     "output_type": "stream",
     "text": [
      "  ✅ Validation Loss: 0.006122\n"
     ]
    },
    {
     "name": "stderr",
     "output_type": "stream",
     "text": [
      "Epoch 167/200 - Training: 100%|██████████| 1980/1980 [03:12<00:00, 10.29it/s]\n"
     ]
    },
    {
     "name": "stdout",
     "output_type": "stream",
     "text": [
      "\n",
      "📘 Epoch [167/200]\n",
      "  Train MSE Loss:    0.000042\n",
      "  Train SSIM Loss:   0.004571\n",
      "  Train Grad Loss:   0.008115\n",
      "  👉 Total Train Loss:0.004739\n"
     ]
    },
    {
     "name": "stderr",
     "output_type": "stream",
     "text": [
      "Epoch 167/200 - Validating: 100%|██████████| 745/745 [00:21<00:00, 34.25it/s]\n"
     ]
    },
    {
     "name": "stdout",
     "output_type": "stream",
     "text": [
      "  ✅ Validation Loss: 0.005989\n",
      "💾 Best model checkpoint saved.\n"
     ]
    },
    {
     "name": "stderr",
     "output_type": "stream",
     "text": [
      "Epoch 168/200 - Training: 100%|██████████| 1980/1980 [03:11<00:00, 10.32it/s]\n"
     ]
    },
    {
     "name": "stdout",
     "output_type": "stream",
     "text": [
      "\n",
      "📘 Epoch [168/200]\n",
      "  Train MSE Loss:    0.000042\n",
      "  Train SSIM Loss:   0.004555\n",
      "  Train Grad Loss:   0.008107\n",
      "  👉 Total Train Loss:0.004724\n"
     ]
    },
    {
     "name": "stderr",
     "output_type": "stream",
     "text": [
      "Epoch 168/200 - Validating: 100%|██████████| 745/745 [00:22<00:00, 33.19it/s]\n"
     ]
    },
    {
     "name": "stdout",
     "output_type": "stream",
     "text": [
      "  ✅ Validation Loss: 0.006104\n"
     ]
    },
    {
     "name": "stderr",
     "output_type": "stream",
     "text": [
      "Epoch 169/200 - Training: 100%|██████████| 1980/1980 [03:11<00:00, 10.32it/s]\n"
     ]
    },
    {
     "name": "stdout",
     "output_type": "stream",
     "text": [
      "\n",
      "📘 Epoch [169/200]\n",
      "  Train MSE Loss:    0.000041\n",
      "  Train SSIM Loss:   0.004546\n",
      "  Train Grad Loss:   0.008101\n",
      "  👉 Total Train Loss:0.004715\n"
     ]
    },
    {
     "name": "stderr",
     "output_type": "stream",
     "text": [
      "Epoch 169/200 - Validating: 100%|██████████| 745/745 [00:21<00:00, 34.16it/s]\n"
     ]
    },
    {
     "name": "stdout",
     "output_type": "stream",
     "text": [
      "  ✅ Validation Loss: 0.005959\n",
      "💾 Best model checkpoint saved.\n"
     ]
    },
    {
     "name": "stderr",
     "output_type": "stream",
     "text": [
      "Epoch 170/200 - Training: 100%|██████████| 1980/1980 [03:11<00:00, 10.33it/s]\n"
     ]
    },
    {
     "name": "stdout",
     "output_type": "stream",
     "text": [
      "\n",
      "📘 Epoch [170/200]\n",
      "  Train MSE Loss:    0.000041\n",
      "  Train SSIM Loss:   0.004521\n",
      "  Train Grad Loss:   0.008089\n",
      "  👉 Total Train Loss:0.004693\n"
     ]
    },
    {
     "name": "stderr",
     "output_type": "stream",
     "text": [
      "Epoch 170/200 - Validating: 100%|██████████| 745/745 [00:22<00:00, 33.22it/s]\n"
     ]
    },
    {
     "name": "stdout",
     "output_type": "stream",
     "text": [
      "  ✅ Validation Loss: 0.005967\n"
     ]
    },
    {
     "name": "stderr",
     "output_type": "stream",
     "text": [
      "Epoch 171/200 - Training: 100%|██████████| 1980/1980 [03:11<00:00, 10.32it/s]\n"
     ]
    },
    {
     "name": "stdout",
     "output_type": "stream",
     "text": [
      "\n",
      "📘 Epoch [171/200]\n",
      "  Train MSE Loss:    0.000041\n",
      "  Train SSIM Loss:   0.004529\n",
      "  Train Grad Loss:   0.008087\n",
      "  👉 Total Train Loss:0.004700\n"
     ]
    },
    {
     "name": "stderr",
     "output_type": "stream",
     "text": [
      "Epoch 171/200 - Validating: 100%|██████████| 745/745 [00:21<00:00, 33.98it/s]\n"
     ]
    },
    {
     "name": "stdout",
     "output_type": "stream",
     "text": [
      "  ✅ Validation Loss: 0.005942\n",
      "💾 Best model checkpoint saved.\n"
     ]
    },
    {
     "name": "stderr",
     "output_type": "stream",
     "text": [
      "Epoch 172/200 - Training: 100%|██████████| 1980/1980 [03:12<00:00, 10.27it/s]\n"
     ]
    },
    {
     "name": "stdout",
     "output_type": "stream",
     "text": [
      "\n",
      "📘 Epoch [172/200]\n",
      "  Train MSE Loss:    0.000041\n",
      "  Train SSIM Loss:   0.004505\n",
      "  Train Grad Loss:   0.008076\n",
      "  👉 Total Train Loss:0.004678\n"
     ]
    },
    {
     "name": "stderr",
     "output_type": "stream",
     "text": [
      "Epoch 172/200 - Validating: 100%|██████████| 745/745 [00:22<00:00, 33.49it/s]\n"
     ]
    },
    {
     "name": "stdout",
     "output_type": "stream",
     "text": [
      "  ✅ Validation Loss: 0.005947\n"
     ]
    },
    {
     "name": "stderr",
     "output_type": "stream",
     "text": [
      "Epoch 173/200 - Training: 100%|██████████| 1980/1980 [03:11<00:00, 10.32it/s]\n"
     ]
    },
    {
     "name": "stdout",
     "output_type": "stream",
     "text": [
      "\n",
      "📘 Epoch [173/200]\n",
      "  Train MSE Loss:    0.000041\n",
      "  Train SSIM Loss:   0.004500\n",
      "  Train Grad Loss:   0.008072\n",
      "  👉 Total Train Loss:0.004673\n"
     ]
    },
    {
     "name": "stderr",
     "output_type": "stream",
     "text": [
      "Epoch 173/200 - Validating: 100%|██████████| 745/745 [00:21<00:00, 34.31it/s]\n"
     ]
    },
    {
     "name": "stdout",
     "output_type": "stream",
     "text": [
      "  ✅ Validation Loss: 0.005931\n",
      "💾 Best model checkpoint saved.\n"
     ]
    },
    {
     "name": "stderr",
     "output_type": "stream",
     "text": [
      "Epoch 174/200 - Training: 100%|██████████| 1980/1980 [03:12<00:00, 10.27it/s]\n"
     ]
    },
    {
     "name": "stdout",
     "output_type": "stream",
     "text": [
      "\n",
      "📘 Epoch [174/200]\n",
      "  Train MSE Loss:    0.000041\n",
      "  Train SSIM Loss:   0.004484\n",
      "  Train Grad Loss:   0.008062\n",
      "  👉 Total Train Loss:0.004659\n"
     ]
    },
    {
     "name": "stderr",
     "output_type": "stream",
     "text": [
      "Epoch 174/200 - Validating: 100%|██████████| 745/745 [00:21<00:00, 34.14it/s]\n"
     ]
    },
    {
     "name": "stdout",
     "output_type": "stream",
     "text": [
      "  ✅ Validation Loss: 0.005933\n"
     ]
    },
    {
     "name": "stderr",
     "output_type": "stream",
     "text": [
      "Epoch 175/200 - Training: 100%|██████████| 1980/1980 [03:12<00:00, 10.28it/s]\n"
     ]
    },
    {
     "name": "stdout",
     "output_type": "stream",
     "text": [
      "\n",
      "📘 Epoch [175/200]\n",
      "  Train MSE Loss:    0.000041\n",
      "  Train SSIM Loss:   0.004480\n",
      "  Train Grad Loss:   0.008057\n",
      "  👉 Total Train Loss:0.004654\n"
     ]
    },
    {
     "name": "stderr",
     "output_type": "stream",
     "text": [
      "Epoch 175/200 - Validating: 100%|██████████| 745/745 [00:22<00:00, 33.72it/s]\n"
     ]
    },
    {
     "name": "stdout",
     "output_type": "stream",
     "text": [
      "  ✅ Validation Loss: 0.005916\n",
      "💾 Best model checkpoint saved.\n"
     ]
    },
    {
     "name": "stderr",
     "output_type": "stream",
     "text": [
      "Epoch 176/200 - Training: 100%|██████████| 1980/1980 [03:12<00:00, 10.29it/s]\n"
     ]
    },
    {
     "name": "stdout",
     "output_type": "stream",
     "text": [
      "\n",
      "📘 Epoch [176/200]\n",
      "  Train MSE Loss:    0.000040\n",
      "  Train SSIM Loss:   0.004464\n",
      "  Train Grad Loss:   0.008050\n",
      "  👉 Total Train Loss:0.004639\n"
     ]
    },
    {
     "name": "stderr",
     "output_type": "stream",
     "text": [
      "Epoch 176/200 - Validating: 100%|██████████| 745/745 [00:21<00:00, 34.20it/s]\n"
     ]
    },
    {
     "name": "stdout",
     "output_type": "stream",
     "text": [
      "  ✅ Validation Loss: 0.005865\n",
      "💾 Best model checkpoint saved.\n"
     ]
    },
    {
     "name": "stderr",
     "output_type": "stream",
     "text": [
      "Epoch 177/200 - Training: 100%|██████████| 1980/1980 [03:12<00:00, 10.27it/s]\n"
     ]
    },
    {
     "name": "stdout",
     "output_type": "stream",
     "text": [
      "\n",
      "📘 Epoch [177/200]\n",
      "  Train MSE Loss:    0.000041\n",
      "  Train SSIM Loss:   0.004455\n",
      "  Train Grad Loss:   0.008042\n",
      "  👉 Total Train Loss:0.004631\n"
     ]
    },
    {
     "name": "stderr",
     "output_type": "stream",
     "text": [
      "Epoch 177/200 - Validating: 100%|██████████| 745/745 [00:22<00:00, 33.40it/s]\n"
     ]
    },
    {
     "name": "stdout",
     "output_type": "stream",
     "text": [
      "  ✅ Validation Loss: 0.005851\n",
      "💾 Best model checkpoint saved.\n"
     ]
    },
    {
     "name": "stderr",
     "output_type": "stream",
     "text": [
      "Epoch 178/200 - Training: 100%|██████████| 1980/1980 [03:13<00:00, 10.26it/s]\n"
     ]
    },
    {
     "name": "stdout",
     "output_type": "stream",
     "text": [
      "\n",
      "📘 Epoch [178/200]\n",
      "  Train MSE Loss:    0.000040\n",
      "  Train SSIM Loss:   0.004446\n",
      "  Train Grad Loss:   0.008035\n",
      "  👉 Total Train Loss:0.004623\n"
     ]
    },
    {
     "name": "stderr",
     "output_type": "stream",
     "text": [
      "Epoch 178/200 - Validating: 100%|██████████| 745/745 [00:22<00:00, 32.93it/s]\n"
     ]
    },
    {
     "name": "stdout",
     "output_type": "stream",
     "text": [
      "  ✅ Validation Loss: 0.005870\n"
     ]
    },
    {
     "name": "stderr",
     "output_type": "stream",
     "text": [
      "Epoch 179/200 - Training: 100%|██████████| 1980/1980 [03:13<00:00, 10.26it/s]\n"
     ]
    },
    {
     "name": "stdout",
     "output_type": "stream",
     "text": [
      "\n",
      "📘 Epoch [179/200]\n",
      "  Train MSE Loss:    0.000040\n",
      "  Train SSIM Loss:   0.004435\n",
      "  Train Grad Loss:   0.008028\n",
      "  👉 Total Train Loss:0.004613\n"
     ]
    },
    {
     "name": "stderr",
     "output_type": "stream",
     "text": [
      "Epoch 179/200 - Validating: 100%|██████████| 745/745 [00:21<00:00, 33.88it/s]\n"
     ]
    },
    {
     "name": "stdout",
     "output_type": "stream",
     "text": [
      "  ✅ Validation Loss: 0.005869\n"
     ]
    },
    {
     "name": "stderr",
     "output_type": "stream",
     "text": [
      "Epoch 180/200 - Training: 100%|██████████| 1980/1980 [03:12<00:00, 10.27it/s]\n"
     ]
    },
    {
     "name": "stdout",
     "output_type": "stream",
     "text": [
      "\n",
      "📘 Epoch [180/200]\n",
      "  Train MSE Loss:    0.000040\n",
      "  Train SSIM Loss:   0.004416\n",
      "  Train Grad Loss:   0.008020\n",
      "  👉 Total Train Loss:0.004595\n"
     ]
    },
    {
     "name": "stderr",
     "output_type": "stream",
     "text": [
      "Epoch 180/200 - Validating: 100%|██████████| 745/745 [00:21<00:00, 34.02it/s]\n"
     ]
    },
    {
     "name": "stdout",
     "output_type": "stream",
     "text": [
      "  ✅ Validation Loss: 0.005866\n"
     ]
    },
    {
     "name": "stderr",
     "output_type": "stream",
     "text": [
      "Epoch 181/200 - Training: 100%|██████████| 1980/1980 [03:12<00:00, 10.28it/s]\n"
     ]
    },
    {
     "name": "stdout",
     "output_type": "stream",
     "text": [
      "\n",
      "📘 Epoch [181/200]\n",
      "  Train MSE Loss:    0.000040\n",
      "  Train SSIM Loss:   0.004416\n",
      "  Train Grad Loss:   0.008016\n",
      "  👉 Total Train Loss:0.004595\n"
     ]
    },
    {
     "name": "stderr",
     "output_type": "stream",
     "text": [
      "Epoch 181/200 - Validating: 100%|██████████| 745/745 [00:21<00:00, 34.09it/s]\n"
     ]
    },
    {
     "name": "stdout",
     "output_type": "stream",
     "text": [
      "  ✅ Validation Loss: 0.005853\n"
     ]
    },
    {
     "name": "stderr",
     "output_type": "stream",
     "text": [
      "Epoch 182/200 - Training: 100%|██████████| 1980/1980 [03:12<00:00, 10.28it/s]\n"
     ]
    },
    {
     "name": "stdout",
     "output_type": "stream",
     "text": [
      "\n",
      "📘 Epoch [182/200]\n",
      "  Train MSE Loss:    0.000040\n",
      "  Train SSIM Loss:   0.004415\n",
      "  Train Grad Loss:   0.008012\n",
      "  👉 Total Train Loss:0.004594\n"
     ]
    },
    {
     "name": "stderr",
     "output_type": "stream",
     "text": [
      "Epoch 182/200 - Validating: 100%|██████████| 745/745 [00:21<00:00, 34.30it/s]\n"
     ]
    },
    {
     "name": "stdout",
     "output_type": "stream",
     "text": [
      "  ✅ Validation Loss: 0.005897\n"
     ]
    },
    {
     "name": "stderr",
     "output_type": "stream",
     "text": [
      "Epoch 183/200 - Training: 100%|██████████| 1980/1980 [03:13<00:00, 10.26it/s]\n"
     ]
    },
    {
     "name": "stdout",
     "output_type": "stream",
     "text": [
      "\n",
      "📘 Epoch [183/200]\n",
      "  Train MSE Loss:    0.000040\n",
      "  Train SSIM Loss:   0.004402\n",
      "  Train Grad Loss:   0.008004\n",
      "  👉 Total Train Loss:0.004583\n"
     ]
    },
    {
     "name": "stderr",
     "output_type": "stream",
     "text": [
      "Epoch 183/200 - Validating: 100%|██████████| 745/745 [00:21<00:00, 33.99it/s]\n"
     ]
    },
    {
     "name": "stdout",
     "output_type": "stream",
     "text": [
      "  ✅ Validation Loss: 0.005830\n",
      "💾 Best model checkpoint saved.\n"
     ]
    },
    {
     "name": "stderr",
     "output_type": "stream",
     "text": [
      "Epoch 184/200 - Training: 100%|██████████| 1980/1980 [03:12<00:00, 10.26it/s]\n"
     ]
    },
    {
     "name": "stdout",
     "output_type": "stream",
     "text": [
      "\n",
      "📘 Epoch [184/200]\n",
      "  Train MSE Loss:    0.000040\n",
      "  Train SSIM Loss:   0.004392\n",
      "  Train Grad Loss:   0.007998\n",
      "  👉 Total Train Loss:0.004573\n"
     ]
    },
    {
     "name": "stderr",
     "output_type": "stream",
     "text": [
      "Epoch 184/200 - Validating: 100%|██████████| 745/745 [00:22<00:00, 33.13it/s]\n"
     ]
    },
    {
     "name": "stdout",
     "output_type": "stream",
     "text": [
      "  ✅ Validation Loss: 0.005736\n",
      "💾 Best model checkpoint saved.\n"
     ]
    },
    {
     "name": "stderr",
     "output_type": "stream",
     "text": [
      "Epoch 185/200 - Training: 100%|██████████| 1980/1980 [03:12<00:00, 10.27it/s]\n"
     ]
    },
    {
     "name": "stdout",
     "output_type": "stream",
     "text": [
      "\n",
      "📘 Epoch [185/200]\n",
      "  Train MSE Loss:    0.000040\n",
      "  Train SSIM Loss:   0.004375\n",
      "  Train Grad Loss:   0.007989\n",
      "  👉 Total Train Loss:0.004558\n"
     ]
    },
    {
     "name": "stderr",
     "output_type": "stream",
     "text": [
      "Epoch 185/200 - Validating: 100%|██████████| 745/745 [00:21<00:00, 33.96it/s]\n"
     ]
    },
    {
     "name": "stdout",
     "output_type": "stream",
     "text": [
      "  ✅ Validation Loss: 0.005848\n"
     ]
    },
    {
     "name": "stderr",
     "output_type": "stream",
     "text": [
      "Epoch 186/200 - Training: 100%|██████████| 1980/1980 [03:13<00:00, 10.24it/s]\n"
     ]
    },
    {
     "name": "stdout",
     "output_type": "stream",
     "text": [
      "\n",
      "📘 Epoch [186/200]\n",
      "  Train MSE Loss:    0.000039\n",
      "  Train SSIM Loss:   0.004362\n",
      "  Train Grad Loss:   0.007982\n",
      "  👉 Total Train Loss:0.004545\n"
     ]
    },
    {
     "name": "stderr",
     "output_type": "stream",
     "text": [
      "Epoch 186/200 - Validating: 100%|██████████| 745/745 [00:21<00:00, 33.90it/s]\n"
     ]
    },
    {
     "name": "stdout",
     "output_type": "stream",
     "text": [
      "  ✅ Validation Loss: 0.005787\n"
     ]
    },
    {
     "name": "stderr",
     "output_type": "stream",
     "text": [
      "Epoch 187/200 - Training: 100%|██████████| 1980/1980 [03:12<00:00, 10.28it/s]\n"
     ]
    },
    {
     "name": "stdout",
     "output_type": "stream",
     "text": [
      "\n",
      "📘 Epoch [187/200]\n",
      "  Train MSE Loss:    0.000040\n",
      "  Train SSIM Loss:   0.004362\n",
      "  Train Grad Loss:   0.007979\n",
      "  👉 Total Train Loss:0.004545\n"
     ]
    },
    {
     "name": "stderr",
     "output_type": "stream",
     "text": [
      "Epoch 187/200 - Validating: 100%|██████████| 745/745 [00:21<00:00, 33.92it/s]\n"
     ]
    },
    {
     "name": "stdout",
     "output_type": "stream",
     "text": [
      "  ✅ Validation Loss: 0.005739\n"
     ]
    },
    {
     "name": "stderr",
     "output_type": "stream",
     "text": [
      "Epoch 188/200 - Training: 100%|██████████| 1980/1980 [03:12<00:00, 10.26it/s]\n"
     ]
    },
    {
     "name": "stdout",
     "output_type": "stream",
     "text": [
      "\n",
      "📘 Epoch [188/200]\n",
      "  Train MSE Loss:    0.000039\n",
      "  Train SSIM Loss:   0.004347\n",
      "  Train Grad Loss:   0.007971\n",
      "  👉 Total Train Loss:0.004531\n"
     ]
    },
    {
     "name": "stderr",
     "output_type": "stream",
     "text": [
      "Epoch 188/200 - Validating: 100%|██████████| 745/745 [00:22<00:00, 33.18it/s]\n"
     ]
    },
    {
     "name": "stdout",
     "output_type": "stream",
     "text": [
      "  ✅ Validation Loss: 0.005870\n"
     ]
    },
    {
     "name": "stderr",
     "output_type": "stream",
     "text": [
      "Epoch 189/200 - Training: 100%|██████████| 1980/1980 [03:12<00:00, 10.29it/s]\n"
     ]
    },
    {
     "name": "stdout",
     "output_type": "stream",
     "text": [
      "\n",
      "📘 Epoch [189/200]\n",
      "  Train MSE Loss:    0.000039\n",
      "  Train SSIM Loss:   0.004325\n",
      "  Train Grad Loss:   0.007962\n",
      "  👉 Total Train Loss:0.004511\n"
     ]
    },
    {
     "name": "stderr",
     "output_type": "stream",
     "text": [
      "Epoch 189/200 - Validating: 100%|██████████| 745/745 [00:21<00:00, 34.27it/s]\n"
     ]
    },
    {
     "name": "stdout",
     "output_type": "stream",
     "text": [
      "  ✅ Validation Loss: 0.005879\n"
     ]
    },
    {
     "name": "stderr",
     "output_type": "stream",
     "text": [
      "Epoch 190/200 - Training: 100%|██████████| 1980/1980 [03:12<00:00, 10.28it/s]\n"
     ]
    },
    {
     "name": "stdout",
     "output_type": "stream",
     "text": [
      "\n",
      "📘 Epoch [190/200]\n",
      "  Train MSE Loss:    0.000040\n",
      "  Train SSIM Loss:   0.004348\n",
      "  Train Grad Loss:   0.007963\n",
      "  👉 Total Train Loss:0.004532\n"
     ]
    },
    {
     "name": "stderr",
     "output_type": "stream",
     "text": [
      "Epoch 190/200 - Validating: 100%|██████████| 745/745 [00:21<00:00, 33.91it/s]\n"
     ]
    },
    {
     "name": "stdout",
     "output_type": "stream",
     "text": [
      "  ✅ Validation Loss: 0.006123\n"
     ]
    },
    {
     "name": "stderr",
     "output_type": "stream",
     "text": [
      "Epoch 191/200 - Training: 100%|██████████| 1980/1980 [03:13<00:00, 10.23it/s]\n"
     ]
    },
    {
     "name": "stdout",
     "output_type": "stream",
     "text": [
      "\n",
      "📘 Epoch [191/200]\n",
      "  Train MSE Loss:    0.000039\n",
      "  Train SSIM Loss:   0.004317\n",
      "  Train Grad Loss:   0.007952\n",
      "  👉 Total Train Loss:0.004504\n"
     ]
    },
    {
     "name": "stderr",
     "output_type": "stream",
     "text": [
      "Epoch 191/200 - Validating: 100%|██████████| 745/745 [00:21<00:00, 34.24it/s]\n"
     ]
    },
    {
     "name": "stdout",
     "output_type": "stream",
     "text": [
      "  ✅ Validation Loss: 0.005740\n"
     ]
    },
    {
     "name": "stderr",
     "output_type": "stream",
     "text": [
      "Epoch 192/200 - Training: 100%|██████████| 1980/1980 [03:13<00:00, 10.23it/s]\n"
     ]
    },
    {
     "name": "stdout",
     "output_type": "stream",
     "text": [
      "\n",
      "📘 Epoch [192/200]\n",
      "  Train MSE Loss:    0.000039\n",
      "  Train SSIM Loss:   0.004307\n",
      "  Train Grad Loss:   0.007945\n",
      "  👉 Total Train Loss:0.004494\n"
     ]
    },
    {
     "name": "stderr",
     "output_type": "stream",
     "text": [
      "Epoch 192/200 - Validating: 100%|██████████| 745/745 [00:21<00:00, 34.12it/s]\n"
     ]
    },
    {
     "name": "stdout",
     "output_type": "stream",
     "text": [
      "  ✅ Validation Loss: 0.005790\n"
     ]
    },
    {
     "name": "stderr",
     "output_type": "stream",
     "text": [
      "Epoch 193/200 - Training: 100%|██████████| 1980/1980 [03:12<00:00, 10.27it/s]\n"
     ]
    },
    {
     "name": "stdout",
     "output_type": "stream",
     "text": [
      "\n",
      "📘 Epoch [193/200]\n",
      "  Train MSE Loss:    0.000039\n",
      "  Train SSIM Loss:   0.004303\n",
      "  Train Grad Loss:   0.007941\n",
      "  👉 Total Train Loss:0.004491\n"
     ]
    },
    {
     "name": "stderr",
     "output_type": "stream",
     "text": [
      "Epoch 193/200 - Validating: 100%|██████████| 745/745 [00:22<00:00, 33.24it/s]\n"
     ]
    },
    {
     "name": "stdout",
     "output_type": "stream",
     "text": [
      "  ✅ Validation Loss: 0.005724\n",
      "💾 Best model checkpoint saved.\n"
     ]
    },
    {
     "name": "stderr",
     "output_type": "stream",
     "text": [
      "Epoch 194/200 - Training: 100%|██████████| 1980/1980 [03:13<00:00, 10.24it/s]\n"
     ]
    },
    {
     "name": "stdout",
     "output_type": "stream",
     "text": [
      "\n",
      "📘 Epoch [194/200]\n",
      "  Train MSE Loss:    0.000039\n",
      "  Train SSIM Loss:   0.004301\n",
      "  Train Grad Loss:   0.007937\n",
      "  👉 Total Train Loss:0.004489\n"
     ]
    },
    {
     "name": "stderr",
     "output_type": "stream",
     "text": [
      "Epoch 194/200 - Validating: 100%|██████████| 745/745 [00:21<00:00, 34.01it/s]\n"
     ]
    },
    {
     "name": "stdout",
     "output_type": "stream",
     "text": [
      "  ✅ Validation Loss: 0.005746\n"
     ]
    },
    {
     "name": "stderr",
     "output_type": "stream",
     "text": [
      "Epoch 195/200 - Training: 100%|██████████| 1980/1980 [03:13<00:00, 10.22it/s]\n"
     ]
    },
    {
     "name": "stdout",
     "output_type": "stream",
     "text": [
      "\n",
      "📘 Epoch [195/200]\n",
      "  Train MSE Loss:    0.000039\n",
      "  Train SSIM Loss:   0.004291\n",
      "  Train Grad Loss:   0.007931\n",
      "  👉 Total Train Loss:0.004479\n"
     ]
    },
    {
     "name": "stderr",
     "output_type": "stream",
     "text": [
      "Epoch 195/200 - Validating: 100%|██████████| 745/745 [00:21<00:00, 34.19it/s]\n"
     ]
    },
    {
     "name": "stdout",
     "output_type": "stream",
     "text": [
      "  ✅ Validation Loss: 0.005737\n"
     ]
    },
    {
     "name": "stderr",
     "output_type": "stream",
     "text": [
      "Epoch 196/200 - Training: 100%|██████████| 1980/1980 [03:12<00:00, 10.28it/s]\n"
     ]
    },
    {
     "name": "stdout",
     "output_type": "stream",
     "text": [
      "\n",
      "📘 Epoch [196/200]\n",
      "  Train MSE Loss:    0.000038\n",
      "  Train SSIM Loss:   0.004270\n",
      "  Train Grad Loss:   0.007921\n",
      "  👉 Total Train Loss:0.004460\n"
     ]
    },
    {
     "name": "stderr",
     "output_type": "stream",
     "text": [
      "Epoch 196/200 - Validating: 100%|██████████| 745/745 [00:22<00:00, 33.22it/s]\n"
     ]
    },
    {
     "name": "stdout",
     "output_type": "stream",
     "text": [
      "  ✅ Validation Loss: 0.005753\n"
     ]
    },
    {
     "name": "stderr",
     "output_type": "stream",
     "text": [
      "Epoch 197/200 - Training: 100%|██████████| 1980/1980 [03:12<00:00, 10.28it/s]\n"
     ]
    },
    {
     "name": "stdout",
     "output_type": "stream",
     "text": [
      "\n",
      "📘 Epoch [197/200]\n",
      "  Train MSE Loss:    0.000039\n",
      "  Train SSIM Loss:   0.004276\n",
      "  Train Grad Loss:   0.007920\n",
      "  👉 Total Train Loss:0.004465\n"
     ]
    },
    {
     "name": "stderr",
     "output_type": "stream",
     "text": [
      "Epoch 197/200 - Validating: 100%|██████████| 745/745 [00:21<00:00, 34.05it/s]\n"
     ]
    },
    {
     "name": "stdout",
     "output_type": "stream",
     "text": [
      "  ✅ Validation Loss: 0.005944\n"
     ]
    },
    {
     "name": "stderr",
     "output_type": "stream",
     "text": [
      "Epoch 198/200 - Training: 100%|██████████| 1980/1980 [03:12<00:00, 10.26it/s]\n"
     ]
    },
    {
     "name": "stdout",
     "output_type": "stream",
     "text": [
      "\n",
      "📘 Epoch [198/200]\n",
      "  Train MSE Loss:    0.000039\n",
      "  Train SSIM Loss:   0.004259\n",
      "  Train Grad Loss:   0.007911\n",
      "  👉 Total Train Loss:0.004450\n"
     ]
    },
    {
     "name": "stderr",
     "output_type": "stream",
     "text": [
      "Epoch 198/200 - Validating: 100%|██████████| 745/745 [00:21<00:00, 34.09it/s]\n"
     ]
    },
    {
     "name": "stdout",
     "output_type": "stream",
     "text": [
      "  ✅ Validation Loss: 0.005806\n"
     ]
    },
    {
     "name": "stderr",
     "output_type": "stream",
     "text": [
      "Epoch 199/200 - Training: 100%|██████████| 1980/1980 [03:15<00:00, 10.11it/s]\n"
     ]
    },
    {
     "name": "stdout",
     "output_type": "stream",
     "text": [
      "\n",
      "📘 Epoch [199/200]\n",
      "  Train MSE Loss:    0.000039\n",
      "  Train SSIM Loss:   0.004263\n",
      "  Train Grad Loss:   0.007908\n",
      "  👉 Total Train Loss:0.004453\n"
     ]
    },
    {
     "name": "stderr",
     "output_type": "stream",
     "text": [
      "Epoch 199/200 - Validating: 100%|██████████| 745/745 [00:22<00:00, 32.67it/s]\n"
     ]
    },
    {
     "name": "stdout",
     "output_type": "stream",
     "text": [
      "  ✅ Validation Loss: 0.005680\n",
      "💾 Best model checkpoint saved.\n"
     ]
    },
    {
     "name": "stderr",
     "output_type": "stream",
     "text": [
      "Epoch 200/200 - Training: 100%|██████████| 1980/1980 [03:14<00:00, 10.16it/s]\n"
     ]
    },
    {
     "name": "stdout",
     "output_type": "stream",
     "text": [
      "\n",
      "📘 Epoch [200/200]\n",
      "  Train MSE Loss:    0.000038\n",
      "  Train SSIM Loss:   0.004232\n",
      "  Train Grad Loss:   0.007897\n",
      "  👉 Total Train Loss:0.004424\n"
     ]
    },
    {
     "name": "stderr",
     "output_type": "stream",
     "text": [
      "Epoch 200/200 - Validating: 100%|██████████| 745/745 [00:22<00:00, 33.69it/s]"
     ]
    },
    {
     "name": "stdout",
     "output_type": "stream",
     "text": [
      "  ✅ Validation Loss: 0.005706\n",
      "\n",
      "🎉 Training complete. All losses and best model saved.\n"
     ]
    },
    {
     "name": "stderr",
     "output_type": "stream",
     "text": [
      "\n"
     ]
    }
   ],
   "source": [
    "# Start training\n",
    "device = 'cuda' if torch.cuda.is_available() else 'cpu'\n",
    "model = EnhancedHybridMamba(img_size=256)\n",
    "\n",
    "train_loader, val_loader = get_dataloaders(data_dir='dataset', batch_size=4)\n",
    "train_validate_model(model, train_loader, val_loader, epochs=200, lr=1e-4, device=device)\n"
   ]
  },
  {
   "cell_type": "code",
   "execution_count": 12,
   "id": "b350757e",
   "metadata": {
    "scrolled": true
   },
   "outputs": [
    {
     "data": {
      "image/png": "[encoded data removed]",
      "text/plain": [
       "<Figure size 864x432 with 1 Axes>"
      ]
     },
     "metadata": {
      "needs_background": "light"
     },
     "output_type": "display_data"
    },
    {
     "data": {
      "image/png": "[encoded data removed]",
      "text/plain": [
       "<Figure size 720x360 with 1 Axes>"
      ]
     },
     "metadata": {
      "needs_background": "light"
     },
     "output_type": "display_data"
    }
   ],
   "source": [
    "import matplotlib.pyplot as plt\n",
    "import pandas as pd\n",
    "\n",
    "file_path = \"checkpoints/loss_details.txt\"  # Update the path if needed\n",
    "data = pd.read_csv(file_path, sep='\\t')\n",
    "\n",
    "plt.figure(figsize=(12, 6))\n",
    "plt.plot(data['Epoch'], data['Train_MSE'], label='Train MSE')\n",
    "plt.plot(data['Epoch'], data['Train_SSIM'], label='Train SSIM')\n",
    "plt.plot(data['Epoch'], data['Train_Grad'], label='Train Grad')\n",
    "plt.xlabel(\"Epoch\")\n",
    "plt.ylabel(\"Loss\")\n",
    "plt.title(\"Individual Training Loss Components Over Epochs\")\n",
    "plt.legend()\n",
    "plt.grid(True)\n",
    "plt.tight_layout()\n",
    "plt.savefig(\"checkpoints/individual_losses_curve.png\")\n",
    "plt.show()\n",
    "\n",
    "plt.figure(figsize=(10, 5))\n",
    "plt.plot(data['Epoch'], data['Total_Train_Loss'], label='Total Train Loss')\n",
    "plt.plot(data['Epoch'], data['Val_Loss'], label='Validation Loss')\n",
    "plt.xlabel(\"Epoch\")\n",
    "plt.ylabel(\"Loss\")\n",
    "plt.title(\"Total Training Loss vs Validation Loss\")\n",
    "plt.legend()\n",
    "plt.grid(True)\n",
    "plt.tight_layout()\n",
    "plt.savefig(\"checkpoints/train_val_loss_curve.png\")\n",
    "plt.show()\n"
   ]
  },
  {
   "cell_type": "code",
   "execution_count": null,
   "id": "1a960833",
   "metadata": {},
   "outputs": [],
   "source": []
  }
 ],
 "metadata": {
  "kernelspec": {
   "display_name": "Python 3",
   "language": "python",
   "name": "python3"
  },
  "language_info": {
   "codemirror_mode": {
    "name": "ipython",
    "version": 3
   },
   "file_extension": ".py",
   "mimetype": "text/x-python",
   "name": "python",
   "nbconvert_exporter": "python",
   "pygments_lexer": "ipython3",
   "version": "3.6.13"
  }
 },
 "nbformat": 4,
 "nbformat_minor": 5
}
